{
 "cells": [
  {
   "cell_type": "code",
   "execution_count": 9,
   "id": "f0e4fe75",
   "metadata": {},
   "outputs": [],
   "source": [
    "import numpy as np\n",
    "import pandas as pd\n",
    "from scipy import optimize\n",
    "import matplotlib.pyplot as plt\n",
    "import seaborn as sns\n",
    "from numpy.random import default_rng\n",
    "\n",
    "import simpy"
   ]
  },
  {
   "cell_type": "markdown",
   "id": "0c195251",
   "metadata": {},
   "source": [
    "## Improving our initial vaccine clinic model\n",
    "\n",
    "Now that we have a rough first model working, let's think about some possible improvements. There are many as we've taken numerous shortcuts to get this model working.\n",
    "\n",
    "* Specifying the global sim inputs through configuration files\n",
    "* Getting rid of hard coded processing time distributions\n",
    "* Having ability to choose between pure random walk-in arrivals and scheduled arrivals\n",
    "* Multiple replications and/or steady state analysis\n",
    "* Detailed logging\n",
    "* Statistical summaries based on timestamp data [roughly done]\n",
    "* CLI for running\n",
    "* Animation\n"
   ]
  },
  {
   "cell_type": "markdown",
   "id": "fce45bed",
   "metadata": {},
   "source": [
    "## Redesign for easier use\n",
    "\n",
    "### Hard coded input parameters\n",
    "\n",
    "The current version of the model has many hard coded input parameters, including:\n",
    "\n",
    "* patient arrival rate,\n",
    "* percent of patients requiring 2nd dose,\n",
    "* capacity of the various resources (e.g. vaccinators),\n",
    "* processing time distributions for the various stages of the vaccination process,\n",
    "* length of time patient needs to remain in observation after being vaccinated (i.e. the 15 minutes),\n",
    "* length of time to run the simulation model.\n",
    "\n",
    "This makes it cumbersome to try out different scenarios relating to patient volume and resource capacity.\n",
    "\n",
    "### Better post-processing\n",
    "\n",
    "We should make it easy to specify that some post-processing should just happen automatically. In general, we want better control over post-processing and think through how we want to create and store output files.\n",
    "\n",
    "### Moving code from Jupyter notebook to a Python script\n",
    "\n",
    "As our code grows, working inside a Jupyter notebook becomes less practical. It's fine for testing out little code snippets, but the production code should be in a `.py` file and we should use an IDE for further development. I've already used the Jupyter notebook export feature to export Model 3 to `vaccine_clinic_model4.py` that we'll use as the basis for further development.\n",
    "\n",
    "### Adding a command line interface\n",
    "\n",
    "By moving the code to a `.py` file, it will also be easier to add and use a simple command line interface. This will be useful for automating the process of running numerous scenarios.\n"
   ]
  },
  {
   "cell_type": "markdown",
   "id": "41f73094",
   "metadata": {},
   "source": [
    "## Creating a config file for input parameters (and creating a CLI)\n",
    "\n",
    "These two enhancements are actually related and we'll address them together. Instead of hard coding input parameter values into our code, we could store them in a simple configuration file. Before getting into configuration files, we need to step back and review passing command line arguments to Python scripts."
   ]
  },
  {
   "cell_type": "markdown",
   "id": "6f4b87d0",
   "metadata": {},
   "source": [
    "### Basic handling of command line arguments (learning about `argv`)\n",
    "\n",
    "Back in the pcda class, we used some materials from the [Software Carpentry Python Programming lesson](). There were several parts that we left as optional, including the last part on [Command Line Programs](https://swcarpentry.github.io/python-novice-inflammation/12-cmdline/index.html). I highly encourage you to review that first. \n",
    "\n",
    "**Bottom line:** `sys.argv` is a list of command line arguments passed to a Python program when running the program."
   ]
  },
  {
   "cell_type": "markdown",
   "id": "62a7d3c1",
   "metadata": {},
   "source": [
    "Let's create a small program that takes a few command line arguments and just repeats them back when the program is run. Here's what the program looks like. I've saved it as `echo_args.py`. We'll interpret the command line arguments as follows:\n",
    "\n",
    "1. mean interarrival times of patients\n",
    "2. number of greeters\n",
    "3. number of registration staff\n",
    "4. number of vaccinators\n",
    "5. number of schedulers\n",
    "\n",
    "We call these *positional arguments* in that our program will infer the meaning of each passed in argument from its position on the command line."
   ]
  },
  {
   "cell_type": "code",
   "execution_count": null,
   "id": "d1d30411",
   "metadata": {},
   "outputs": [],
   "source": [
    "# echo_args.py\n",
    "import sys\n",
    "\n",
    "def main():\n",
    "    print(f\"Command line args: {sys.argv}\\n\")\n",
    "\n",
    "    for i, arg in enumerate(sys.argv):\n",
    "            print(f\"sys.argv[{i}]: {arg}\")\n",
    "\n",
    "if __name__ == '__main__':\n",
    "   main()"
   ]
  },
  {
   "cell_type": "code",
   "execution_count": 1,
   "id": "8b13586b",
   "metadata": {},
   "outputs": [
    {
     "data": {
      "text/plain": [
       "'__main__'"
      ]
     },
     "execution_count": 1,
     "metadata": {},
     "output_type": "execute_result"
    }
   ],
   "source": [
    "__name__"
   ]
  },
  {
   "cell_type": "markdown",
   "id": "10d2c695",
   "metadata": {},
   "source": [
    "If you've forgotten what the purpose of the following is:\n",
    "\n",
    "```\n",
    "if __name__ == '__main__':\n",
    "```\n",
    "\n",
    "then, make sure you review the [Command Line Programs](https://swcarpentry.github.io/python-novice-inflammation/12-cmdline/index.html) mentioned above. In a nutshell, when a Python program is run (as opposed to being imported), the special Python variable `__name__` is equal to `'__main__'`. When a Python program is imported, `__name__` is equal to the name of the module. So, the code snippet above is often included so that a Python program can be both run and imported.\n",
    "\n",
    "Also notice the use of `enumerate` with `sys.argv` which allows us to get both the index and argument value from the `sys.argv` list - no need to make our own index loop."
   ]
  },
  {
   "cell_type": "code",
   "execution_count": 11,
   "id": "b8495dc4",
   "metadata": {},
   "outputs": [
    {
     "name": "stdout",
     "output_type": "stream",
     "text": [
      "Command line args: ['../src/vaccine_clinic/echo_args.py', '3.0', '2', '4', '15', '4']\n",
      "\n",
      "sys.argv[0]: ../src/vaccine_clinic/echo_args.py\n",
      "sys.argv[1]: 3.0\n",
      "sys.argv[2]: 2\n",
      "sys.argv[3]: 4\n",
      "sys.argv[4]: 15\n",
      "sys.argv[5]: 4\n"
     ]
    }
   ],
   "source": [
    "!python ../src/vaccine_clinic/echo_args.py 3.0 2 4 15 4"
   ]
  },
  {
   "cell_type": "markdown",
   "id": "986671f0",
   "metadata": {},
   "source": [
    "So, `sys.argv` is a list of the command line arguments passed in to `echo_args.py`. Note that `sys.argv[0]` is just the name of the program itself, including the relative path from this working directory to the program file. At this point, our program doesn't do any checking of the presence or validity of the input arguments. It just prints back out whatever values we input on the command line. If all of these arguments were required, we could add a check like this:"
   ]
  },
  {
   "cell_type": "code",
   "execution_count": 2,
   "id": "a3d7f558",
   "metadata": {
    "tags": []
   },
   "outputs": [
    {
     "name": "stdout",
     "output_type": "stream",
     "text": [
      "Command line args: ['C:\\\\Users\\\\isken\\\\Anaconda3\\\\envs\\\\aap\\\\lib\\\\site-packages\\\\ipykernel_launcher.py', '-f', 'C:\\\\Users\\\\isken\\\\AppData\\\\Roaming\\\\jupyter\\\\runtime\\\\kernel-012eae39-d6c6-4fff-9e76-b5148246eb6a.json']\n",
      "\n",
      "Five args required, only 2 specified.\n",
      "sys.argv[0]: C:\\Users\\isken\\Anaconda3\\envs\\aap\\lib\\site-packages\\ipykernel_launcher.py\n",
      "sys.argv[1]: -f\n",
      "sys.argv[2]: C:\\Users\\isken\\AppData\\Roaming\\jupyter\\runtime\\kernel-012eae39-d6c6-4fff-9e76-b5148246eb6a.json\n"
     ]
    }
   ],
   "source": [
    "# echo_args.py\n",
    "import sys\n",
    "\n",
    "def main():\n",
    "    print(f\"Command line args: {sys.argv}\\n\")\n",
    "\n",
    "    if len(sys.argv) != 6:\n",
    "        print(f\"Five args required, only {len(sys.argv) - 1} specified.\")\n",
    "        exit(1)\n",
    "\n",
    "    for i, arg in enumerate(sys.argv):\n",
    "            print(f\"sys.argv[{i}]: {arg}\")\n",
    "\n",
    "if __name__ == '__main__':\n",
    "   main()"
   ]
  },
  {
   "cell_type": "code",
   "execution_count": 3,
   "id": "5a04bee9",
   "metadata": {
    "tags": []
   },
   "outputs": [
    {
     "name": "stdout",
     "output_type": "stream",
     "text": [
      "Command line args: ['../src/vaccine_clinic/echo_args.py', '3.0', '2', '4']\n",
      "\n",
      "Five positional args required, only 3 specified.\n"
     ]
    }
   ],
   "source": [
    "!python ../src/vaccine_clinic/echo_args.py 3.0 2 4"
   ]
  },
  {
   "cell_type": "markdown",
   "id": "1e3bb323",
   "metadata": {},
   "source": [
    "The example above is highly simplified and the world of command line arguments and command line processing, known as *argument parsing*, is much richer than this. Not only do we have *arguments* such as in this example, we also might have *options* (also called *flags*). In the pcda class we saw this when using things like the `ls` command:\n",
    "\n",
    "```\n",
    "ls -l -a\n",
    "```\n",
    "\n",
    "We might want to define options for our Python program. These options might appear in any order, if at all. Furthermore,\n",
    "by convention there are short form flags that start with a single `-` such as `-a` in the example above, and long form options that start with `--` such as `--version`. Often we can use either a short or long form option such as `-h` or `--help`. "
   ]
  },
  {
   "cell_type": "markdown",
   "id": "ca0b3292",
   "metadata": {},
   "source": [
    "Before checking out argument parsing tools, let's do it ourselves for the following simple case. Let's assume we just want the following command line options. They can be in any order but each must be followed by a numeric value for that option. So,\n",
    "`argv[i]` will be one of the following for odd values of `i` and `argv[i + 1]` will be the corresponding value.\n",
    "\n",
    "* `--iat` : mean patient interarrival time\n",
    "* `--greet` : number of greeters\n",
    "* `--reg` : number of registration clerks\n",
    "* `--vacc` : number of vaccinators\n",
    "* `--sched` : number of schedulers\n",
    "\n",
    "The following is just a code snippet to illustrate how one might get the input values using standard Python. Once we have the input values, we could pass them on to other parts of our simulation model. Notice that this code doesn't do any input validity checking other than checking for invalid option names. The user input values are stored in a dictionary and this code just prints out that dictionary."
   ]
  },
  {
   "cell_type": "code",
   "execution_count": 4,
   "id": "904386ff",
   "metadata": {},
   "outputs": [
    {
     "name": "stdout",
     "output_type": "stream",
     "text": [
      "{'mean_interarrival_time': 0.0, 'num_greeters': 0, 'num_reg_staff': 0, 'num_vaccinators': 0, 'num_schedulers': 0}\n"
     ]
    }
   ],
   "source": [
    "# get_option_values.py\n",
    "import sys\n",
    "\n",
    "def main():\n",
    "\n",
    "    input_params = {'mean_interarrival_time': 0.0,\n",
    "                    'num_greeters': 0,\n",
    "                    'num_reg_staff': 0,\n",
    "                    'num_vaccinators': 0,\n",
    "                    'num_schedulers': 0}\n",
    "\n",
    "\n",
    "    for i, arg in enumerate(sys.argv):\n",
    "        if arg.startswith('--') and i % 2 > 0:\n",
    "            if sys.argv[i] == '--iat':\n",
    "                input_params['mean_interarrival_time'] = sys.argv[i + 1]\n",
    "            elif sys.argv[i] == '--greet':\n",
    "                input_params['num_greeters'] = sys.argv[i + 1]\n",
    "            elif sys.argv[i] == '--reg':\n",
    "                input_params['num_reg_staff'] = sys.argv[i + 1]\n",
    "            elif sys.argv[i] == '--vacc':\n",
    "                input_params['num_vaccinators'] = sys.argv[i + 1]\n",
    "            elif sys.argv[i] == '--sched':\n",
    "                input_params['num_schedulers'] = sys.argv[i + 1]\n",
    "            else:\n",
    "                print(f\"Unrecognized argument: {sys.argv[i]}\")\n",
    "\n",
    "    print(input_params)\n",
    "\n",
    "if __name__ == '__main__':\n",
    "   main()"
   ]
  },
  {
   "cell_type": "code",
   "execution_count": 5,
   "id": "8935acda",
   "metadata": {},
   "outputs": [
    {
     "name": "stdout",
     "output_type": "stream",
     "text": [
      "{'mean_interarrival_time': '3.0', 'num_greeters': '2', 'num_reg_staff': '4', 'num_vaccinators': '15', 'num_schedulers': '4'}\n"
     ]
    }
   ],
   "source": [
    "!python ../src/vaccine_clinic/get_option_values.py --iat 3.0 --greet 2 --reg 4 --vacc 15 --sched 4"
   ]
  },
  {
   "cell_type": "markdown",
   "id": "fb651cd5",
   "metadata": {},
   "source": [
    "Here we change the order and include one bad option."
   ]
  },
  {
   "cell_type": "code",
   "execution_count": 6,
   "id": "565a490e",
   "metadata": {},
   "outputs": [
    {
     "name": "stdout",
     "output_type": "stream",
     "text": [
      "Unrecognized argument: --schedulers\n",
      "{'mean_interarrival_time': '3.0', 'num_greeters': '2', 'num_reg_staff': '4', 'num_vaccinators': '15', 'num_schedulers': 0}\n"
     ]
    }
   ],
   "source": [
    "!python ../src/vaccine_clinic/get_option_values.py --vacc 15 --iat 3.0 --greet 2 --reg 4 --schedulers 4"
   ]
  },
  {
   "cell_type": "markdown",
   "id": "de402796",
   "metadata": {},
   "source": [
    "#### Learning more about command line arguments\n",
    "If you are interested in a deeper dive into command line arguments, check out this tutorial done by the folks at Real Python:\n",
    "\n",
    "* [Python Command Line Arguments](https://realpython.com/python-command-line-arguments/)"
   ]
  },
  {
   "cell_type": "markdown",
   "id": "d7a4c68c",
   "metadata": {},
   "source": [
    "### Tools for argument parsing and building CLI's."
   ]
  },
  {
   "cell_type": "markdown",
   "id": "64227f89",
   "metadata": {},
   "source": [
    "Clearly, it is going to be (potentially) difficult to deal with all the complexity of command line *argument parsing* manually by checking all the values in the `sys.argv` list. Thankfully, there are numerous tools for doing command line argument parsing and helping us create command line interfaces for our Python programs. Some of these tools include:\n",
    "\n",
    "* [argparse](https://docs.python.org/3/library/argparse.html) - part of the Python standard library\n",
    "* [click](https://click.palletsprojects.com/en/7.x/) - a popular library for CLIs that uses [function decorators]()\n",
    "* [fire](https://github.com/google/python-fire) - a newer CLI tool\n",
    "\n",
    "For our simulation model, we'll use `argparse` to build our CLI since it's built in to Python and is a good thing to learn if you are new to creating CLIs. It's plenty powerful enough for our simple application. Some learning resources for `argparse` include:\n",
    "\n",
    "* [A \"gentle\" argparse tutorial](https://docs.python.org/3/howto/argparse.html#id1)\n",
    "* https://docs.python.org/3/library/argparse.html - the official docs\n",
    "* https://realpython.com/command-line-interfaces-python-argparse/ - tutorial from Real Python (different that the one on Command Line Arguments mentioned above - this one focuses on argparse)"
   ]
  },
  {
   "cell_type": "markdown",
   "id": "3aff5f4d",
   "metadata": {},
   "source": [
    "### Creating a CLI with argparse\n",
    "As discussed in the tutorials above, there are four main steps to creating a CLI with argparse.\n",
    "\n",
    "1. Import the argparse library\n",
    "2. Create a parser object\n",
    "3. Add arguments of the desired types to the parser\n",
    "4. Use it by calling the `arg_parse` method of the parser object\n",
    "\n",
    "After calling `arg_parse` you'll get what is known as a [Namespace object](https://docs.python.org/dev/library/argparse.html#argparse.Namespace).\n",
    "\n",
    "I rewrote the `echo_args.py` example using argparse. You can find it in `echo_args_argparse.py`. It just prints out `args` (the Namespace object) and `vars(args)` which gives a dictionary version of the arguments and their values."
   ]
  },
  {
   "cell_type": "code",
   "execution_count": 13,
   "id": "7e541af7",
   "metadata": {},
   "outputs": [
    {
     "name": "stdout",
     "output_type": "stream",
     "text": [
      "args:  Namespace(greet=2, iat=3.0, reg=4, sched=4, vacc=15)\n",
      "vars(args): {'iat': 3.0, 'greet': 2, 'reg': 4, 'vacc': 15, 'sched': 4}\n"
     ]
    }
   ],
   "source": [
    "!python ../src/vaccine_clinic/test_argparse.py --iat 3.0 --greet 2 --reg 4 --vacc 15 --sched 4"
   ]
  },
  {
   "cell_type": "markdown",
   "id": "dd861dc0",
   "metadata": {},
   "source": [
    "Now that we've got a basic grasp of creating a simple CLI, we will do all further development on this model in the `vaccine_clinic_model4.py`. "
   ]
  },
  {
   "cell_type": "code",
   "execution_count": null,
   "id": "fce4cbf7",
   "metadata": {},
   "outputs": [],
   "source": []
  }
 ],
 "metadata": {
  "kernelspec": {
   "display_name": "Python 3",
   "language": "python",
   "name": "python3"
  },
  "language_info": {
   "codemirror_mode": {
    "name": "ipython",
    "version": 3
   },
   "file_extension": ".py",
   "mimetype": "text/x-python",
   "name": "python",
   "nbconvert_exporter": "python",
   "pygments_lexer": "ipython3",
   "version": "3.7.10"
  }
 },
 "nbformat": 4,
 "nbformat_minor": 5
}
