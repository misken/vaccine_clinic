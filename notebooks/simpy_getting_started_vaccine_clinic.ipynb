{
 "cells": [
  {
   "cell_type": "code",
   "execution_count": 141,
   "id": "c90f2012",
   "metadata": {
    "tags": []
   },
   "outputs": [],
   "source": [
    "import math\n",
    "import numpy as np\n",
    "import pandas as pd\n",
    "from scipy import optimize\n",
    "import matplotlib.pyplot as plt\n",
    "import seaborn as sns\n",
    "from numpy.random import default_rng\n",
    "from IPython.display import Image\n",
    "import simpy"
   ]
  },
  {
   "cell_type": "markdown",
   "id": "b10fc4e2",
   "metadata": {},
   "source": [
    "# Using discrete event simulation to help plan a vaccine clinic\n",
    "\n",
    "Discrete event simulation (DES) is a well established technique for building simulation models of systems characterized by:\n",
    "\n",
    "* events that happen at discrete points in time (e.g. the arrival of a patient to the vaccine clinic, the completion of the vaccine injection),\n",
    "* uncertainty in the timing and duration of events (patient show up somewhat randomly even if they have a scheduled appointment, the time to register might depend on various patient characteristics),\n",
    "* entities (e.g. patients) that flow through a system, \n",
    "* contention for resources (patients will wait to at various stages of their vaccine visit to wait for resources such as administrative and clinical staff to become available)\n",
    "* interest in how the system is performing in terms of things like entity delays, resource utilization, or frequency of certain events.\n",
    "\n",
    "Typical applications include building models of healthcare delivery systems, manufacturing systems, computer networks, call centers and many others. In all of these systems there are **entities** that flow (patients, widgets, packets, phone calls) and contend for **resources** for processing (nurses to give vaccines, machines to process, servers to accept packets, agents to answer the phone). By building a representative simulation model, we can study how such systems might perform if we changes some important entity or resource related inputs: patient arrival rate, machine processing rate, number of servers or number of agents answering calls. The applications are endless and it can be a whole lot cheaper to experiment with a computer model than to experiment with the real system.\n",
    "\n",
    "DES models are \"what if?\" models that can help in predicting outputs of a system for a given set of input values. They can help statistically characterize the projected performance of the system being modeled. For example, we might simulate different assembly line configurations to get a sense of the throughput differences for different processes. For a call center, DES models could help predict the impact on customer wait time of a 25% increase in call volume. \n",
    "\n",
    "Back in the pcda class, we built a simple simulation model of the Monte-Hall 3-Door problem which allowed us to compare the success of different strategies such as staying with the original door selected vs switching. For that model we didn't need a specialized discrete event package since we were just modeling a sequence of events with the time between them being unimportant. Furthermore, there was no contention for resources. If you want to review that model, see the downloads and screencasts on [this page from the pcda courseweb](http://www.sba.oakland.edu/faculty/isken/courses/mis5470_w21/python_intro_2.html) (just scroll down to find info about the problem and links to the screencasts).\n",
    "\n",
    "Ultimately, our goal in this module is to develop a DES model model of a simple vaccine clinic consisting of the following process steps:\n",
    "\n",
    "```\n",
    "Arrival --> Temperature check --> Registration --> Vaccination --> Schedule 2nd dose (if needed) --> Wait 15 minutes --> Exit\n",
    "```\n",
    "\n",
    "Conceptually, our model has the following components:\n",
    "\n",
    "* The entities are patients.\n",
    "* Entities are created by some sort of arrival process.\n",
    "* Each stage of the process has some number of resources associated with it. These resources are the staff that help the patient such as registration clerks and clinicians administrering the vaccine.\n",
    "* Entities flow through different stages of the vaccination process, and at each stage, they:\n",
    "    - request one unit of the appropriate type of staff resource and wait if one is not available,\n",
    "    - after obtaining a staff resource they delay for some amount of time for the process (e.g. registration, vaccination, scheduling) to be completed,\n",
    "    - when the processing time has elapsed, the resource is released and the patient moves on to the next stage of the vaccination process,\n",
    "* When all stages are complete, the patient exits the system.\n",
    "\n",
    "Our model should handle:\n",
    "\n",
    "* uncertainty in the processing times of the individual steps above,\n",
    "* uncertainty in patient arrival times\n",
    "* finite numbers of different types of resources (staff)\n",
    "* ability to estimate key process metrics such as patient wait times and total time in clinic as well as resource utilization.\n",
    "\n",
    "Such a model would be quite useful in helping do capacity planning and appointment scheduling for the clinic. We need to decide how many staff are needed at each stage of the clinic visit and how much room we need in the post-vaccination patient observation area.\n",
    "\n",
    "Let's start by learning a little about how DES software works, both in general and with respect to SimPy, the Python package we'll be using."
   ]
  },
  {
   "cell_type": "markdown",
   "id": "2534104d",
   "metadata": {},
   "source": [
    "## Under the hood with DES software\n",
    "\n",
    "Internally, DES software relies on the notion of a simulation clock and a next event list (the *discrete events*) to decide which event to process next and when to process it. **Between these discrete events, nothing happens to the state of the system - the clock \"ticks\" from event to event.** For example, here's what the next event list might look like (conceptually) at some time $t=70.1$ during the simulation."
   ]
  },
  {
   "cell_type": "code",
   "execution_count": 142,
   "id": "2d27705d",
   "metadata": {},
   "outputs": [
    {
     "data": {
      "image/png": "[encoded data removed]",
      "text/plain": [
       "<IPython.core.display.Image object>"
      ]
     },
     "execution_count": 142,
     "metadata": {},
     "output_type": "execute_result"
    }
   ],
   "source": [
    "Image(\"images/next_event_list.png\")"
   ]
  },
  {
   "cell_type": "markdown",
   "id": "fc46cbc8",
   "metadata": {},
   "source": [
    "Simulation software such as SimPy does the work of maintaining this list - adding new events, processing the next event, and removing events once they've been processed. In many ways, it's like a job scheduler. When the ongoing event is done with processing, DES software will look at the next event and see that `Patient 10 to finish registration` will happen at $t=74.5$. It will:\n",
    "\n",
    "* advance the simulation clock to $74.5$\n",
    "* send a signal that this event is occurring\n",
    "\n",
    "Our program is \"listening\" or \"waiting to be triggered\" by this event and the appropriate part of our code will then do whatever we want to do when a patient finishes the registration process. For example, we might:\n",
    "\n",
    "* store the timestamp of when registration was completed for this patient,\n",
    "* have the patient request a nurse to begin the actual vaccination,\n",
    "* if the nurse is available:\n",
    "    - generate a random vaccination process time and wait for that time to elapse (a new event gets added to the next event list)\n",
    "* if the nurse is not available:\n",
    "    - the DES software manages the internal requests for resources in some sort of queue\n",
    "    \n",
    "The advantage of using DES software such as SimPy is that it does the tedious work of managing the next event list and all the resource queues. Yes, you could write all this code yourself in any general purpose language, but it's much easier to use a good simulation library like SimPy.\n",
    "    "
   ]
  },
  {
   "cell_type": "markdown",
   "id": "eecead88",
   "metadata": {},
   "source": [
    "### DES software\n",
    "DES has a long history and there are numerous commercial packages for doing this type of simulation. Many of these are quite sophisticated and allow you to build very complex, animated models and include comprehensive statistical monitors and analysis tools. Here's are two short video clips of such a models built with Simio, a modern DES package (I created a Simio based course at OU called Operations Analytics) As you can see, you can build simple, abstract models as well as very complex and realistic models.\n",
    "\n",
    "* [A simple abstract model](https://www.youtube.com/watch?v=2_FgFgLXNm8)\n",
    "* [A Simio model of a manufacturing facility](https://www.youtube.com/watch?v=rxpJN7hUTzo&list=PL43C4_Bof9vGErW6y-dRIfr-_vIEQnNkZ&index=3&t=19s)\n",
    "\n",
    "Other popular GUI based DES tools include Arena (my course used this before Simio came along), ProModel, AnyLogic, FlexSim, SIMUL8 and many others. \n",
    "\n"
   ]
  },
  {
   "cell_type": "markdown",
   "id": "22d2ca68",
   "metadata": {},
   "source": [
    "While these tools are quite powerful and the ability to create animated models is quite valuable for both model debugging, model validation and communicating with decision makers, there are some downsides:\n",
    "\n",
    "* Some of these tools are quite expensive ($10K and up ... per license),\n",
    "* Can be difficult to share models since expensive, proprietary software is needed,\n",
    "* While GUI tools are nice, sometimes complex logic can't easily be modeled (to be fair, most of these packages do allow some degree of interacting with programming languages such as C#, VBA, Python, Java and others.)\n",
    "\n",
    "Another approach is to use an open source library based on a general purpose programming language such as C++, Java, or Python. Of course, quality and availability varies and using them requires programming skills. Things like animation and statistical monitors may or may not be built in. Nevertheless, they are a great way to really learn what simulation modeling is all about. And, don't let the pretty pictures and videos above fool you, underneath them is a next event list and code and data.\n",
    "\n",
    "For this class we will learn the basics of using a library called SimPy. It's been around for a few years but it's certainly a bit of a bare bones package. But, with a little Python knowledge, real simulation models can be built."
   ]
  },
  {
   "cell_type": "markdown",
   "id": "7afb824a",
   "metadata": {},
   "source": [
    "## Getting started with SimPy\n",
    "\n",
    "From the [SimPy in 10 Minutes](https://simpy.readthedocs.io/en/latest/simpy_intro/) tutorial:\n",
    "\n",
    "> SimPy is a discrete-event simulation library. The behavior of active components (like vehicles, customers or messages) is modeled with processes. All processes live in an environment. They interact with the environment and with each other via events.\n",
    "\n",
    "SimPy makes it easier to build DES models with Python by taking care of things like the simulation clock and the next event list. It provides high level constructs for modeling components of your model as entities, processes and resources.\n",
    "\n",
    "We are going to build a basic model of a vaccine clinic. It's a prototypical example in that our model should be able to handle:\n",
    "\n",
    "* a random arrival process,\n",
    "* a multi-stage process in which we have to contend for limited resources at each stage,\n",
    "* there is uncertainty in the processing times,\n",
    "* we are interested in things like the relationship between patient volume, resource utilization and patient waiting. \n",
    "\n",
    "We want to build a model that will be helpful in deciding how many vaccination stations to have, the hours of operation of the vaccine clinic, and the size of the post-vaccine waiting room needed. \n",
    "\n",
    "Like the SimPy in 10 Minutes tutorial, I will start with the very basics and keep adding on functionality and complexity. Along the way, I'll try to give you a bit of sense of how SimPy works. Start by reading the [Basic Concepts section of the SimPyin 10 tutorial](https://simpy.readthedocs.io/en/latest/simpy_intro/basic_concepts.html#basic-concepts) to start to become familiar with some fundamental SimPy concepts:\n",
    "\n",
    "* we model many components of our simulation with *processes*,\n",
    "* all of our processes live in a SimPy *environment*,\n",
    "* the processes interact with each other and the SimPy environent through *events*.\n",
    "\n",
    "I encourage you to have a Jupyter notebook open as you are going through the SimPy in 10 Minutes tutorial and build the simple Car Simulation model it uses."
   ]
  },
  {
   "cell_type": "markdown",
   "id": "367b6ce8",
   "metadata": {},
   "source": [
    "### Another really good getting started tutorial\n",
    "I also highly recommend the following tutorial from Real Python. It walks you through building a simulation model a movie theater. It's very well done and will help you better understand both the big picture of DES modeling and SimPy.\n",
    "\n",
    "* https://realpython.com/simpy-simulating-with-python/\n",
    "\n",
    "In the downloads file, I have included the `theater_simulate.py` file that goes along with this tutorial."
   ]
  },
  {
   "cell_type": "markdown",
   "id": "69ed8f97",
   "metadata": {},
   "source": [
    "### Digging a little deeper into the inner workings of SimPy\n",
    "\n",
    "If interested, see https://simpy.readthedocs.io/en/latest/topical_guides/simpy_basics.html#how-simpy-works for more technical details on how SimPy works.\n",
    "\n"
   ]
  },
  {
   "cell_type": "markdown",
   "id": "482b1943",
   "metadata": {},
   "source": [
    "## Prelude: Generators\n",
    "\n",
    "The way that SimPy enables event based modeling is through Python *generators*. Generators are a special type of function (or method) that acts as an **iterator** and that **remembers its state between calls to it**. We also say that generator functions are *lazy iterators*.  They are lazy in the sense that they don't generate their values until asked to do so. For example, consider using a list comprehension to generate the first 10 perfect squares."
   ]
  },
  {
   "cell_type": "code",
   "execution_count": 143,
   "id": "1fca8d78",
   "metadata": {},
   "outputs": [
    {
     "name": "stdout",
     "output_type": "stream",
     "text": [
      "[1, 4, 9, 16, 25, 36, 49, 64, 81, 100]\n"
     ]
    }
   ],
   "source": [
    "squares = [x ** 2 for x in range(1, 11)]\n",
    "print(squares)"
   ]
  },
  {
   "cell_type": "markdown",
   "id": "05eac511",
   "metadata": {},
   "source": [
    "Now, I'll replace the brackets in the above list comprehension with parentheses - now it's something called a *generator expression*. It creates an iterator (something we can call `next` on to get the next value in the sequence), but doesn't actually generate the values until asked."
   ]
  },
  {
   "cell_type": "code",
   "execution_count": 144,
   "id": "d0cb09f5",
   "metadata": {},
   "outputs": [
    {
     "name": "stdout",
     "output_type": "stream",
     "text": [
      "<generator object <genexpr> at 0x000001AE6AA0BDC8>\n"
     ]
    }
   ],
   "source": [
    "perfect_squares_gen_1 = (x ** 2 for x in range(1, 11))\n",
    "print(perfect_squares_gen_1)"
   ]
  },
  {
   "cell_type": "code",
   "execution_count": 145,
   "id": "0fe28430",
   "metadata": {},
   "outputs": [
    {
     "name": "stdout",
     "output_type": "stream",
     "text": [
      "1\n",
      "4\n",
      "9\n",
      "16\n",
      "25\n",
      "36\n",
      "49\n",
      "64\n",
      "81\n",
      "100\n"
     ]
    }
   ],
   "source": [
    "for _ in range(10):\n",
    "    print(next(perfect_squares_gen_1))"
   ]
  },
  {
   "cell_type": "markdown",
   "id": "7943be9b",
   "metadata": {},
   "source": [
    "Wait, what does this have to do with simulation? Let's back up and reconsider that previous example. What if we wanted a function that could generate an infinite sequence of perfect squares? Obviously, we can't just generate a list of an infinite number of perfect squares. Generator functions provide a way to do such things, and they do it by remembering their internal state. For example:"
   ]
  },
  {
   "cell_type": "code",
   "execution_count": 146,
   "id": "21e518dd",
   "metadata": {},
   "outputs": [],
   "source": [
    "def perfect_squares_gen_2():\n",
    "    value = 0\n",
    "    while True:\n",
    "        value += 1\n",
    "        yield value ** 2"
   ]
  },
  {
   "cell_type": "code",
   "execution_count": 147,
   "id": "f1c6930b",
   "metadata": {},
   "outputs": [
    {
     "name": "stdout",
     "output_type": "stream",
     "text": [
      "1\n",
      "4\n",
      "9\n"
     ]
    }
   ],
   "source": [
    "perfect_squares = perfect_squares_gen_2()\n",
    "print(next(perfect_squares))\n",
    "print(next(perfect_squares))\n",
    "print(next(perfect_squares))"
   ]
  },
  {
   "cell_type": "markdown",
   "id": "f31fc383",
   "metadata": {},
   "source": [
    "The key is noticing the `yield` keyword. It serves to return a value from our generator function `perfect_square_gen` (much like a standard `return` statement) but **ALSO** remembers the value of `value`, a local variable in the function. It also, temporarily, passes control back to whomever called. Since it can remember its *state*, it knows where it left off whenever the function is called again using `next`. No need to generate new values until asked. You might have realized that `perfect_squares_gen_1` is really just some syntactic sugar for doing what we did in `perfect_squares_gen_2`.\n",
    "\n",
    "Now let's consider something a little more relevant to simulation modeling. We rely on SimPy to provide an manage a *simulation clock*. Let's create our own simple clock in Python. However, unlike a normal clock, we tell the clock how large of a \"tick\" it should make every time we ask it for the time. It should start time time `t = 0` and then be incremented by whatever tick size we pass into it."
   ]
  },
  {
   "cell_type": "code",
   "execution_count": 148,
   "id": "46b67b0e",
   "metadata": {},
   "outputs": [],
   "source": [
    "def simple_clock(tick_size):\n",
    "    t = 0\n",
    "    while True:\n",
    "        print(f\"The time was {t} and you asked me to tick {tick_size} time units.\")\n",
    "        t += tick_size\n",
    "        yield t"
   ]
  },
  {
   "cell_type": "code",
   "execution_count": 149,
   "id": "e4e8930e",
   "metadata": {},
   "outputs": [
    {
     "name": "stdout",
     "output_type": "stream",
     "text": [
      "The time was 0 and you asked me to tick 5 time units.\n",
      "5\n",
      "The time was 5 and you asked me to tick 5 time units.\n",
      "10\n",
      "The time was 10 and you asked me to tick 5 time units.\n",
      "15\n"
     ]
    }
   ],
   "source": [
    "clock = simple_clock(5)\n",
    "print(next(clock))\n",
    "print(next(clock))\n",
    "print(next(clock))"
   ]
  },
  {
   "cell_type": "markdown",
   "id": "a26c1a5c",
   "metadata": {},
   "source": [
    "The big takeaway is that by using `yield`, we can have a function that kind of goes into \"suspended animation\" but can pick up where it left off when it's asked to. In SimPy, we will have *process functions* that create events and then `yield` them and wait for the event to be triggered. The most common such event is a `Timeout` event - it gets triggered when a specified duration of time has passed on the simulation clock. A `Timeout` event could be used to model something like the time it takes for a patient to get registered at our clinic. We will also use `yield` when we need to acquire a resource such as the clinician who will vaccinate the patient. Since we have a finite number of clinicians, the patient may have to wait until one becomes available. \n",
    "\n",
    "Some additional resources on generators include:\n",
    "\n",
    "* https://dbader.org/blog/python-generators\n",
    "* https://realpython.com/introduction-to-python-generators/"
   ]
  },
  {
   "cell_type": "markdown",
   "id": "c599757f",
   "metadata": {},
   "source": [
    "## The structure of a SimPy program\n",
    "\n",
    "There are actually several different ways to structure a SimPy simulation model program. You can do things in an object-oriented fashion, or a more procedural way, or a combination of both. Within these choices there are many different ways to go about developing the details of the model. Even though SimPy has been around for several years, best practices for modeling are still evolving. In addition, things that come as standard features in many commercial simulation packages such as statistical monitoring and animation, are the responsibility of the modeler when using SimPy. This can affect how the model is architected. \n",
    "\n",
    "In this tutorial, I'm going to try to use a pattern that is easily accessible by new Python simulation modelers. It will use a combination of custom classes as well as process functions.\n",
    "\n",
    "Before launching into building the entire vaccine clinic model, let's do a few simple warmup models to become more familiar with SimPy."
   ]
  },
  {
   "cell_type": "markdown",
   "id": "b6acc8ba",
   "metadata": {},
   "source": [
    "## Model 1: Creating a patient arrival process\n",
    "\n",
    "For our vaccine clinic model, we'll need a way to generate patient arrivals. To start, let's just generate a new patient every $n$ minutes. There are no specific time units specified in SimPy. It's our job to keep our time units straight and is helpful to think of each unit of time as a minute. It would be nice to know when each patient was created to make sure things are working correctly. SimPy has functions for accessing the state of the simulation clock - the current simulation time is accessible from the `now` attribute of the simulation environment object (which by convention we usually name `env`). We'll include `print` statements to help illustrate what is going in inside the function."
   ]
  },
  {
   "cell_type": "code",
   "execution_count": 150,
   "id": "a6fdcb96",
   "metadata": {},
   "outputs": [
    {
     "data": {
      "image/png": "[encoded data removed]",
      "text/plain": [
       "<IPython.core.display.Image object>"
      ]
     },
     "execution_count": 150,
     "metadata": {},
     "output_type": "execute_result"
    }
   ],
   "source": [
    "Image(\"images/model1.png\")"
   ]
  },
  {
   "cell_type": "code",
   "execution_count": 151,
   "id": "41bac535",
   "metadata": {},
   "outputs": [],
   "source": [
    "def patient_arrivals(env, interarrival_time=5.0):\n",
    "    \"\"\"Generate patients according to a fixed time arrival process\"\"\"\n",
    "\n",
    "    # Create a counter to keep track of number of patients generated and to serve as unique patient id\n",
    "    patient = 0\n",
    "\n",
    "    # Infinite loop for generating patients\n",
    "    while True:\n",
    "\n",
    "        # Generate next interarrival time (this will be more complicated later)\n",
    "        iat = interarrival_time\n",
    "        \n",
    "        # This process will now yield to a 'timeout' event. This process will resume after iat time units.\n",
    "        yield env.timeout(iat)\n",
    "\n",
    "        # Okay, we're back. :) New patient generated = update counter of patients\n",
    "        patient += 1\n",
    "        \n",
    "        print(f\"Patient {patient} created at time {env.now}\")\n",
    "\n"
   ]
  },
  {
   "cell_type": "markdown",
   "id": "82f5ea30",
   "metadata": {},
   "source": [
    "Now we can create a simple simulation model that just generates patients for some fixed amount of time.\n",
    "\n",
    "**IMPORTANT THING TO NOTE** \n",
    "\n",
    "In the code below, you'll see the following line:\n",
    "\n",
    "```python\n",
    "env1.process(patient_arrivals(env1, interarrival_time))\n",
    "```\n",
    "\n",
    "This is really doing two things:\n",
    "\n",
    "1. The `patient_arrivals(env1, interarrival_time)` part is calling the `patient_arrivals` generator function and gets back a Python generator.\n",
    "2. The `env1.process()` part is then *registering* this generator with the simulation environment (`env1` in this example).\n",
    "\n",
    "In fact, I could have written the above in two lines, one line per step listed above:\n",
    "\n",
    "```python\n",
    "arrival_generator = patient_arrivals(env1, interarrival_time)\n",
    "env1.process(arrival_generator)\n",
    "```\n",
    "\n",
    "For any generator function you write (i.e. any function that contains a `yield` statement), you **MUST** register it with the simulation enironment by passing the generator with the `process` function. "
   ]
  },
  {
   "cell_type": "code",
   "execution_count": 152,
   "id": "46890881",
   "metadata": {},
   "outputs": [
    {
     "name": "stdout",
     "output_type": "stream",
     "text": [
      "Patient 1 created at time 3.0\n",
      "Patient 2 created at time 6.0\n",
      "Patient 3 created at time 9.0\n",
      "Patient 4 created at time 12.0\n",
      "Patient 5 created at time 15.0\n",
      "Patient 6 created at time 18.0\n",
      "Patient 7 created at time 21.0\n",
      "Patient 8 created at time 24.0\n"
     ]
    }
   ],
   "source": [
    "# Initialize a simulation environment\n",
    "env1 = simpy.Environment()\n",
    "\n",
    "# Create a process generator and start it and add it to the env\n",
    "# env.process() starts the patient_arrivals process and adds it to the environment\n",
    "runtime = 25\n",
    "interarrival_time = 3.0\n",
    "env1.process(patient_arrivals(env1, interarrival_time))\n",
    "\n",
    "# Run the simulation\n",
    "env1.run(until=runtime)"
   ]
  },
  {
   "cell_type": "markdown",
   "id": "9db38842",
   "metadata": {},
   "source": [
    "From a modeling perspective, patients arriving at perfectly equally spaced interarrival times is pretty unrealistic. If we were modeling a \"walk-in clinic\" in which no patients have scheduled appointments, it would be more appropriate to model patient arrivals by something known as a *Poisson arrival process*. These processes are characterized by:\n",
    "\n",
    "* a constant mean arrival rate (usually denoted by $\\lambda$),\n",
    "* the time between individual arrivals is exponentially distributed,\n",
    "* arrivals are independent of each other,\n",
    "* the number of arrivals is any time interval of length $t$, is Poisson distributed with mean $\\lambda t$.\n",
    "\n",
    "Poisson process are commonly used to model things like calls to call centers, arrivals of patients to an emergency room, and even things like hurricanes. A really nice basic intro is available in the following blog post:\n",
    "\n",
    "* https://towardsdatascience.com/the-poisson-distribution-and-poisson-process-explained-4e2cb17d459\n",
    "\n",
    "Since Poisson arrival processes have interarrival times that are exponentially distributed, we need to generate exponential random variates within our `patient_arrivals` function. For this, we'll use numpy. Recently, numpy has updated their random variable generation routines - details are at https://numpy.org/doc/stable/reference/random/index.html.\n",
    "\n",
    "First we need to import the default random number generator and create a random generator variable. I'll use 4470 as the seed. This generator generates numbers uniformly between 0 and 1, which can be used to generate random variates from whatever distribution we choose. This is kind of like `rand()` in Excel except that we get to control the generator via a seed value."
   ]
  },
  {
   "cell_type": "code",
   "execution_count": 153,
   "id": "ab69133c",
   "metadata": {},
   "outputs": [
    {
     "name": "stdout",
     "output_type": "stream",
     "text": [
      "0.45855804438027437\n",
      "0.15021752731855942\n"
     ]
    }
   ],
   "source": [
    "from numpy.random import default_rng\n",
    "rg = default_rng(seed=4470)\n",
    "print(rg.random())\n",
    "print(rg.random())"
   ]
  },
  {
   "cell_type": "markdown",
   "id": "fe9c4ceb",
   "metadata": {},
   "source": [
    "In addition to generating random numbers, it's handy to have a way to compute various quantities of probability distributions. The `scipy.stat`s module contains a large number of probability distributions and each has numerous functions for calculating things such as pdf or CDF values, quantiles, and various moments. You can see the details at https://docs.scipy.org/doc/scipy/reference/stats.html. We'll use it here to overlay the exponential pdf (probability density function) on our histogram of generated exponential random variates."
   ]
  },
  {
   "cell_type": "code",
   "execution_count": 154,
   "id": "16494306",
   "metadata": {},
   "outputs": [],
   "source": [
    "# Import exponential distribution function from scipy.stats\n",
    "from scipy.stats import expon\n",
    "# Set mean of this distribution to whatever we were using above for interarrival time\n",
    "mean_interarrival_time = interarrival_time\n",
    "# Create a random variable object based on the exponential distribution with the given mean\n",
    "rv_expon = expon(scale=mean_interarrival_time)"
   ]
  },
  {
   "cell_type": "code",
   "execution_count": 155,
   "id": "069dd7ef",
   "metadata": {},
   "outputs": [
    {
     "data": {
      "image/png": "[encoded data removed]",
      "text/plain": [
       "<Figure size 432x288 with 1 Axes>"
      ]
     },
     "metadata": {
      "needs_background": "light"
     },
     "output_type": "display_data"
    }
   ],
   "source": [
    "# Generate 1000 exponential random variates (notice this is the exponential function from numpy)\n",
    "iat_sample = rg.exponential(mean_interarrival_time, 10000)\n",
    "\n",
    "# Create a histogram of the random samples with exponential pdf overlaid\n",
    "plt.title(\"Interarrival time histogram\")\n",
    "plt.xlabel(\"Interarrival time\")\n",
    "plt.ylabel(\"Density\")\n",
    "plt.hist(iat_sample, density=True);\n",
    "\n",
    "# Create values for the x-axis using expon function from SciPy\n",
    "x_expon = np.linspace(rv_expon.ppf(0.0001),\n",
    "                rv_expon.ppf(0.999), 500)\n",
    "\n",
    "# Create values for the y-axis\n",
    "y_expon_pdf = rv_expon.pdf(x_expon)\n",
    "\n",
    "plt.plot(x_expon, y_expon_pdf,\n",
    "       'r-', lw=3, alpha=0.6, label='Exponential pdf');\n",
    "\n"
   ]
  },
  {
   "cell_type": "markdown",
   "id": "321c4c53",
   "metadata": {},
   "source": [
    "Now, we'll modify our patient arrivals function to use Poisson arrivals instead of equally-spaced deterministic arrivals."
   ]
  },
  {
   "cell_type": "code",
   "execution_count": 156,
   "id": "bd63e383",
   "metadata": {},
   "outputs": [],
   "source": [
    "def patient_arrivals_random_1(env, mean_interarrival_time=5.0, rg=default_rng(0)):\n",
    "    \"\"\"Generate patients according to a Poisson arrival process\"\"\"\n",
    "\n",
    "    # Create a counter to keep track of number of patients generated and to serve as unique patient id\n",
    "    patient = 0\n",
    "\n",
    "    # Infinite loop for generating patients\n",
    "    while True:\n",
    "\n",
    "        # Generate next interarrival time from exponential distribution\n",
    "        iat = rg.exponential(mean_interarrival_time)\n",
    "        \n",
    "        # This process will now yield to a 'timeout' event. This process will resume after iat time units.\n",
    "        yield env.timeout(iat)\n",
    "\n",
    "        # Update counter of patients\n",
    "        patient += 1\n",
    "        \n",
    "        print(f\"Patient {patient} created at time {env.now}\")\n",
    "\n"
   ]
  },
  {
   "cell_type": "markdown",
   "id": "bcc63609",
   "metadata": {},
   "source": [
    "Now we'll create a new simulation environment and run this new arrival model. You'll see that the arrivals are not equally spaced."
   ]
  },
  {
   "cell_type": "code",
   "execution_count": 157,
   "id": "946fede6",
   "metadata": {
    "tags": []
   },
   "outputs": [
    {
     "name": "stdout",
     "output_type": "stream",
     "text": [
      "Patient 1 created at time 2.039795711906729\n",
      "Patient 2 created at time 5.098587016304323\n",
      "Patient 3 created at time 5.158007004071489\n",
      "Patient 4 created at time 5.164814984115174\n",
      "Patient 5 created at time 6.815843602032318\n",
      "Patient 6 created at time 11.705664906007474\n",
      "Patient 7 created at time 13.72641376400917\n",
      "Patient 8 created at time 15.992317837485343\n",
      "Patient 9 created at time 24.44267577471252\n"
     ]
    }
   ],
   "source": [
    "# Initialize a simulation environment\n",
    "env2 = simpy.Environment()\n",
    "\n",
    "# Create a process generator and start it and add it to the env\n",
    "# env.process() starts and adds it to env\n",
    "runtime = 25\n",
    "interarrival_time = 3.0\n",
    "env2.process(patient_arrivals_random_1(env2, interarrival_time))\n",
    "\n",
    "# Run the simulation\n",
    "env2.run(until=runtime)"
   ]
  },
  {
   "cell_type": "markdown",
   "id": "688c8f34",
   "metadata": {},
   "source": [
    "## Model 2: Simplified vaccine clinic with delay processes and one resource\n",
    "\n",
    "Let's extend the model a bit and create our first simplified vaccine clinic model by adding:\n",
    "\n",
    "* a simple delay process to represent the steps before vaccination (Let's model this total time in the pre-vaccination stages with another exponential distribution having a mean of 4.25 minutes),\n",
    "* a resource for the vaccination stage,\n",
    "* another delay process to represent the time the patient has to wait after getting the vaccination before exiting (15 mins)."
   ]
  },
  {
   "cell_type": "code",
   "execution_count": 158,
   "id": "15759671",
   "metadata": {},
   "outputs": [
    {
     "data": {
      "image/png": "[encoded data removed]",
      "text/plain": [
       "<IPython.core.display.Image object>"
      ]
     },
     "execution_count": 158,
     "metadata": {},
     "output_type": "execute_result"
    }
   ],
   "source": [
    "Image(\"images/model2.png\")"
   ]
  },
  {
   "cell_type": "markdown",
   "id": "8e5fae18",
   "metadata": {},
   "source": [
    "In other words, let's pretend that after a patient arrives, the patient spends a random amount of time to go through the stages of the vaccination process before the actual vaccination but then must get a vaccinator resource for the vaccination itself. In other words we are **grossly oversimplifying the real system** by ignoring many of the details of the vaccination process. \n",
    "To do this, we'll do two main things:\n",
    "\n",
    "* Add a `vaccinator` resource\n",
    "* Create a new process function for our extended model that incorporates the new delays and resource contention,\n",
    "* Modify the arrival process to create a vaccination event for each patient arrival,\n",
    "\n",
    "#### Acquiring and releasing resources\n",
    "\n",
    "For the actual vaccination stage, we'll use a common code block pattern:\n",
    "\n",
    "* attempt to acquire a certain type of staff resource using a [Python context manager](https://dbader.org/blog/python-context-managers-and-with-statement), \n",
    "* once we acquire the resource we get vaccinated which takes some amount of time, \n",
    "* we release the resource (actually, the context manager will release it for us).\n",
    "\n",
    "```python\n",
    "# Request vaccination staff to get registered\n",
    "with vaccinator.request() as request:\n",
    "    yield request\n",
    "    yield env.timeout(rg.normal(mean_vac_time, 0.5)\n",
    "```\n",
    "\n",
    "A few important points about the example above:\n",
    "\n",
    "* `request` is a type of SimPy event corresponding to our request to get one unit of the `vac_staff` resource,\n",
    "* We `yield` the `request` - in essence, suspending the function until the request can be satistfied,\n",
    "* Now we do another `yield` but this time we are yielding a new `process` event, the `timeout` for the vaccination stage,\n",
    "* We modeling the vaccination time with a normal distribution with the given mean and standard deviation (hard-coded for now).\n",
    "* By using the `with vaccinator.request() as request:` context manager, SimPy knows to automatically release the resource once all the steps within the block are executed."
   ]
  },
  {
   "cell_type": "code",
   "execution_count": 159,
   "id": "1fa77f45",
   "metadata": {},
   "outputs": [],
   "source": [
    "def simplified_vac_process(env, name, mean_prevac_time, mean_vac_time, mean_postvac_time, vaccinator):\n",
    "    \"\"\"Process function modeling how a patient flows through system.\"\"\"\n",
    "\n",
    "    print(f\"{name} entering vaccination clinic at {env.now:.4f}\")\n",
    "    \n",
    "    # Yield for the pre-vac time\n",
    "    yield env.timeout(rg.exponential(mean_prevac_time))\n",
    "    \n",
    "    # Request vaccination staff to get vaccinated\n",
    "    with vaccinator.request() as request:\n",
    "        print(f\"{name} requested vaccinator at {env.now:.4f}\")\n",
    "        yield request\n",
    "        print(f\"{name} got vaccinator at {env.now:.4f}\")\n",
    "        yield env.timeout(rg.normal(mean_vac_time, 0.5))\n",
    "                          \n",
    "    # Yield for the post-vac time\n",
    "    yield env.timeout(mean_postvac_time)\n",
    "    \n",
    "    # The process is over, we would exit the clinic\n",
    "    print(f\"{name} exiting vaccination clinic at {env.now:.4f}\")"
   ]
  },
  {
   "cell_type": "markdown",
   "id": "7f7f5777",
   "metadata": {},
   "source": [
    "Now we can modify our arrival function to interact with our new simplified vaccination process function. Notice since `simplified_vac_process` does a `yield` (actually, multiple yields) it **is** a Python generator function and, from SimPy's perspective, it's something we need to *register* as a `process`. We'll do this in our new arrivals function.\n",
    "\n",
    "Also notice how we have to pass a bunch of parameters around between functions. This is ok here since our model is pretty simple and we aren't passing that many parameters around. However, as our model grows, this will become more and more of an issue. In a subsequent version of the model, we'll use a different approach to avoid having to do this. \n",
    "\n",
    "**TO PONDER** Think about how we might do this - how could we encapsulate a whole bunch of parameter values so that we don't have to pass them around individually?"
   ]
  },
  {
   "cell_type": "code",
   "execution_count": 160,
   "id": "d1d4702b",
   "metadata": {},
   "outputs": [],
   "source": [
    "def patient_arrivals_random_2(env, mean_interarrival_time, mean_prevac_time, mean_vac_time,\n",
    "                              mean_postvac_time, vaccinator, rg=default_rng(0)):\n",
    "    \"\"\"Generate patients according to a Poisson arrival process\"\"\"\n",
    "\n",
    "    # Create a counter to keep track of number of patients generated and to serve as unique patient id\n",
    "    patient = 0\n",
    "\n",
    "    # Infinite loop for generating patients\n",
    "    while True:\n",
    "\n",
    "        # Generate next interarrival time\n",
    "        iat = rg.exponential(mean_interarrival_time)\n",
    "        \n",
    "        # This process will now yield to a 'timeout' event. This process will resume after iat time units.\n",
    "        yield env.timeout(iat)\n",
    "\n",
    "        # Update counter of patients\n",
    "        patient += 1\n",
    "\n",
    "        print(f\"Patient{patient} created at time {env.now}\")\n",
    "               \n",
    "        # Create and register the simplifed vaccation process process - I'm doing in two steps here, but could combine into one\n",
    "        \n",
    "        # Create a new patient delay process generator object.\n",
    "        patient_visit = simplified_vac_process(env, 'Patient{}'.format(patient), \n",
    "                                               mean_prevac_time, mean_vac_time, mean_postvac_time, vaccinator)\n",
    "        \n",
    "        # Register the process with the simulation environment\n",
    "        env.process(patient_visit)\n",
    "        \n",
    "        # Here's the one step version\n",
    "        # env.process(simplified_vac_process(env, 'Patient{}'.format(patient), \n",
    "        #                                      mean_prevac_time, mean_vac_time, mean_postvac_time, vaccinator))\n",
    "        "
   ]
  },
  {
   "cell_type": "markdown",
   "id": "0510a6e1",
   "metadata": {},
   "source": [
    "Ready to create a new simulation environment and run our new model."
   ]
  },
  {
   "cell_type": "code",
   "execution_count": 161,
   "id": "b2b41a48",
   "metadata": {},
   "outputs": [
    {
     "name": "stdout",
     "output_type": "stream",
     "text": [
      "Patient1 created at time 2.039795711906729\n",
      "Patient1 entering vaccination clinic at 2.0398\n",
      "Patient2 created at time 5.098587016304323\n",
      "Patient2 entering vaccination clinic at 5.0986\n",
      "Patient3 created at time 5.158007004071489\n",
      "Patient3 entering vaccination clinic at 5.1580\n",
      "Patient4 created at time 5.164814984115174\n",
      "Patient4 entering vaccination clinic at 5.1648\n",
      "Patient3 requested vaccinator at 6.3824\n",
      "Patient3 got vaccinator at 6.3824\n",
      "Patient5 created at time 6.815843602032318\n",
      "Patient5 entering vaccination clinic at 6.8158\n",
      "Patient1 requested vaccinator at 6.9140\n",
      "Patient1 got vaccinator at 6.9140\n",
      "Patient4 requested vaccinator at 7.7684\n",
      "Patient4 got vaccinator at 10.4267\n",
      "Patient5 requested vaccinator at 11.4207\n",
      "Patient5 got vaccinator at 11.4973\n",
      "Patient2 requested vaccinator at 11.5083\n",
      "Patient6 created at time 11.705664906007474\n",
      "Patient6 entering vaccination clinic at 11.7057\n",
      "Patient7 created at time 13.72641376400917\n",
      "Patient7 entering vaccination clinic at 13.7264\n",
      "Patient2 got vaccinator at 15.1662\n",
      "Patient7 requested vaccinator at 15.7214\n",
      "Patient7 got vaccinator at 15.8690\n",
      "Patient8 created at time 15.992317837485343\n",
      "Patient8 entering vaccination clinic at 15.9923\n",
      "Patient6 requested vaccinator at 18.9349\n",
      "Patient6 got vaccinator at 18.9349\n",
      "Patient8 requested vaccinator at 19.8985\n",
      "Patient8 got vaccinator at 20.6928\n",
      "Patient9 created at time 24.44267577471252\n",
      "Patient9 entering vaccination clinic at 24.4427\n",
      "Patient9 requested vaccinator at 24.5909\n",
      "Patient9 got vaccinator at 24.5909\n",
      "Patient3 exiting vaccination clinic at 25.4267\n",
      "Patient1 exiting vaccination clinic at 26.4973\n",
      "Patient4 exiting vaccination clinic at 30.1662\n",
      "Patient5 exiting vaccination clinic at 30.8690\n",
      "Patient2 exiting vaccination clinic at 33.7599\n",
      "Patient7 exiting vaccination clinic at 35.6928\n",
      "Patient6 exiting vaccination clinic at 37.4405\n",
      "Patient8 exiting vaccination clinic at 39.4828\n",
      "Patient10 created at time 42.61593501604024\n",
      "Patient10 entering vaccination clinic at 42.6159\n",
      "Patient9 exiting vaccination clinic at 42.6953\n",
      "Patient10 requested vaccinator at 45.3688\n",
      "Patient10 got vaccinator at 45.3688\n"
     ]
    }
   ],
   "source": [
    "# Initialize a simulation environment\n",
    "env3 = simpy.Environment()\n",
    "\n",
    "# Set input values\n",
    "mean_interarrival_time = 3.0\n",
    "mean_prevac_time = 4.25\n",
    "mean_vac_time = 4.0\n",
    "mean_postvac_time = 15.0\n",
    "num_vaccinators = 2\n",
    "\n",
    "# Create vaccinator resource\n",
    "vaccinator = simpy.Resource(env3, num_vaccinators)\n",
    "\n",
    "# Register our new arrivals process\n",
    "env3.process(patient_arrivals_random_2(env3, mean_interarrival_time, mean_prevac_time, mean_vac_time,\n",
    "                                      mean_postvac_time, vaccinator))\n",
    "\n",
    "# Run the simulation\n",
    "runtime = 50\n",
    "env3.run(until=runtime)"
   ]
  },
  {
   "cell_type": "markdown",
   "id": "60895c7b",
   "metadata": {},
   "source": [
    "Now that you've got a little better idea of how to go about creating very simple SimPy models, let's tackle a more complex vaccine clinic model. Again, for our first version, we'll make a number of simplifying assumptions and simplifying software design decisions. Later versions will be better."
   ]
  },
  {
   "cell_type": "markdown",
   "id": "121271b8",
   "metadata": {},
   "source": [
    "## Model 3: The vaccine clinic model - version 0.01\n",
    "\n",
    "Here's the basic vaccination process we'll model.\n",
    "\n",
    "    Arrival --> Temperature check --> Registration --> Vaccination --> Schedule dose 2 (if needed) --> Wait 15 min --> Exit"
   ]
  },
  {
   "cell_type": "code",
   "execution_count": 162,
   "id": "7bf09ae8",
   "metadata": {},
   "outputs": [
    {
     "data": {
      "image/png": "[encoded data removed]",
      "text/plain": [
       "<IPython.core.display.Image object>"
      ]
     },
     "execution_count": 162,
     "metadata": {},
     "output_type": "execute_result"
    }
   ],
   "source": [
    "Image(\"images/model3.png\")"
   ]
  },
  {
   "cell_type": "markdown",
   "id": "6ade4ded",
   "metadata": {},
   "source": [
    "### Creating a `VaccineClinic` class\n",
    "We will model the clinic itself with a Python class. This class will contain attributes such as:\n",
    "\n",
    "* the SimPy environment,\n",
    "* resource capacity related inputs,\n",
    "* data structures to store data collected as patients flow through the system,\n",
    "* the SimPy resources for modeling the various types of staff modeled,\n",
    "* process methods corresponding to processing times in each stage in the clinic patient flow diagram.\n",
    "\n",
    "By having a `VaccineClinic` class, it makes it easy to encapsulate a bunch of input parameters, such as the capacity levels of the different staff resources, into an object that we can then pass along to other functions. This basic strategy of creating custom classes for distinct components in your simulation model is often quite useful. "
   ]
  },
  {
   "cell_type": "markdown",
   "id": "12c2a06e",
   "metadata": {},
   "source": [
    "For now, notice that the process methods corresponding to each state of the vaccination process have **hard coded parameters** in this class. Yes, this is **bad**. But it's perfectly **fine to make such simplifications while you are learning** and trying to get a model working. We'll improve upon this in a later version. "
   ]
  },
  {
   "cell_type": "code",
   "execution_count": 163,
   "id": "fd15820d",
   "metadata": {},
   "outputs": [],
   "source": [
    "class VaccineClinic(object):\n",
    "    def __init__(self, env, num_greeters, num_reg_staff, num_vaccinators, num_schedulers, rg):\n",
    "        # Simulation environment\n",
    "        self.env = env\n",
    "        self.rg = rg\n",
    "        \n",
    "        # Create list to hold timestamps dictionaries (one per patient)\n",
    "        self.timestamps_list = []\n",
    "        # Create lists to hold occupancy tuples (time, occ)\n",
    "        self.postvac_occupancy_list = [(0.0, 0.0)]\n",
    "        self.vac_occupancy_list = [(0.0, 0.0)]\n",
    "        \n",
    "        # Create resources\n",
    "        self.greeter = simpy.Resource(env, num_greeters)\n",
    "        self.reg_staff = simpy.Resource(env, num_reg_staff)\n",
    "        self.vaccinator = simpy.Resource(env, num_vaccinators)\n",
    "        self.scheduler = simpy.Resource(env, num_schedulers)\n",
    "\n",
    "    # Create process methods - hard coding processing time distributions for now\n",
    "    # TODO - remove hard coding\n",
    "    # The patient argument is just a unique integer number\n",
    "    def temperature_check(self, patient):\n",
    "        yield self.env.timeout(self.rg.normal(0.25, 0.05))\n",
    "\n",
    "    def registration(self, patient):\n",
    "        yield self.env.timeout(self.rg.exponential(1.0))\n",
    "\n",
    "    def vaccinate(self, patient):\n",
    "        yield self.env.timeout(self.rg.normal(4.0, 0.5))\n",
    "        \n",
    "    def schedule_dose_2(self, patient):\n",
    "        yield self.env.timeout(self.rg.normal(1.0, 0.25))\n",
    "    \n",
    "    # We assume all patients wait at least 15 minutes post-vaccination\n",
    "    # Some will choose to wait longer. This is the time beyond 15 minutes\n",
    "    # that patients wait.\n",
    "    def wait_gt_15(self, patient):\n",
    "        yield self.env.timeout(self.rg.exponential(0.5))"
   ]
  },
  {
   "cell_type": "markdown",
   "id": "e4234064",
   "metadata": {},
   "source": [
    "### The `get_vaccinated` function\n",
    "\n",
    "Now we'll create a general `get_vaccinated` function to define the sequence of steps traversed by patients. We'll also capture a bunch of timestamps to make it easy to compute various system performance measures such as patient waiting times, queue sizes and resource utilization. The inputs to this function include:\n",
    "\n",
    "* the simulation environment,\n",
    "* a patient id,\n",
    "* the clinic object (created from `VaccineClinic` class),\n",
    "* the percentage of patients that are there for their first dose,\n",
    "* the random number generator.\n",
    "\n",
    "#### Acquiring and releasing resources\n",
    "\n",
    "For each step in the vaccination process, you'll find a sequence of code blocks in which we:\n",
    "\n",
    "* attempt to acquire a certain type of staff resource, \n",
    "* once we acquire the resource we get processed by calling the appropriate method of the `VaccineClinic` object, \n",
    "* we release the resource.\n",
    "\n",
    "```python\n",
    "# Request reg staff to get registered\n",
    "with clinic.reg_staff.request() as request:\n",
    "    yield request\n",
    "    got_reg_ts = env.now\n",
    "    yield env.process(clinic.registration(patient, rg))\n",
    "    release_reg_ts = env.now\n",
    "```\n",
    "\n",
    "A few important points about the example above:\n",
    "\n",
    "* `request` is a type of SimPy event corresponding to our request to get one unit of the `reg_staff` resource,\n",
    "* We `yield` the `request` - in essence, suspending the function until the request can be satistfied,\n",
    "* once the request is satisfied, the next line, `got_reg_ts = env.now` gets executed and we get the current simulation time and store it in a local variable, `got_reg_ts` (later in the code we'll put this variable value into a dictionary that we persists throughout the entire simulation)\n",
    "* Now we do another `yield` but this time we are yielding a new `process` event, the actual `registration` (generator) function, which is part of the `clinic` object.\n",
    "* When the patient is done with the registration process, the next line, `release_reg_ts = env.now`, captures the registration finish time.\n",
    "\n",
    "We'll use this same code *pattern* throughout the `get_vaccinated` function as we move through the different stages of the vaccination process.\n",
    "\n",
    "#### Patient flow timestamps\n",
    "\n",
    "You just saw that we create numerous timestamp variables corresponding to things like when a patient starts and ends various stages of the vaccination process. For example:\n",
    "\n",
    "```python\n",
    "got_greeter_ts = env.now\n",
    "```\n",
    "\n",
    "Our goal is to be able to compute important durations such as how long each patient waited before starting vaccination or before registration. As long as we gather the necessary timestamps, we can compute an durations we want. At the end of the function you'll see that all of the timestamps are gathered up into a dictionary along with the patient id number and the dictionary stored in `timestamps_list`, an attribute of the clinic object.\n",
    "\n",
    "When the simulation is done, we can convert this list of dictionaries into a pandas dataframe, compute the important time durations for each patient and then do summary stats and plots on these new fields.\n",
    "\n",
    "#### Logging occupancy changes\n",
    "We are also interested in the number of patients present in the vaccination stage and the number in the post-vaccination observation stage. Unfortunately, SimPy no longer has built in *monitor* classes to track these things. So, we'll do it ourselves. In order to correctly compute time averaged occupancy statistics, we just need to log the time and occupancy level each time it changes. For example, when a patient acquires a staff member to administer the vaccination, the occupancy in the vaccination stage increases by 1. When the vaccination is complete and the patient releases the resource, the occupancy decreases by 1.\n",
    "\n",
    "If you look back at the `VaccineClinic` class definition, you'll see the initialization for the occupancy lists that we'll updating.\n",
    "\n",
    "```python\n",
    "self.vac_occupancy_list = [(0.0, 0.0)]\n",
    "```\n",
    "\n",
    "The `vac_occupancy_list` attribute is a list of tuples - (timestamp, occupancy). When the simulation begins, at time 0, there are 0 patients in the vaccination stage. Let's say that at time 4.5, the first patient starts the vaccination step and the second patient starts at 4.7. Here's how our `vac_occupancy_list` is changing \n",
    "\n",
    "```python\n",
    "# At time 4.5\n",
    "self.vac_occupancy_list = [(0.0, 0.0), (4.5, 1)]\n",
    "# At time 4.7\n",
    "self.vac_occupancy_list = [(0.0, 0.0), (4.5, 1), (4.7, 2)]\n",
    "```\n",
    "\n",
    "Now assume that one of the patients is done with the vaccination step at time 12.6.\n",
    "\n",
    "```python\n",
    "# At time 12.6\n",
    "self.vac_occupancy_list = [(0.0, 0.0), (4.5, 1), (4.7, 2), (12.6, 1)]\n",
    "```\n",
    "\n",
    "When the simulation is done, we'll convert the lists of tuples into a pandas dataframe and then do the appropriate statistical analysis to compute things like the mean and 95th percentile of occupancy in these two areas. Such statistics are useful for capacity planning.\n",
    "\n"
   ]
  },
  {
   "cell_type": "code",
   "execution_count": 168,
   "id": "be0cdee4",
   "metadata": {},
   "outputs": [],
   "source": [
    "def get_vaccinated(env, patient, clinic, pct_first_dose, rg):\n",
    "    # Patient arrives to clinic - note the arrival time\n",
    "    arrival_ts = env.now\n",
    "\n",
    "    # Request a greeter for temperature check\n",
    "    # By using request() in a context manager, we'll automatically release the resource when done\n",
    "    with clinic.greeter.request() as request:\n",
    "        yield request\n",
    "        # Now that we have a greeter, check temperature. Note time.\n",
    "        got_greeter_ts = env.now\n",
    "        yield env.process(clinic.temperature_check(patient))\n",
    "        release_greeter_ts = env.now\n",
    "\n",
    "    # Request reg staff to get registered\n",
    "    with clinic.reg_staff.request() as request:\n",
    "        yield request\n",
    "        got_reg_ts = env.now\n",
    "        yield env.process(clinic.registration(patient))\n",
    "        release_reg_ts = env.now\n",
    "        \n",
    "    # Request clinical staff to get vaccinated\n",
    "    with clinic.vaccinator.request() as request:\n",
    "        yield request\n",
    "        got_vaccinator_ts = env.now\n",
    "        # Update vac occupancy - increment by 1\n",
    "        prev_occ = clinic.vac_occupancy_list[-1][1]\n",
    "        new_occ = (env.now, prev_occ + 1)\n",
    "        clinic.vac_occupancy_list.append(new_occ)\n",
    "        yield env.process(clinic.vaccinate(patient))\n",
    "        release_vaccinator_ts = env.now\n",
    "        # Update vac occupancy - decrement by 1 - more compact code\n",
    "        # Note that clinic.vac_occupancy_list[-1] is the last tuple in the list\n",
    "        #  and that clinic.vac_occupancy_list[-1][1] is referencing the occupancy\n",
    "        #  value in the tuple (remember tuple elements are indexed starting with 0, so\n",
    "        #  the timestamp is at [0] and the occupancy is at [1]).\n",
    "        #  BTW, this suggests that perhaps using something known as \"namedtuples\" might\n",
    "        #  make our code more readable. See https://realpython.com/python-namedtuple/ \n",
    "        #  for a good introduction to namedtuples.\n",
    "        clinic.vac_occupancy_list.append((env.now, clinic.vac_occupancy_list[-1][1] - 1))\n",
    "        \n",
    "        # Update postvac occupancy - increment by 1\n",
    "        clinic.postvac_occupancy_list.append((env.now, clinic.postvac_occupancy_list[-1][1] + 1))\n",
    "\n",
    "    # Request scheduler to schedule second dose if needed\n",
    "    if rg.random() < pct_first_dose:\n",
    "        with clinic.scheduler.request() as request:\n",
    "            yield request\n",
    "            got_scheduler_ts = env.now\n",
    "            yield env.process(clinic.schedule_dose_2(patient))\n",
    "            release_scheduler_ts = env.now\n",
    "    else:\n",
    "        got_scheduler_ts = pd.NA\n",
    "        release_scheduler_ts = pd.NA\n",
    "        \n",
    "    # Wait at least 15 minutes from time we finished getting vaccinated \n",
    "    post_vac_time = env.now - release_vaccinator_ts\n",
    "    if post_vac_time < 15:\n",
    "        # Wait until 15 total minutes post vac\n",
    "        yield env.timeout(15 - post_vac_time)\n",
    "        # Wait random amount beyond 15 minutes\n",
    "        yield env.process(clinic.wait_gt_15(patient))\n",
    "        exit_system_ts = env.now\n",
    "        \n",
    "        # Update postvac occupancy - decrement by 1\n",
    "        clinic.postvac_occupancy_list.append((env.now, clinic.postvac_occupancy_list[-1][1] - 1))\n",
    "    \n",
    "    exit_system_ts = env.now    \n",
    "    #print(f\"Patient {patient} exited at time {env.now}\")\n",
    "\n",
    "    # Create dictionary of timestamps\n",
    "    timestamps = {'patient_id': patient,\n",
    "                  'arrival_ts': arrival_ts,\n",
    "                  'got_greeter_ts': got_greeter_ts,\n",
    "                  'release_greeter_ts': release_greeter_ts,\n",
    "                  'got_reg_ts': got_reg_ts,\n",
    "                  'release_reg_ts': release_reg_ts,\n",
    "                  'got_vaccinator_ts': got_vaccinator_ts,\n",
    "                  'release_vaccinator_ts': release_vaccinator_ts,\n",
    "                  'got_scheduler_ts': got_scheduler_ts,\n",
    "                  'release_scheduler_ts': release_scheduler_ts,\n",
    "                  'exit_system_ts': exit_system_ts}\n",
    "    \n",
    "    clinic.timestamps_list.append(timestamps)"
   ]
  },
  {
   "cell_type": "markdown",
   "id": "1273180e",
   "metadata": {},
   "source": [
    "### The `run_clinic` function\n",
    "Now we'll create a function that runs the clinic for a specified number of hours. The inputs to this function include:\n",
    "\n",
    "* the simulation environment,\n",
    "* the clinic object,\n",
    "* the mean patient interarrival time,\n",
    "* the percentage of patients that are there for their first dose,\n",
    "* the random number generator,\n",
    "* stopping conditions for the simulation through either a stop time and a maximum number of patient arrivals.\n",
    "\n",
    "Again, notice that since this function contains a `yield` statement, it is a generator and will need to be registered with the simulation environment (which we'll do from our main calling program)."
   ]
  },
  {
   "cell_type": "code",
   "execution_count": 169,
   "id": "cabe182e",
   "metadata": {},
   "outputs": [],
   "source": [
    "def run_clinic(env, clinic, mean_interarrival_time, pct_first_dose, rg, \n",
    "               stoptime=simpy.core.Infinity, max_arrivals=simpy.core.Infinity):\n",
    "      \n",
    "    # Create a counter to keep track of number of patients generated and to serve as unique patient id\n",
    "    patient = 0\n",
    "\n",
    "    # Loop for generating patients\n",
    "    while env.now < stoptime and patient < max_arrivals:\n",
    "\n",
    "        # Generate next interarrival time (this will be more complicated later)\n",
    "        iat = rg.exponential(mean_interarrival_time)\n",
    "        \n",
    "        # This process will now yield to a 'timeout' event. This process will resume after iat time units.\n",
    "        yield env.timeout(iat)\n",
    "\n",
    "        # New patient generated = update counter of patients\n",
    "        patient += 1\n",
    "        \n",
    "        #print(f\"Patient {patient} created at time {env.now}\")\n",
    "\n",
    "        env.process(get_vaccinated(env, patient, clinic, pct_first_dose, rg))\n",
    "        \n"
   ]
  },
  {
   "cell_type": "markdown",
   "id": "54d4d1ce",
   "metadata": {},
   "source": [
    "Finally, we will create a `main` function that will serve as the entry point to using the simulation. For now, just think of it as the first function we'll call to launch the simulation. Later we'll see how we can use this function from a command line interface (CLI) to our simulation model. We will run the simulation for 600 minutes."
   ]
  },
  {
   "cell_type": "code",
   "execution_count": 170,
   "id": "9d87d322",
   "metadata": {},
   "outputs": [],
   "source": [
    "def main():\n",
    "    \n",
    "    # For now we are hard coding the patient arrival rate (patients per hour)\n",
    "    patients_per_hour = 180\n",
    "    mean_interarrival_time = 1.0 / (patients_per_hour / 60.0)\n",
    "    pct_first_dose = 0.50\n",
    "    \n",
    "    # Create a random number generator\n",
    "    rg = default_rng(seed=4470)\n",
    "    \n",
    "    # For now we are going to hard code in the resource capacity levels \n",
    "    num_greeters = 2\n",
    "    num_reg_staff = 2\n",
    "    num_vaccinators = 12\n",
    "    num_schedulers = 2\n",
    "    \n",
    "    # Hours of operation\n",
    "    stoptime = 600 # No more arrivals after this time\n",
    "    \n",
    "    # Create a simulation environment\n",
    "    env = simpy.Environment()\n",
    "    # Create a clinic to simulate\n",
    "    clinic = VaccineClinic(env, num_greeters, num_reg_staff, num_vaccinators, num_schedulers, rg)\n",
    "    \n",
    "    # Register the run_clinic (generator) function\n",
    "    env.process(run_clinic(env, clinic, mean_interarrival_time, pct_first_dose, rg, stoptime=stoptime))\n",
    "    # Actually run the simulation\n",
    "    env.run()\n",
    "    \n",
    "    # The simulation is over now, let's create the output csv files from \n",
    "    # the dataframes created by running the simulation model.\n",
    "    \n",
    "    # Output log files \n",
    "    clinic_patient_log_df = pd.DataFrame(clinic.timestamps_list)\n",
    "    clinic_patient_log_df.to_csv('./output/clinic_patient_log_df.csv', index=False)\n",
    "    \n",
    "    vac_occupancy_df = pd.DataFrame(clinic.vac_occupancy_list, columns=['ts', 'occ'])\n",
    "    vac_occupancy_df.to_csv('./output/vac_occupancy_df.csv', index=False)\n",
    "    \n",
    "    postvac_occupancy_df = pd.DataFrame(clinic.postvac_occupancy_list, columns=['ts', 'occ'])\n",
    "    postvac_occupancy_df.to_csv('./output/postvac_occupancy_df.csv', index=False)\n",
    "    \n",
    "    # Note simulation end time\n",
    "    end_time = env.now\n",
    "    print(f\"Simulation ended at time {end_time}\")\n",
    "    return (end_time)\n",
    "\n",
    "\n",
    "\n"
   ]
  },
  {
   "cell_type": "markdown",
   "id": "3b8dd548",
   "metadata": {},
   "source": [
    "Alright, let's run this thing!"
   ]
  },
  {
   "cell_type": "code",
   "execution_count": 171,
   "id": "815a69cc",
   "metadata": {
    "tags": []
   },
   "outputs": [
    {
     "name": "stdout",
     "output_type": "stream",
     "text": [
      "Simulation ended at time 875.4387606496971\n"
     ]
    }
   ],
   "source": [
    "clinic_end_time = main()\n"
   ]
  },
  {
   "cell_type": "markdown",
   "id": "22f6e9b9",
   "metadata": {},
   "source": [
    "Oh, oh. The clinic ran several hours past it's intended ending time of 10 hours (600 minutes). Let's dig into the output files and figure out how to make this clinic run better."
   ]
  },
  {
   "cell_type": "markdown",
   "id": "b9d552c3",
   "metadata": {},
   "source": [
    "### Post-processing the timestamps file\n",
    "\n",
    "Our simulation model captured numerous timestamps for each patient as they went through the vaccination process. The timestamps were written to a log file with one row per patient. Now we can compute various wait times and service times for each patient and then summarize them for the clinic."
   ]
  },
  {
   "cell_type": "code",
   "execution_count": 106,
   "id": "770ef795",
   "metadata": {},
   "outputs": [
    {
     "name": "stdout",
     "output_type": "stream",
     "text": [
      "<class 'pandas.core.frame.DataFrame'>\n",
      "RangeIndex: 1795 entries, 0 to 1794\n",
      "Data columns (total 11 columns):\n",
      " #   Column                 Non-Null Count  Dtype  \n",
      "---  ------                 --------------  -----  \n",
      " 0   patient_id             1795 non-null   int64  \n",
      " 1   arrival_ts             1795 non-null   float64\n",
      " 2   got_greeter_ts         1795 non-null   float64\n",
      " 3   release_greeter_ts     1795 non-null   float64\n",
      " 4   got_reg_ts             1795 non-null   float64\n",
      " 5   release_reg_ts         1795 non-null   float64\n",
      " 6   got_vaccinator_ts      1795 non-null   float64\n",
      " 7   release_vaccinator_ts  1795 non-null   float64\n",
      " 8   got_scheduler_ts       871 non-null    float64\n",
      " 9   release_scheduler_ts   871 non-null    float64\n",
      " 10  exit_system_ts         1795 non-null   float64\n",
      "dtypes: float64(10), int64(1)\n",
      "memory usage: 154.4 KB\n"
     ]
    }
   ],
   "source": [
    "clinic_patient_log_df = pd.read_csv('./output/clinic_patient_log_df.csv')\n",
    "clinic_patient_log_df.info()"
   ]
  },
  {
   "cell_type": "code",
   "execution_count": 107,
   "id": "44155634",
   "metadata": {},
   "outputs": [
    {
     "data": {
      "text/html": [
       "<div>\n",
       "<style scoped>\n",
       "    .dataframe tbody tr th:only-of-type {\n",
       "        vertical-align: middle;\n",
       "    }\n",
       "\n",
       "    .dataframe tbody tr th {\n",
       "        vertical-align: top;\n",
       "    }\n",
       "\n",
       "    .dataframe thead th {\n",
       "        text-align: right;\n",
       "    }\n",
       "</style>\n",
       "<table border=\"1\" class=\"dataframe\">\n",
       "  <thead>\n",
       "    <tr style=\"text-align: right;\">\n",
       "      <th></th>\n",
       "      <th>patient_id</th>\n",
       "      <th>arrival_ts</th>\n",
       "      <th>got_greeter_ts</th>\n",
       "      <th>release_greeter_ts</th>\n",
       "      <th>got_reg_ts</th>\n",
       "      <th>release_reg_ts</th>\n",
       "      <th>got_vaccinator_ts</th>\n",
       "      <th>release_vaccinator_ts</th>\n",
       "      <th>got_scheduler_ts</th>\n",
       "      <th>release_scheduler_ts</th>\n",
       "      <th>exit_system_ts</th>\n",
       "    </tr>\n",
       "  </thead>\n",
       "  <tbody>\n",
       "    <tr>\n",
       "      <th>0</th>\n",
       "      <td>4</td>\n",
       "      <td>0.717711</td>\n",
       "      <td>0.717711</td>\n",
       "      <td>0.939134</td>\n",
       "      <td>1.734766</td>\n",
       "      <td>2.294436</td>\n",
       "      <td>2.294436</td>\n",
       "      <td>5.698411</td>\n",
       "      <td>5.698411</td>\n",
       "      <td>6.549541</td>\n",
       "      <td>21.053885</td>\n",
       "    </tr>\n",
       "    <tr>\n",
       "      <th>1</th>\n",
       "      <td>6</td>\n",
       "      <td>1.399215</td>\n",
       "      <td>1.399215</td>\n",
       "      <td>1.622652</td>\n",
       "      <td>2.294436</td>\n",
       "      <td>2.362507</td>\n",
       "      <td>2.362507</td>\n",
       "      <td>6.046302</td>\n",
       "      <td>6.046302</td>\n",
       "      <td>7.341951</td>\n",
       "      <td>21.057118</td>\n",
       "    </tr>\n",
       "    <tr>\n",
       "      <th>2</th>\n",
       "      <td>2</td>\n",
       "      <td>0.288373</td>\n",
       "      <td>0.288373</td>\n",
       "      <td>0.565944</td>\n",
       "      <td>0.565944</td>\n",
       "      <td>1.484153</td>\n",
       "      <td>1.484153</td>\n",
       "      <td>6.052770</td>\n",
       "      <td>6.549541</td>\n",
       "      <td>7.418184</td>\n",
       "      <td>21.214928</td>\n",
       "    </tr>\n",
       "    <tr>\n",
       "      <th>3</th>\n",
       "      <td>3</td>\n",
       "      <td>0.410287</td>\n",
       "      <td>0.434629</td>\n",
       "      <td>0.763368</td>\n",
       "      <td>1.484153</td>\n",
       "      <td>1.734766</td>\n",
       "      <td>1.734766</td>\n",
       "      <td>6.379838</td>\n",
       "      <td>7.418184</td>\n",
       "      <td>8.711152</td>\n",
       "      <td>22.012266</td>\n",
       "    </tr>\n",
       "    <tr>\n",
       "      <th>4</th>\n",
       "      <td>1</td>\n",
       "      <td>0.259164</td>\n",
       "      <td>0.259164</td>\n",
       "      <td>0.434629</td>\n",
       "      <td>0.434629</td>\n",
       "      <td>1.910158</td>\n",
       "      <td>1.910158</td>\n",
       "      <td>6.357624</td>\n",
       "      <td>7.341951</td>\n",
       "      <td>8.590679</td>\n",
       "      <td>22.014115</td>\n",
       "    </tr>\n",
       "  </tbody>\n",
       "</table>\n",
       "</div>"
      ],
      "text/plain": [
       "   patient_id  arrival_ts  got_greeter_ts  release_greeter_ts  got_reg_ts  \\\n",
       "0           4    0.717711        0.717711            0.939134    1.734766   \n",
       "1           6    1.399215        1.399215            1.622652    2.294436   \n",
       "2           2    0.288373        0.288373            0.565944    0.565944   \n",
       "3           3    0.410287        0.434629            0.763368    1.484153   \n",
       "4           1    0.259164        0.259164            0.434629    0.434629   \n",
       "\n",
       "   release_reg_ts  got_vaccinator_ts  release_vaccinator_ts  got_scheduler_ts  \\\n",
       "0        2.294436           2.294436               5.698411          5.698411   \n",
       "1        2.362507           2.362507               6.046302          6.046302   \n",
       "2        1.484153           1.484153               6.052770          6.549541   \n",
       "3        1.734766           1.734766               6.379838          7.418184   \n",
       "4        1.910158           1.910158               6.357624          7.341951   \n",
       "\n",
       "   release_scheduler_ts  exit_system_ts  \n",
       "0              6.549541       21.053885  \n",
       "1              7.341951       21.057118  \n",
       "2              7.418184       21.214928  \n",
       "3              8.711152       22.012266  \n",
       "4              8.590679       22.014115  "
      ]
     },
     "execution_count": 107,
     "metadata": {},
     "output_type": "execute_result"
    }
   ],
   "source": [
    "clinic_patient_log_df.head()"
   ]
  },
  {
   "cell_type": "markdown",
   "id": "fc4468e2",
   "metadata": {},
   "source": [
    "From these timestamps, it's easy to compute any duration of interest as the difference between two timestampls. For example, the total time in the system is just the `exit_system_ts` minus the `arrival_ts`."
   ]
  },
  {
   "cell_type": "code",
   "execution_count": null,
   "id": "9c0f5c8a",
   "metadata": {},
   "outputs": [],
   "source": [
    "def compute_durations(timestamp_df):\n",
    "    \n",
    "    timestamp_df['wait_for_greeter'] = timestamp_df.loc[:, 'got_greeter_ts'] - timestamp_df.loc[:, 'arrival_ts']\n",
    "    timestamp_df['wait_for_reg'] = timestamp_df.loc[:, 'got_reg_ts'] - timestamp_df.loc[:, 'release_greeter_ts']\n",
    "    timestamp_df['wait_for_vaccinator'] = timestamp_df.loc[:, 'got_vaccinator_ts'] - timestamp_df.loc[:, 'release_reg_ts']\n",
    "    timestamp_df['vaccination_time'] = timestamp_df.loc[:, 'release_vaccinator_ts'] - timestamp_df.loc[:, 'got_vaccinator_ts']\n",
    "    timestamp_df['wait_for_scheduler'] = timestamp_df.loc[:, 'got_scheduler_ts'] - timestamp_df.loc[:, 'release_vaccinator_ts']\n",
    "    timestamp_df['post_vacc_time'] = timestamp_df.loc[:, 'exit_system_ts'] - timestamp_df.loc[:, 'release_vaccinator_ts']\n",
    "    timestamp_df['time_in_system'] = timestamp_df.loc[:, 'exit_system_ts'] - timestamp_df.loc[:, 'arrival_ts']\n",
    "    \n",
    "    return timestamp_df"
   ]
  },
  {
   "cell_type": "code",
   "execution_count": 108,
   "id": "86feae7f",
   "metadata": {},
   "outputs": [
    {
     "data": {
      "text/html": [
       "<div>\n",
       "<style scoped>\n",
       "    .dataframe tbody tr th:only-of-type {\n",
       "        vertical-align: middle;\n",
       "    }\n",
       "\n",
       "    .dataframe tbody tr th {\n",
       "        vertical-align: top;\n",
       "    }\n",
       "\n",
       "    .dataframe thead th {\n",
       "        text-align: right;\n",
       "    }\n",
       "</style>\n",
       "<table border=\"1\" class=\"dataframe\">\n",
       "  <thead>\n",
       "    <tr style=\"text-align: right;\">\n",
       "      <th></th>\n",
       "      <th>patient_id</th>\n",
       "      <th>arrival_ts</th>\n",
       "      <th>got_greeter_ts</th>\n",
       "      <th>release_greeter_ts</th>\n",
       "      <th>got_reg_ts</th>\n",
       "      <th>release_reg_ts</th>\n",
       "      <th>got_vaccinator_ts</th>\n",
       "      <th>release_vaccinator_ts</th>\n",
       "      <th>got_scheduler_ts</th>\n",
       "      <th>release_scheduler_ts</th>\n",
       "      <th>exit_system_ts</th>\n",
       "      <th>wait_for_greeter</th>\n",
       "      <th>wait_for_reg</th>\n",
       "      <th>wait_for_vaccinator</th>\n",
       "      <th>vaccination_time</th>\n",
       "      <th>wait_for_scheduler</th>\n",
       "      <th>post_vacc_time</th>\n",
       "      <th>time_in_system</th>\n",
       "    </tr>\n",
       "  </thead>\n",
       "  <tbody>\n",
       "    <tr>\n",
       "      <th>0</th>\n",
       "      <td>4</td>\n",
       "      <td>0.717711</td>\n",
       "      <td>0.717711</td>\n",
       "      <td>0.939134</td>\n",
       "      <td>1.734766</td>\n",
       "      <td>2.294436</td>\n",
       "      <td>2.294436</td>\n",
       "      <td>5.698411</td>\n",
       "      <td>5.698411</td>\n",
       "      <td>6.549541</td>\n",
       "      <td>21.053885</td>\n",
       "      <td>0.000000</td>\n",
       "      <td>0.795632</td>\n",
       "      <td>0.0</td>\n",
       "      <td>3.403975</td>\n",
       "      <td>0.000000</td>\n",
       "      <td>15.355474</td>\n",
       "      <td>20.336174</td>\n",
       "    </tr>\n",
       "    <tr>\n",
       "      <th>1</th>\n",
       "      <td>6</td>\n",
       "      <td>1.399215</td>\n",
       "      <td>1.399215</td>\n",
       "      <td>1.622652</td>\n",
       "      <td>2.294436</td>\n",
       "      <td>2.362507</td>\n",
       "      <td>2.362507</td>\n",
       "      <td>6.046302</td>\n",
       "      <td>6.046302</td>\n",
       "      <td>7.341951</td>\n",
       "      <td>21.057118</td>\n",
       "      <td>0.000000</td>\n",
       "      <td>0.671784</td>\n",
       "      <td>0.0</td>\n",
       "      <td>3.683794</td>\n",
       "      <td>0.000000</td>\n",
       "      <td>15.010816</td>\n",
       "      <td>19.657903</td>\n",
       "    </tr>\n",
       "    <tr>\n",
       "      <th>2</th>\n",
       "      <td>2</td>\n",
       "      <td>0.288373</td>\n",
       "      <td>0.288373</td>\n",
       "      <td>0.565944</td>\n",
       "      <td>0.565944</td>\n",
       "      <td>1.484153</td>\n",
       "      <td>1.484153</td>\n",
       "      <td>6.052770</td>\n",
       "      <td>6.549541</td>\n",
       "      <td>7.418184</td>\n",
       "      <td>21.214928</td>\n",
       "      <td>0.000000</td>\n",
       "      <td>0.000000</td>\n",
       "      <td>0.0</td>\n",
       "      <td>4.568617</td>\n",
       "      <td>0.496770</td>\n",
       "      <td>15.162158</td>\n",
       "      <td>20.926556</td>\n",
       "    </tr>\n",
       "    <tr>\n",
       "      <th>3</th>\n",
       "      <td>3</td>\n",
       "      <td>0.410287</td>\n",
       "      <td>0.434629</td>\n",
       "      <td>0.763368</td>\n",
       "      <td>1.484153</td>\n",
       "      <td>1.734766</td>\n",
       "      <td>1.734766</td>\n",
       "      <td>6.379838</td>\n",
       "      <td>7.418184</td>\n",
       "      <td>8.711152</td>\n",
       "      <td>22.012266</td>\n",
       "      <td>0.024342</td>\n",
       "      <td>0.720784</td>\n",
       "      <td>0.0</td>\n",
       "      <td>4.645072</td>\n",
       "      <td>1.038346</td>\n",
       "      <td>15.632428</td>\n",
       "      <td>21.601979</td>\n",
       "    </tr>\n",
       "    <tr>\n",
       "      <th>4</th>\n",
       "      <td>1</td>\n",
       "      <td>0.259164</td>\n",
       "      <td>0.259164</td>\n",
       "      <td>0.434629</td>\n",
       "      <td>0.434629</td>\n",
       "      <td>1.910158</td>\n",
       "      <td>1.910158</td>\n",
       "      <td>6.357624</td>\n",
       "      <td>7.341951</td>\n",
       "      <td>8.590679</td>\n",
       "      <td>22.014115</td>\n",
       "      <td>0.000000</td>\n",
       "      <td>0.000000</td>\n",
       "      <td>0.0</td>\n",
       "      <td>4.447467</td>\n",
       "      <td>0.984327</td>\n",
       "      <td>15.656491</td>\n",
       "      <td>21.754951</td>\n",
       "    </tr>\n",
       "    <tr>\n",
       "      <th>...</th>\n",
       "      <td>...</td>\n",
       "      <td>...</td>\n",
       "      <td>...</td>\n",
       "      <td>...</td>\n",
       "      <td>...</td>\n",
       "      <td>...</td>\n",
       "      <td>...</td>\n",
       "      <td>...</td>\n",
       "      <td>...</td>\n",
       "      <td>...</td>\n",
       "      <td>...</td>\n",
       "      <td>...</td>\n",
       "      <td>...</td>\n",
       "      <td>...</td>\n",
       "      <td>...</td>\n",
       "      <td>...</td>\n",
       "      <td>...</td>\n",
       "      <td>...</td>\n",
       "    </tr>\n",
       "    <tr>\n",
       "      <th>1790</th>\n",
       "      <td>1794</td>\n",
       "      <td>599.571397</td>\n",
       "      <td>599.621665</td>\n",
       "      <td>599.890359</td>\n",
       "      <td>853.968054</td>\n",
       "      <td>854.210189</td>\n",
       "      <td>854.210189</td>\n",
       "      <td>858.397241</td>\n",
       "      <td>858.397241</td>\n",
       "      <td>859.260572</td>\n",
       "      <td>873.405911</td>\n",
       "      <td>0.050268</td>\n",
       "      <td>254.077695</td>\n",
       "      <td>0.0</td>\n",
       "      <td>4.187052</td>\n",
       "      <td>0.000000</td>\n",
       "      <td>15.008670</td>\n",
       "      <td>273.834514</td>\n",
       "    </tr>\n",
       "    <tr>\n",
       "      <th>1791</th>\n",
       "      <td>1788</td>\n",
       "      <td>597.674139</td>\n",
       "      <td>597.674139</td>\n",
       "      <td>597.837394</td>\n",
       "      <td>850.057965</td>\n",
       "      <td>853.043204</td>\n",
       "      <td>853.043204</td>\n",
       "      <td>856.690619</td>\n",
       "      <td>NaN</td>\n",
       "      <td>NaN</td>\n",
       "      <td>874.055316</td>\n",
       "      <td>0.000000</td>\n",
       "      <td>252.220571</td>\n",
       "      <td>0.0</td>\n",
       "      <td>3.647416</td>\n",
       "      <td>NaN</td>\n",
       "      <td>17.364696</td>\n",
       "      <td>276.381177</td>\n",
       "    </tr>\n",
       "    <tr>\n",
       "      <th>1792</th>\n",
       "      <td>1792</td>\n",
       "      <td>599.352287</td>\n",
       "      <td>599.352287</td>\n",
       "      <td>599.621665</td>\n",
       "      <td>853.349500</td>\n",
       "      <td>853.968054</td>\n",
       "      <td>853.968054</td>\n",
       "      <td>857.884302</td>\n",
       "      <td>857.884302</td>\n",
       "      <td>859.154074</td>\n",
       "      <td>874.864149</td>\n",
       "      <td>0.000000</td>\n",
       "      <td>253.727834</td>\n",
       "      <td>0.0</td>\n",
       "      <td>3.916247</td>\n",
       "      <td>0.000000</td>\n",
       "      <td>16.979847</td>\n",
       "      <td>275.511863</td>\n",
       "    </tr>\n",
       "    <tr>\n",
       "      <th>1793</th>\n",
       "      <td>1793</td>\n",
       "      <td>599.413497</td>\n",
       "      <td>599.514806</td>\n",
       "      <td>599.682196</td>\n",
       "      <td>853.753272</td>\n",
       "      <td>854.661368</td>\n",
       "      <td>854.661368</td>\n",
       "      <td>859.245274</td>\n",
       "      <td>NaN</td>\n",
       "      <td>NaN</td>\n",
       "      <td>874.877901</td>\n",
       "      <td>0.101309</td>\n",
       "      <td>254.071076</td>\n",
       "      <td>0.0</td>\n",
       "      <td>4.583905</td>\n",
       "      <td>NaN</td>\n",
       "      <td>15.632628</td>\n",
       "      <td>275.464405</td>\n",
       "    </tr>\n",
       "    <tr>\n",
       "      <th>1794</th>\n",
       "      <td>1795</td>\n",
       "      <td>600.156662</td>\n",
       "      <td>600.156662</td>\n",
       "      <td>600.291826</td>\n",
       "      <td>854.210189</td>\n",
       "      <td>855.706348</td>\n",
       "      <td>855.706348</td>\n",
       "      <td>860.377132</td>\n",
       "      <td>860.377132</td>\n",
       "      <td>861.411327</td>\n",
       "      <td>875.438761</td>\n",
       "      <td>0.000000</td>\n",
       "      <td>253.918363</td>\n",
       "      <td>0.0</td>\n",
       "      <td>4.670784</td>\n",
       "      <td>0.000000</td>\n",
       "      <td>15.061629</td>\n",
       "      <td>275.282099</td>\n",
       "    </tr>\n",
       "  </tbody>\n",
       "</table>\n",
       "<p>1795 rows × 18 columns</p>\n",
       "</div>"
      ],
      "text/plain": [
       "      patient_id  arrival_ts  got_greeter_ts  release_greeter_ts  got_reg_ts  \\\n",
       "0              4    0.717711        0.717711            0.939134    1.734766   \n",
       "1              6    1.399215        1.399215            1.622652    2.294436   \n",
       "2              2    0.288373        0.288373            0.565944    0.565944   \n",
       "3              3    0.410287        0.434629            0.763368    1.484153   \n",
       "4              1    0.259164        0.259164            0.434629    0.434629   \n",
       "...          ...         ...             ...                 ...         ...   \n",
       "1790        1794  599.571397      599.621665          599.890359  853.968054   \n",
       "1791        1788  597.674139      597.674139          597.837394  850.057965   \n",
       "1792        1792  599.352287      599.352287          599.621665  853.349500   \n",
       "1793        1793  599.413497      599.514806          599.682196  853.753272   \n",
       "1794        1795  600.156662      600.156662          600.291826  854.210189   \n",
       "\n",
       "      release_reg_ts  got_vaccinator_ts  release_vaccinator_ts  \\\n",
       "0           2.294436           2.294436               5.698411   \n",
       "1           2.362507           2.362507               6.046302   \n",
       "2           1.484153           1.484153               6.052770   \n",
       "3           1.734766           1.734766               6.379838   \n",
       "4           1.910158           1.910158               6.357624   \n",
       "...              ...                ...                    ...   \n",
       "1790      854.210189         854.210189             858.397241   \n",
       "1791      853.043204         853.043204             856.690619   \n",
       "1792      853.968054         853.968054             857.884302   \n",
       "1793      854.661368         854.661368             859.245274   \n",
       "1794      855.706348         855.706348             860.377132   \n",
       "\n",
       "      got_scheduler_ts  release_scheduler_ts  exit_system_ts  \\\n",
       "0             5.698411              6.549541       21.053885   \n",
       "1             6.046302              7.341951       21.057118   \n",
       "2             6.549541              7.418184       21.214928   \n",
       "3             7.418184              8.711152       22.012266   \n",
       "4             7.341951              8.590679       22.014115   \n",
       "...                ...                   ...             ...   \n",
       "1790        858.397241            859.260572      873.405911   \n",
       "1791               NaN                   NaN      874.055316   \n",
       "1792        857.884302            859.154074      874.864149   \n",
       "1793               NaN                   NaN      874.877901   \n",
       "1794        860.377132            861.411327      875.438761   \n",
       "\n",
       "      wait_for_greeter  wait_for_reg  wait_for_vaccinator  vaccination_time  \\\n",
       "0             0.000000      0.795632                  0.0          3.403975   \n",
       "1             0.000000      0.671784                  0.0          3.683794   \n",
       "2             0.000000      0.000000                  0.0          4.568617   \n",
       "3             0.024342      0.720784                  0.0          4.645072   \n",
       "4             0.000000      0.000000                  0.0          4.447467   \n",
       "...                ...           ...                  ...               ...   \n",
       "1790          0.050268    254.077695                  0.0          4.187052   \n",
       "1791          0.000000    252.220571                  0.0          3.647416   \n",
       "1792          0.000000    253.727834                  0.0          3.916247   \n",
       "1793          0.101309    254.071076                  0.0          4.583905   \n",
       "1794          0.000000    253.918363                  0.0          4.670784   \n",
       "\n",
       "      wait_for_scheduler  post_vacc_time  time_in_system  \n",
       "0               0.000000       15.355474       20.336174  \n",
       "1               0.000000       15.010816       19.657903  \n",
       "2               0.496770       15.162158       20.926556  \n",
       "3               1.038346       15.632428       21.601979  \n",
       "4               0.984327       15.656491       21.754951  \n",
       "...                  ...             ...             ...  \n",
       "1790            0.000000       15.008670      273.834514  \n",
       "1791                 NaN       17.364696      276.381177  \n",
       "1792            0.000000       16.979847      275.511863  \n",
       "1793                 NaN       15.632628      275.464405  \n",
       "1794            0.000000       15.061629      275.282099  \n",
       "\n",
       "[1795 rows x 18 columns]"
      ]
     },
     "execution_count": 108,
     "metadata": {},
     "output_type": "execute_result"
    }
   ],
   "source": [
    "clinic_patient_log_df = compute_durations(clinic_patient_log_df)\n",
    "clinic_patient_log_df"
   ]
  },
  {
   "cell_type": "markdown",
   "id": "a2efc350",
   "metadata": {},
   "source": [
    "### Histgram of total time in system"
   ]
  },
  {
   "cell_type": "code",
   "execution_count": 109,
   "id": "30d57afe",
   "metadata": {},
   "outputs": [
    {
     "data": {
      "image/png": "[encoded data removed]",
      "text/plain": [
       "<Figure size 432x288 with 1 Axes>"
      ]
     },
     "metadata": {
      "needs_background": "light"
     },
     "output_type": "display_data"
    }
   ],
   "source": [
    "plt.hist(clinic_patient_log_df['time_in_system']);"
   ]
  },
  {
   "cell_type": "markdown",
   "id": "c6688221",
   "metadata": {},
   "source": [
    "Wow, some patients are spending close to five hours in the clinic!"
   ]
  },
  {
   "cell_type": "markdown",
   "id": "6cddd74a",
   "metadata": {},
   "source": [
    "### Key summary stats\n",
    "Let's look at the wait times for each stage of the process."
   ]
  },
  {
   "cell_type": "code",
   "execution_count": 110,
   "id": "e5907c40",
   "metadata": {},
   "outputs": [
    {
     "data": {
      "text/html": [
       "<div>\n",
       "<style scoped>\n",
       "    .dataframe tbody tr th:only-of-type {\n",
       "        vertical-align: middle;\n",
       "    }\n",
       "\n",
       "    .dataframe tbody tr th {\n",
       "        vertical-align: top;\n",
       "    }\n",
       "\n",
       "    .dataframe thead th {\n",
       "        text-align: right;\n",
       "    }\n",
       "</style>\n",
       "<table border=\"1\" class=\"dataframe\">\n",
       "  <thead>\n",
       "    <tr style=\"text-align: right;\">\n",
       "      <th></th>\n",
       "      <th>wait_for_greeter</th>\n",
       "      <th>wait_for_reg</th>\n",
       "      <th>wait_for_scheduler</th>\n",
       "      <th>wait_for_vaccinator</th>\n",
       "      <th>time_in_system</th>\n",
       "    </tr>\n",
       "  </thead>\n",
       "  <tbody>\n",
       "    <tr>\n",
       "      <th>count</th>\n",
       "      <td>1795.000000</td>\n",
       "      <td>1795.000000</td>\n",
       "      <td>871.000000</td>\n",
       "      <td>1795.000000</td>\n",
       "      <td>1795.000000</td>\n",
       "    </tr>\n",
       "    <tr>\n",
       "      <th>mean</th>\n",
       "      <td>0.025998</td>\n",
       "      <td>129.663089</td>\n",
       "      <td>0.179059</td>\n",
       "      <td>0.147750</td>\n",
       "      <td>150.574948</td>\n",
       "    </tr>\n",
       "    <tr>\n",
       "      <th>std</th>\n",
       "      <td>0.066186</td>\n",
       "      <td>72.980450</td>\n",
       "      <td>0.340598</td>\n",
       "      <td>0.423286</td>\n",
       "      <td>73.001200</td>\n",
       "    </tr>\n",
       "    <tr>\n",
       "      <th>min</th>\n",
       "      <td>0.000000</td>\n",
       "      <td>0.000000</td>\n",
       "      <td>0.000000</td>\n",
       "      <td>0.000000</td>\n",
       "      <td>19.277677</td>\n",
       "    </tr>\n",
       "    <tr>\n",
       "      <th>25%</th>\n",
       "      <td>0.000000</td>\n",
       "      <td>63.018129</td>\n",
       "      <td>0.000000</td>\n",
       "      <td>0.000000</td>\n",
       "      <td>83.709162</td>\n",
       "    </tr>\n",
       "    <tr>\n",
       "      <th>50%</th>\n",
       "      <td>0.000000</td>\n",
       "      <td>128.710459</td>\n",
       "      <td>0.000000</td>\n",
       "      <td>0.000000</td>\n",
       "      <td>149.288585</td>\n",
       "    </tr>\n",
       "    <tr>\n",
       "      <th>75%</th>\n",
       "      <td>0.000000</td>\n",
       "      <td>196.835437</td>\n",
       "      <td>0.227505</td>\n",
       "      <td>0.000000</td>\n",
       "      <td>217.463601</td>\n",
       "    </tr>\n",
       "    <tr>\n",
       "      <th>max</th>\n",
       "      <td>0.448619</td>\n",
       "      <td>254.077695</td>\n",
       "      <td>2.002851</td>\n",
       "      <td>3.424977</td>\n",
       "      <td>276.381177</td>\n",
       "    </tr>\n",
       "  </tbody>\n",
       "</table>\n",
       "</div>"
      ],
      "text/plain": [
       "       wait_for_greeter  wait_for_reg  wait_for_scheduler  \\\n",
       "count       1795.000000   1795.000000          871.000000   \n",
       "mean           0.025998    129.663089            0.179059   \n",
       "std            0.066186     72.980450            0.340598   \n",
       "min            0.000000      0.000000            0.000000   \n",
       "25%            0.000000     63.018129            0.000000   \n",
       "50%            0.000000    128.710459            0.000000   \n",
       "75%            0.000000    196.835437            0.227505   \n",
       "max            0.448619    254.077695            2.002851   \n",
       "\n",
       "       wait_for_vaccinator  time_in_system  \n",
       "count          1795.000000     1795.000000  \n",
       "mean              0.147750      150.574948  \n",
       "std               0.423286       73.001200  \n",
       "min               0.000000       19.277677  \n",
       "25%               0.000000       83.709162  \n",
       "50%               0.000000      149.288585  \n",
       "75%               0.000000      217.463601  \n",
       "max               3.424977      276.381177  "
      ]
     },
     "execution_count": 110,
     "metadata": {},
     "output_type": "execute_result"
    }
   ],
   "source": [
    "clinic_patient_log_df.loc[:, ['wait_for_greeter', 'wait_for_reg',\n",
    "                              'wait_for_scheduler', 'wait_for_vaccinator', 'time_in_system']].describe()\n"
   ]
  },
  {
   "cell_type": "markdown",
   "id": "cf5202b9",
   "metadata": {},
   "source": [
    "Looks like registration is definitely a bottleneck. We should try increasing the number of registration staff and rerunning the model. Of course, the bottleneck can move, but we can keep repeating this process and come up with a workable capacity plan. We'll do this with a later version of the model that's implemented as a Python script. It will be much more convenient to try out different scenarios in that way.\n",
    "\n",
    "For now, let's just copy our `main` function and increase the capacity levels quite high (to basically eliminate waiting)."
   ]
  },
  {
   "cell_type": "code",
   "execution_count": 111,
   "id": "61886d14",
   "metadata": {},
   "outputs": [],
   "source": [
    "def main():\n",
    "    \n",
    "    # For now we are hard coding the patient arrival rate (patients per hour)\n",
    "    patients_per_hour = 180\n",
    "    mean_interarrival_time = 1.0 / (patients_per_hour / 60.0)\n",
    "    pct_first_dose = 0.50\n",
    "    \n",
    "    # Create a random number generator\n",
    "    rg = default_rng(seed=4470)\n",
    "    \n",
    "    # For now we are going to hard code in the resource capacity levels\n",
    "    # \n",
    "    num_greeters = 5\n",
    "    num_reg_staff = 5\n",
    "    num_vaccinators = 15\n",
    "    num_schedulers = 5\n",
    "    \n",
    "    # Hours of operation\n",
    "    stoptime = 600 # No more arrivals after this time\n",
    "    \n",
    "    # Create a simulation environment\n",
    "    env = simpy.Environment()\n",
    "    # Create a clinic to simulate\n",
    "    clinic = VaccineClinic(env, num_greeters, num_reg_staff, num_vaccinators, num_schedulers, rg)\n",
    "    \n",
    "    # Register the run_clinic (generator) function\n",
    "    env.process(run_clinic(env, clinic, mean_interarrival_time, pct_first_dose, rg, stoptime=stoptime))\n",
    "    # Actually run the simulation\n",
    "    env.run()\n",
    "    \n",
    "    # The simulation is over now, let's create the output csv files from \n",
    "    # the dataframes created by running the simulation model.\n",
    "    \n",
    "    # Output log files \n",
    "    clinic_patient_log_df = pd.DataFrame(clinic.timestamps_list)\n",
    "    clinic_patient_log_df.to_csv('./output/clinic_patient_log_df.csv', index=False)\n",
    "    \n",
    "    vac_occupancy_df = pd.DataFrame(clinic.vac_occupancy_list, columns=['ts', 'occ'])\n",
    "    vac_occupancy_df.to_csv('./output/vac_occupancy_df.csv', index=False)\n",
    "    \n",
    "    postvac_occupancy_df = pd.DataFrame(clinic.postvac_occupancy_list, columns=['ts', 'occ'])\n",
    "    postvac_occupancy_df.to_csv('./output/postvac_occupancy_df.csv', index=False)\n",
    "    \n",
    "    # Note simulation end time\n",
    "    end_time = env.now\n",
    "    print(f\"Simulation ended at time {end_time}\")\n",
    "    return (end_time)\n",
    "\n",
    "\n",
    "\n"
   ]
  },
  {
   "cell_type": "code",
   "execution_count": 112,
   "id": "ef8e66bf",
   "metadata": {
    "tags": []
   },
   "outputs": [
    {
     "name": "stdout",
     "output_type": "stream",
     "text": [
      "Simulation ended at time 623.0704926354564\n"
     ]
    }
   ],
   "source": [
    "clinic_end_time = main()"
   ]
  },
  {
   "cell_type": "code",
   "execution_count": 113,
   "id": "5bab6f83",
   "metadata": {
    "tags": []
   },
   "outputs": [
    {
     "data": {
      "text/html": [
       "<div>\n",
       "<style scoped>\n",
       "    .dataframe tbody tr th:only-of-type {\n",
       "        vertical-align: middle;\n",
       "    }\n",
       "\n",
       "    .dataframe tbody tr th {\n",
       "        vertical-align: top;\n",
       "    }\n",
       "\n",
       "    .dataframe thead th {\n",
       "        text-align: right;\n",
       "    }\n",
       "</style>\n",
       "<table border=\"1\" class=\"dataframe\">\n",
       "  <thead>\n",
       "    <tr style=\"text-align: right;\">\n",
       "      <th></th>\n",
       "      <th>wait_for_greeter</th>\n",
       "      <th>wait_for_reg</th>\n",
       "      <th>wait_for_scheduler</th>\n",
       "      <th>wait_for_vaccinator</th>\n",
       "      <th>time_in_system</th>\n",
       "    </tr>\n",
       "  </thead>\n",
       "  <tbody>\n",
       "    <tr>\n",
       "      <th>count</th>\n",
       "      <td>1778.0</td>\n",
       "      <td>1778.000000</td>\n",
       "      <td>922.000000</td>\n",
       "      <td>1778.000000</td>\n",
       "      <td>1778.000000</td>\n",
       "    </tr>\n",
       "    <tr>\n",
       "      <th>mean</th>\n",
       "      <td>0.0</td>\n",
       "      <td>0.130708</td>\n",
       "      <td>0.002411</td>\n",
       "      <td>0.176267</td>\n",
       "      <td>21.039143</td>\n",
       "    </tr>\n",
       "    <tr>\n",
       "      <th>std</th>\n",
       "      <td>0.0</td>\n",
       "      <td>0.384609</td>\n",
       "      <td>0.025451</td>\n",
       "      <td>0.409269</td>\n",
       "      <td>1.312444</td>\n",
       "    </tr>\n",
       "    <tr>\n",
       "      <th>min</th>\n",
       "      <td>0.0</td>\n",
       "      <td>0.000000</td>\n",
       "      <td>0.000000</td>\n",
       "      <td>0.000000</td>\n",
       "      <td>17.475336</td>\n",
       "    </tr>\n",
       "    <tr>\n",
       "      <th>25%</th>\n",
       "      <td>0.0</td>\n",
       "      <td>0.000000</td>\n",
       "      <td>0.000000</td>\n",
       "      <td>0.000000</td>\n",
       "      <td>20.126669</td>\n",
       "    </tr>\n",
       "    <tr>\n",
       "      <th>50%</th>\n",
       "      <td>0.0</td>\n",
       "      <td>0.000000</td>\n",
       "      <td>0.000000</td>\n",
       "      <td>0.000000</td>\n",
       "      <td>20.825312</td>\n",
       "    </tr>\n",
       "    <tr>\n",
       "      <th>75%</th>\n",
       "      <td>0.0</td>\n",
       "      <td>0.000000</td>\n",
       "      <td>0.000000</td>\n",
       "      <td>0.000929</td>\n",
       "      <td>21.754690</td>\n",
       "    </tr>\n",
       "    <tr>\n",
       "      <th>max</th>\n",
       "      <td>0.0</td>\n",
       "      <td>3.593090</td>\n",
       "      <td>0.400001</td>\n",
       "      <td>2.650919</td>\n",
       "      <td>29.633032</td>\n",
       "    </tr>\n",
       "  </tbody>\n",
       "</table>\n",
       "</div>"
      ],
      "text/plain": [
       "       wait_for_greeter  wait_for_reg  wait_for_scheduler  \\\n",
       "count            1778.0   1778.000000          922.000000   \n",
       "mean                0.0      0.130708            0.002411   \n",
       "std                 0.0      0.384609            0.025451   \n",
       "min                 0.0      0.000000            0.000000   \n",
       "25%                 0.0      0.000000            0.000000   \n",
       "50%                 0.0      0.000000            0.000000   \n",
       "75%                 0.0      0.000000            0.000000   \n",
       "max                 0.0      3.593090            0.400001   \n",
       "\n",
       "       wait_for_vaccinator  time_in_system  \n",
       "count          1778.000000     1778.000000  \n",
       "mean              0.176267       21.039143  \n",
       "std               0.409269        1.312444  \n",
       "min               0.000000       17.475336  \n",
       "25%               0.000000       20.126669  \n",
       "50%               0.000000       20.825312  \n",
       "75%               0.000929       21.754690  \n",
       "max               2.650919       29.633032  "
      ]
     },
     "execution_count": 113,
     "metadata": {},
     "output_type": "execute_result"
    }
   ],
   "source": [
    "clinic_patient_log_df = pd.read_csv('./output/clinic_patient_log_df.csv')\n",
    "clinic_patient_log_df = compute_durations(clinic_patient_log_df)\n",
    "clinic_patient_log_df.loc[:, ['wait_for_greeter', 'wait_for_reg',\n",
    "                              'wait_for_scheduler', 'wait_for_vaccinator', 'time_in_system']].describe()"
   ]
  },
  {
   "cell_type": "markdown",
   "id": "9bd377d7",
   "metadata": {},
   "source": [
    "### The time dependent nature of our metrics\n",
    "Since each day the clinic starts out empty and then ends ten hours later, the wait times may depend on time of day. Of course there is also likely to be much variability just do to the inherent randomness of the system. Let's plot a rolling mean for time in system. "
   ]
  },
  {
   "cell_type": "code",
   "execution_count": 114,
   "id": "1f9b152c",
   "metadata": {},
   "outputs": [
    {
     "data": {
      "text/plain": [
       "[<matplotlib.lines.Line2D at 0x1ae6ae2c488>]"
      ]
     },
     "execution_count": 114,
     "metadata": {},
     "output_type": "execute_result"
    },
    {
     "data": {
      "image/png": "[encoded data removed]",
      "text/plain": [
       "<Figure size 432x288 with 1 Axes>"
      ]
     },
     "metadata": {
      "needs_background": "light"
     },
     "output_type": "display_data"
    }
   ],
   "source": [
    "y = clinic_patient_log_df['time_in_system'].rolling(100, 10).mean()\n",
    "plt.plot(y)"
   ]
  },
  {
   "cell_type": "markdown",
   "id": "d1a2c1cb",
   "metadata": {},
   "source": [
    "### Occupancy statistics\n",
    "\n",
    "In addition to patient level metrics, we are interested in clinic level metrics such as the number of patients in each stage as this will impact space requirements. During the simulation, we collected occupancy data every time a patient entered or exited a stage. So, we need to do time weighted statistics."
   ]
  },
  {
   "cell_type": "code",
   "execution_count": 115,
   "id": "d526c68e",
   "metadata": {},
   "outputs": [
    {
     "name": "stdout",
     "output_type": "stream",
     "text": [
      "<class 'pandas.core.frame.DataFrame'>\n",
      "RangeIndex: 3557 entries, 0 to 3556\n",
      "Data columns (total 2 columns):\n",
      " #   Column  Non-Null Count  Dtype  \n",
      "---  ------  --------------  -----  \n",
      " 0   ts      3557 non-null   float64\n",
      " 1   occ     3557 non-null   float64\n",
      "dtypes: float64(2)\n",
      "memory usage: 55.7 KB\n"
     ]
    }
   ],
   "source": [
    "postvac_occupancy_df = pd.read_csv('./output/postvac_occupancy_df.csv')\n",
    "vac_occupancy_df = pd.read_csv('./output/vac_occupancy_df.csv')\n",
    "postvac_occupancy_df.info()"
   ]
  },
  {
   "cell_type": "code",
   "execution_count": 116,
   "id": "367acdc4",
   "metadata": {},
   "outputs": [
    {
     "data": {
      "text/html": [
       "<div>\n",
       "<style scoped>\n",
       "    .dataframe tbody tr th:only-of-type {\n",
       "        vertical-align: middle;\n",
       "    }\n",
       "\n",
       "    .dataframe tbody tr th {\n",
       "        vertical-align: top;\n",
       "    }\n",
       "\n",
       "    .dataframe thead th {\n",
       "        text-align: right;\n",
       "    }\n",
       "</style>\n",
       "<table border=\"1\" class=\"dataframe\">\n",
       "  <thead>\n",
       "    <tr style=\"text-align: right;\">\n",
       "      <th></th>\n",
       "      <th>ts</th>\n",
       "      <th>occ</th>\n",
       "    </tr>\n",
       "  </thead>\n",
       "  <tbody>\n",
       "    <tr>\n",
       "      <th>250</th>\n",
       "      <td>61.144806</td>\n",
       "      <td>40.0</td>\n",
       "    </tr>\n",
       "    <tr>\n",
       "      <th>251</th>\n",
       "      <td>61.351138</td>\n",
       "      <td>41.0</td>\n",
       "    </tr>\n",
       "    <tr>\n",
       "      <th>252</th>\n",
       "      <td>61.384551</td>\n",
       "      <td>40.0</td>\n",
       "    </tr>\n",
       "    <tr>\n",
       "      <th>253</th>\n",
       "      <td>61.485180</td>\n",
       "      <td>39.0</td>\n",
       "    </tr>\n",
       "    <tr>\n",
       "      <th>254</th>\n",
       "      <td>61.553590</td>\n",
       "      <td>40.0</td>\n",
       "    </tr>\n",
       "    <tr>\n",
       "      <th>255</th>\n",
       "      <td>61.640973</td>\n",
       "      <td>39.0</td>\n",
       "    </tr>\n",
       "    <tr>\n",
       "      <th>256</th>\n",
       "      <td>61.691657</td>\n",
       "      <td>40.0</td>\n",
       "    </tr>\n",
       "    <tr>\n",
       "      <th>257</th>\n",
       "      <td>61.754711</td>\n",
       "      <td>39.0</td>\n",
       "    </tr>\n",
       "    <tr>\n",
       "      <th>258</th>\n",
       "      <td>61.845740</td>\n",
       "      <td>40.0</td>\n",
       "    </tr>\n",
       "    <tr>\n",
       "      <th>259</th>\n",
       "      <td>62.015444</td>\n",
       "      <td>39.0</td>\n",
       "    </tr>\n",
       "    <tr>\n",
       "      <th>260</th>\n",
       "      <td>62.233272</td>\n",
       "      <td>40.0</td>\n",
       "    </tr>\n",
       "    <tr>\n",
       "      <th>261</th>\n",
       "      <td>62.269452</td>\n",
       "      <td>41.0</td>\n",
       "    </tr>\n",
       "    <tr>\n",
       "      <th>262</th>\n",
       "      <td>62.347688</td>\n",
       "      <td>42.0</td>\n",
       "    </tr>\n",
       "    <tr>\n",
       "      <th>263</th>\n",
       "      <td>62.601885</td>\n",
       "      <td>43.0</td>\n",
       "    </tr>\n",
       "    <tr>\n",
       "      <th>264</th>\n",
       "      <td>62.689000</td>\n",
       "      <td>44.0</td>\n",
       "    </tr>\n",
       "    <tr>\n",
       "      <th>265</th>\n",
       "      <td>62.967851</td>\n",
       "      <td>45.0</td>\n",
       "    </tr>\n",
       "    <tr>\n",
       "      <th>266</th>\n",
       "      <td>63.246709</td>\n",
       "      <td>44.0</td>\n",
       "    </tr>\n",
       "    <tr>\n",
       "      <th>267</th>\n",
       "      <td>63.927832</td>\n",
       "      <td>45.0</td>\n",
       "    </tr>\n",
       "    <tr>\n",
       "      <th>268</th>\n",
       "      <td>63.944471</td>\n",
       "      <td>46.0</td>\n",
       "    </tr>\n",
       "    <tr>\n",
       "      <th>269</th>\n",
       "      <td>63.976801</td>\n",
       "      <td>45.0</td>\n",
       "    </tr>\n",
       "    <tr>\n",
       "      <th>270</th>\n",
       "      <td>64.074766</td>\n",
       "      <td>46.0</td>\n",
       "    </tr>\n",
       "    <tr>\n",
       "      <th>271</th>\n",
       "      <td>64.386521</td>\n",
       "      <td>45.0</td>\n",
       "    </tr>\n",
       "    <tr>\n",
       "      <th>272</th>\n",
       "      <td>64.415047</td>\n",
       "      <td>46.0</td>\n",
       "    </tr>\n",
       "    <tr>\n",
       "      <th>273</th>\n",
       "      <td>65.084974</td>\n",
       "      <td>47.0</td>\n",
       "    </tr>\n",
       "    <tr>\n",
       "      <th>274</th>\n",
       "      <td>65.257475</td>\n",
       "      <td>48.0</td>\n",
       "    </tr>\n",
       "  </tbody>\n",
       "</table>\n",
       "</div>"
      ],
      "text/plain": [
       "            ts   occ\n",
       "250  61.144806  40.0\n",
       "251  61.351138  41.0\n",
       "252  61.384551  40.0\n",
       "253  61.485180  39.0\n",
       "254  61.553590  40.0\n",
       "255  61.640973  39.0\n",
       "256  61.691657  40.0\n",
       "257  61.754711  39.0\n",
       "258  61.845740  40.0\n",
       "259  62.015444  39.0\n",
       "260  62.233272  40.0\n",
       "261  62.269452  41.0\n",
       "262  62.347688  42.0\n",
       "263  62.601885  43.0\n",
       "264  62.689000  44.0\n",
       "265  62.967851  45.0\n",
       "266  63.246709  44.0\n",
       "267  63.927832  45.0\n",
       "268  63.944471  46.0\n",
       "269  63.976801  45.0\n",
       "270  64.074766  46.0\n",
       "271  64.386521  45.0\n",
       "272  64.415047  46.0\n",
       "273  65.084974  47.0\n",
       "274  65.257475  48.0"
      ]
     },
     "execution_count": 116,
     "metadata": {},
     "output_type": "execute_result"
    }
   ],
   "source": [
    "postvac_occupancy_df.iloc[250:275,]"
   ]
  },
  {
   "cell_type": "markdown",
   "id": "a5b64a81",
   "metadata": {},
   "source": [
    "In order to make it easier to compute time averaged statistics, we will compute the amount of time between occupancy changes. These time durations will act as weights for computing time averaged statistics such as average occupancy. You cannot just do a simple average. "
   ]
  },
  {
   "cell_type": "code",
   "execution_count": 117,
   "id": "b12a7a04",
   "metadata": {},
   "outputs": [],
   "source": [
    "# Compute difference between ts[i] i and ts[i + 1] \n",
    "# (in pandas this corresponds to periods=-1 in diff() function)\n",
    "postvac_occupancy_df['occ_weight'] = -1 * postvac_occupancy_df['ts'].diff(periods=-1)\n",
    "vac_occupancy_df['occ_weight'] = -1 * postvac_occupancy_df['ts'].diff(periods=-1)\n",
    "\n",
    "# Need last occ_weight to compute weight for last row\n",
    "last_weight = clinic_end_time - postvac_occupancy_df.iloc[-1, 0]\n",
    "postvac_occupancy_df.fillna(last_weight, inplace=True)\n",
    "\n",
    "last_weight = clinic_end_time - vac_occupancy_df.iloc[-1, 0]\n",
    "vac_occupancy_df.fillna(last_weight, inplace=True)"
   ]
  },
  {
   "cell_type": "code",
   "execution_count": 118,
   "id": "264a66ef",
   "metadata": {},
   "outputs": [
    {
     "data": {
      "text/plain": [
       "44.22093585099425"
      ]
     },
     "execution_count": 118,
     "metadata": {},
     "output_type": "execute_result"
    }
   ],
   "source": [
    "np.average(a=postvac_occupancy_df['occ'], weights=postvac_occupancy_df['occ_weight'])"
   ]
  },
  {
   "cell_type": "markdown",
   "id": "961ffa49",
   "metadata": {},
   "source": [
    "To make these ideas more concrete, just look at a few rows of the occupancy dataframe."
   ]
  },
  {
   "cell_type": "code",
   "execution_count": 119,
   "id": "7d1526fb",
   "metadata": {},
   "outputs": [
    {
     "data": {
      "text/html": [
       "<div>\n",
       "<style scoped>\n",
       "    .dataframe tbody tr th:only-of-type {\n",
       "        vertical-align: middle;\n",
       "    }\n",
       "\n",
       "    .dataframe tbody tr th {\n",
       "        vertical-align: top;\n",
       "    }\n",
       "\n",
       "    .dataframe thead th {\n",
       "        text-align: right;\n",
       "    }\n",
       "</style>\n",
       "<table border=\"1\" class=\"dataframe\">\n",
       "  <thead>\n",
       "    <tr style=\"text-align: right;\">\n",
       "      <th></th>\n",
       "      <th>ts</th>\n",
       "      <th>occ</th>\n",
       "      <th>occ_weight</th>\n",
       "    </tr>\n",
       "  </thead>\n",
       "  <tbody>\n",
       "    <tr>\n",
       "      <th>0</th>\n",
       "      <td>0.000000</td>\n",
       "      <td>0.0</td>\n",
       "      <td>4.780552</td>\n",
       "    </tr>\n",
       "    <tr>\n",
       "      <th>1</th>\n",
       "      <td>4.780552</td>\n",
       "      <td>1.0</td>\n",
       "      <td>0.177135</td>\n",
       "    </tr>\n",
       "    <tr>\n",
       "      <th>2</th>\n",
       "      <td>4.957687</td>\n",
       "      <td>2.0</td>\n",
       "      <td>0.232196</td>\n",
       "    </tr>\n",
       "    <tr>\n",
       "      <th>3</th>\n",
       "      <td>5.189882</td>\n",
       "      <td>3.0</td>\n",
       "      <td>0.179204</td>\n",
       "    </tr>\n",
       "    <tr>\n",
       "      <th>4</th>\n",
       "      <td>5.369087</td>\n",
       "      <td>4.0</td>\n",
       "      <td>0.436598</td>\n",
       "    </tr>\n",
       "    <tr>\n",
       "      <th>...</th>\n",
       "      <td>...</td>\n",
       "      <td>...</td>\n",
       "      <td>...</td>\n",
       "    </tr>\n",
       "    <tr>\n",
       "      <th>3552</th>\n",
       "      <td>619.324951</td>\n",
       "      <td>4.0</td>\n",
       "      <td>0.462171</td>\n",
       "    </tr>\n",
       "    <tr>\n",
       "      <th>3553</th>\n",
       "      <td>619.787122</td>\n",
       "      <td>3.0</td>\n",
       "      <td>1.081432</td>\n",
       "    </tr>\n",
       "    <tr>\n",
       "      <th>3554</th>\n",
       "      <td>620.868554</td>\n",
       "      <td>2.0</td>\n",
       "      <td>1.182041</td>\n",
       "    </tr>\n",
       "    <tr>\n",
       "      <th>3555</th>\n",
       "      <td>622.050595</td>\n",
       "      <td>1.0</td>\n",
       "      <td>1.019898</td>\n",
       "    </tr>\n",
       "    <tr>\n",
       "      <th>3556</th>\n",
       "      <td>623.070493</td>\n",
       "      <td>0.0</td>\n",
       "      <td>0.000000</td>\n",
       "    </tr>\n",
       "  </tbody>\n",
       "</table>\n",
       "<p>3557 rows × 3 columns</p>\n",
       "</div>"
      ],
      "text/plain": [
       "              ts  occ  occ_weight\n",
       "0       0.000000  0.0    4.780552\n",
       "1       4.780552  1.0    0.177135\n",
       "2       4.957687  2.0    0.232196\n",
       "3       5.189882  3.0    0.179204\n",
       "4       5.369087  4.0    0.436598\n",
       "...          ...  ...         ...\n",
       "3552  619.324951  4.0    0.462171\n",
       "3553  619.787122  3.0    1.081432\n",
       "3554  620.868554  2.0    1.182041\n",
       "3555  622.050595  1.0    1.019898\n",
       "3556  623.070493  0.0    0.000000\n",
       "\n",
       "[3557 rows x 3 columns]"
      ]
     },
     "execution_count": 119,
     "metadata": {},
     "output_type": "execute_result"
    }
   ],
   "source": [
    "postvac_occupancy_df"
   ]
  },
  {
   "cell_type": "markdown",
   "id": "a1f8be5c",
   "metadata": {},
   "source": [
    "Let's plot the occupancy over time in the post-vaccination stage. The first plot is the entire day and the second just focuses on a small time slice so that we can see that these are discrete integer changes in occupancy."
   ]
  },
  {
   "cell_type": "code",
   "execution_count": 120,
   "id": "fab64647",
   "metadata": {},
   "outputs": [
    {
     "data": {
      "text/plain": [
       "[<matplotlib.lines.Line2D at 0x1ae6a925ac8>]"
      ]
     },
     "execution_count": 120,
     "metadata": {},
     "output_type": "execute_result"
    },
    {
     "data": {
      "image/png": "[encoded data removed]",
      "text/plain": [
       "<Figure size 432x288 with 1 Axes>"
      ]
     },
     "metadata": {
      "needs_background": "light"
     },
     "output_type": "display_data"
    }
   ],
   "source": [
    "plt.step(postvac_occupancy_df['ts'], postvac_occupancy_df['occ'])"
   ]
  },
  {
   "cell_type": "code",
   "execution_count": 121,
   "id": "d50bad64",
   "metadata": {},
   "outputs": [
    {
     "data": {
      "image/png": "[encoded data removed]",
      "text/plain": [
       "<Figure size 432x288 with 1 Axes>"
      ]
     },
     "metadata": {
      "needs_background": "light"
     },
     "output_type": "display_data"
    }
   ],
   "source": [
    "plt.step(postvac_occupancy_df['ts'], postvac_occupancy_df['occ'])\n",
    "plt.xlim(20, 24)\n",
    "plt.ylim(20, 55)\n",
    "plt.show();"
   ]
  },
  {
   "cell_type": "markdown",
   "id": "a136798a",
   "metadata": {},
   "source": [
    "Now let's plot occupancy in the vaccination stage. Why does it look so different?"
   ]
  },
  {
   "cell_type": "code",
   "execution_count": 122,
   "id": "28087470",
   "metadata": {},
   "outputs": [
    {
     "data": {
      "text/plain": [
       "[<matplotlib.lines.Line2D at 0x1ae6a8c93c8>]"
      ]
     },
     "execution_count": 122,
     "metadata": {},
     "output_type": "execute_result"
    },
    {
     "data": {
      "image/png": "[encoded data removed]",
      "text/plain": [
       "<Figure size 432x288 with 1 Axes>"
      ]
     },
     "metadata": {
      "needs_background": "light"
     },
     "output_type": "display_data"
    }
   ],
   "source": [
    "plt.step(vac_occupancy_df['ts'], vac_occupancy_df['occ'])"
   ]
  },
  {
   "cell_type": "markdown",
   "id": "cae39f48",
   "metadata": {},
   "source": [
    "For capacitated resources, we are often interested in utilization. This is just the ratio of total occupancy to available capacity."
   ]
  },
  {
   "cell_type": "code",
   "execution_count": 123,
   "id": "1a911ebd",
   "metadata": {},
   "outputs": [
    {
     "data": {
      "text/plain": [
       "9346.057389531847"
      ]
     },
     "execution_count": 123,
     "metadata": {},
     "output_type": "execute_result"
    }
   ],
   "source": [
    "num_vaccinators = 15\n",
    "available_capacity = clinic_end_time * num_vaccinators\n",
    "available_capacity"
   ]
  },
  {
   "cell_type": "code",
   "execution_count": 124,
   "id": "0f8637bb",
   "metadata": {},
   "outputs": [
    {
     "name": "stdout",
     "output_type": "stream",
     "text": [
      "Vaccinator utilization: 0.760\n"
     ]
    }
   ],
   "source": [
    "used_capacity = clinic_patient_log_df['vaccination_time'].sum()\n",
    "\n",
    "vaccinator_utilization = used_capacity / available_capacity\n",
    "\n",
    "print(f\"Vaccinator utilization: {vaccinator_utilization:0.3f}\")"
   ]
  },
  {
   "cell_type": "markdown",
   "id": "145f59d6",
   "metadata": {},
   "source": [
    "To do things like weighted standard deviations or weighted quantiles, we can use the statsmodels package.\n",
    "\n",
    "https://www.statsmodels.org/stable/generated/statsmodels.stats.weightstats.DescrStatsW.html"
   ]
  },
  {
   "cell_type": "code",
   "execution_count": null,
   "id": "05256e81",
   "metadata": {},
   "outputs": [],
   "source": [
    "from statsmodels.stats.weightstats import DescrStatsW"
   ]
  },
  {
   "cell_type": "code",
   "execution_count": 125,
   "id": "c8c60b79",
   "metadata": {},
   "outputs": [],
   "source": [
    "# Create a weighted stats object\n",
    "weighted_stats = DescrStatsW(postvac_occupancy_df['occ'], weights=postvac_occupancy_df['occ_weight'], ddof=0)"
   ]
  },
  {
   "cell_type": "code",
   "execution_count": 126,
   "id": "083c8fba",
   "metadata": {},
   "outputs": [
    {
     "data": {
      "text/plain": [
       "44.22093585099425"
      ]
     },
     "execution_count": 126,
     "metadata": {},
     "output_type": "execute_result"
    }
   ],
   "source": [
    "weighted_stats.mean"
   ]
  },
  {
   "cell_type": "code",
   "execution_count": 127,
   "id": "b61ad558",
   "metadata": {},
   "outputs": [
    {
     "data": {
      "text/plain": [
       "9.395653520835333"
      ]
     },
     "execution_count": 127,
     "metadata": {},
     "output_type": "execute_result"
    }
   ],
   "source": [
    "weighted_stats.std"
   ]
  },
  {
   "cell_type": "code",
   "execution_count": 128,
   "id": "b6e41d7c",
   "metadata": {},
   "outputs": [
    {
     "data": {
      "text/plain": [
       "p\n",
       "0.00     0.0\n",
       "0.01     2.0\n",
       "0.05    30.0\n",
       "0.25    41.0\n",
       "0.50    45.0\n",
       "0.75    50.0\n",
       "0.95    56.0\n",
       "0.99    59.0\n",
       "dtype: float64"
      ]
     },
     "execution_count": 128,
     "metadata": {},
     "output_type": "execute_result"
    }
   ],
   "source": [
    "weighted_stats.quantile([0, 0.01, 0.05, 0.25, 0.50, 0.75, 0.95, 0.99])"
   ]
  },
  {
   "cell_type": "markdown",
   "id": "8fda49f1",
   "metadata": {},
   "source": [
    "If we want to minimize the \"startup effect\", we might throw out data for the first 100 patients."
   ]
  },
  {
   "cell_type": "code",
   "execution_count": 129,
   "id": "da66d6d7",
   "metadata": {},
   "outputs": [
    {
     "name": "stdout",
     "output_type": "stream",
     "text": [
      "45.22863098073956\n",
      "7.772643383018959\n",
      "p\n",
      "0.00     0.5\n",
      "0.01    13.0\n",
      "0.05    35.0\n",
      "0.25    41.0\n",
      "0.50    46.0\n",
      "0.75    50.0\n",
      "0.95    57.0\n",
      "0.99    59.0\n",
      "dtype: float64\n"
     ]
    }
   ],
   "source": [
    "# Create a weighted stats object after throwing out first 100 points\n",
    "weighted_stats_gt100 = DescrStatsW(postvac_occupancy_df.iloc[100:, 1], weights=postvac_occupancy_df.iloc[100:, 2], ddof=0)\n",
    "\n",
    "print(weighted_stats_gt100.mean)\n",
    "print(weighted_stats_gt100.std)\n",
    "occ_quantiles = weighted_stats_gt100.quantile([0, 0.01, 0.05, 0.25, 0.50, 0.75, 0.95, 0.99])\n",
    "print(occ_quantiles)"
   ]
  },
  {
   "cell_type": "markdown",
   "id": "8696141d",
   "metadata": {},
   "source": [
    "We can use these quantiles to create rough CDF and pdf plots of post-vaccination occupancy. From the table above and plot below we can see that about 75% of the time, there are 50 or less patients in the post-vaccination observation area."
   ]
  },
  {
   "cell_type": "code",
   "execution_count": 130,
   "id": "a5d4010c",
   "metadata": {},
   "outputs": [
    {
     "data": {
      "image/png": "[encoded data removed]",
      "text/plain": [
       "<Figure size 432x288 with 1 Axes>"
      ]
     },
     "metadata": {
      "needs_background": "light"
     },
     "output_type": "display_data"
    }
   ],
   "source": [
    "plt.plot(occ_quantiles, occ_quantiles.index);"
   ]
  },
  {
   "cell_type": "markdown",
   "id": "fad7c17a",
   "metadata": {},
   "source": [
    "The plot above is the CDF (cumulative distribution function - easy to see because it's non-decreasing and tops out at 1.0. Now, thet's plot the pdf (probability density function)."
   ]
  },
  {
   "cell_type": "code",
   "execution_count": 131,
   "id": "3fe99dd1",
   "metadata": {},
   "outputs": [],
   "source": [
    "probs = -1 * pd.Series(occ_quantiles.index).diff(-1)\n",
    "probs.fillna(1.0 - sum(probs[:-1]), inplace=True)"
   ]
  },
  {
   "cell_type": "code",
   "execution_count": 132,
   "id": "802cb352",
   "metadata": {},
   "outputs": [
    {
     "data": {
      "text/plain": [
       "0    0.01\n",
       "1    0.04\n",
       "2    0.20\n",
       "3    0.25\n",
       "4    0.25\n",
       "5    0.20\n",
       "6    0.04\n",
       "7    0.01\n",
       "Name: p, dtype: float64"
      ]
     },
     "execution_count": 132,
     "metadata": {},
     "output_type": "execute_result"
    }
   ],
   "source": [
    "probs"
   ]
  },
  {
   "cell_type": "code",
   "execution_count": 133,
   "id": "272d8569",
   "metadata": {},
   "outputs": [
    {
     "data": {
      "image/png": "[encoded data removed]",
      "text/plain": [
       "<Figure size 432x288 with 1 Axes>"
      ]
     },
     "metadata": {
      "needs_background": "light"
     },
     "output_type": "display_data"
    }
   ],
   "source": [
    "plt.plot(occ_quantiles, probs);"
   ]
  },
  {
   "cell_type": "markdown",
   "id": "f3d8a4a9",
   "metadata": {},
   "source": [
    "## Multiple replications\n",
    "Since our clinic opens and closes every day, it is technically known as a *terminating simulation*. For such simulations, we would usually run them multiple times to generate independent samples of our performance metrics (patient wait times, resource utilizations, ...). We'll see how to do this in the next version of our model, but for now, let's focus on analyzing output from multiple replications. \n",
    "\n",
    "I ran the model 15 times with 3 greeters, 3 registration staff, 15 vaccinators, and 3 scheduling staff. The (future version) simulation model creates a csv file with the detailed patient log values for each replications. Let's read it in and see what it looks like."
   ]
  },
  {
   "cell_type": "code",
   "execution_count": 134,
   "id": "80a1fac7",
   "metadata": {},
   "outputs": [
    {
     "data": {
      "text/html": [
       "<div>\n",
       "<style scoped>\n",
       "    .dataframe tbody tr th:only-of-type {\n",
       "        vertical-align: middle;\n",
       "    }\n",
       "\n",
       "    .dataframe tbody tr th {\n",
       "        vertical-align: top;\n",
       "    }\n",
       "\n",
       "    .dataframe thead th {\n",
       "        text-align: right;\n",
       "    }\n",
       "</style>\n",
       "<table border=\"1\" class=\"dataframe\">\n",
       "  <thead>\n",
       "    <tr style=\"text-align: right;\">\n",
       "      <th></th>\n",
       "      <th>scenario</th>\n",
       "      <th>rep_num</th>\n",
       "      <th>patient_id</th>\n",
       "      <th>arrival_ts</th>\n",
       "      <th>got_greeter_ts</th>\n",
       "      <th>release_greeter_ts</th>\n",
       "      <th>got_reg_ts</th>\n",
       "      <th>release_reg_ts</th>\n",
       "      <th>got_vaccinator_ts</th>\n",
       "      <th>release_vaccinator_ts</th>\n",
       "      <th>got_scheduler_ts</th>\n",
       "      <th>release_scheduler_ts</th>\n",
       "      <th>exit_system_ts</th>\n",
       "      <th>wait_for_greeter</th>\n",
       "      <th>wait_for_reg</th>\n",
       "      <th>wait_for_vaccinator</th>\n",
       "      <th>vaccination_time</th>\n",
       "      <th>wait_for_scheduler</th>\n",
       "      <th>post_vacc_time</th>\n",
       "      <th>time_in_system</th>\n",
       "    </tr>\n",
       "  </thead>\n",
       "  <tbody>\n",
       "    <tr>\n",
       "      <th>0</th>\n",
       "      <td>base_g3r3v15s3</td>\n",
       "      <td>1</td>\n",
       "      <td>2</td>\n",
       "      <td>0.288373</td>\n",
       "      <td>0.288373</td>\n",
       "      <td>0.565944</td>\n",
       "      <td>0.565944</td>\n",
       "      <td>1.484153</td>\n",
       "      <td>1.484153</td>\n",
       "      <td>5.558706</td>\n",
       "      <td>NaN</td>\n",
       "      <td>NaN</td>\n",
       "      <td>20.912878</td>\n",
       "      <td>0.000000</td>\n",
       "      <td>0.000000</td>\n",
       "      <td>0.0</td>\n",
       "      <td>4.074553</td>\n",
       "      <td>NaN</td>\n",
       "      <td>15.354172</td>\n",
       "      <td>20.624505</td>\n",
       "    </tr>\n",
       "    <tr>\n",
       "      <th>1</th>\n",
       "      <td>base_g3r3v15s3</td>\n",
       "      <td>1</td>\n",
       "      <td>10</td>\n",
       "      <td>1.648435</td>\n",
       "      <td>1.648435</td>\n",
       "      <td>1.911957</td>\n",
       "      <td>2.875854</td>\n",
       "      <td>2.962633</td>\n",
       "      <td>2.962633</td>\n",
       "      <td>6.442866</td>\n",
       "      <td>6.682268</td>\n",
       "      <td>7.498553</td>\n",
       "      <td>21.776323</td>\n",
       "      <td>0.000000</td>\n",
       "      <td>0.963898</td>\n",
       "      <td>0.0</td>\n",
       "      <td>3.480233</td>\n",
       "      <td>0.239402</td>\n",
       "      <td>15.333457</td>\n",
       "      <td>20.127888</td>\n",
       "    </tr>\n",
       "    <tr>\n",
       "      <th>2</th>\n",
       "      <td>base_g3r3v15s3</td>\n",
       "      <td>1</td>\n",
       "      <td>1</td>\n",
       "      <td>0.259164</td>\n",
       "      <td>0.259164</td>\n",
       "      <td>0.434629</td>\n",
       "      <td>0.434629</td>\n",
       "      <td>1.139493</td>\n",
       "      <td>1.139493</td>\n",
       "      <td>6.272724</td>\n",
       "      <td>6.272724</td>\n",
       "      <td>7.384837</td>\n",
       "      <td>22.300752</td>\n",
       "      <td>0.000000</td>\n",
       "      <td>0.000000</td>\n",
       "      <td>0.0</td>\n",
       "      <td>5.133232</td>\n",
       "      <td>0.000000</td>\n",
       "      <td>16.028028</td>\n",
       "      <td>22.041588</td>\n",
       "    </tr>\n",
       "    <tr>\n",
       "      <th>3</th>\n",
       "      <td>base_g3r3v15s3</td>\n",
       "      <td>1</td>\n",
       "      <td>8</td>\n",
       "      <td>0.911402</td>\n",
       "      <td>1.012081</td>\n",
       "      <td>1.326589</td>\n",
       "      <td>2.630813</td>\n",
       "      <td>2.865248</td>\n",
       "      <td>2.865248</td>\n",
       "      <td>7.314367</td>\n",
       "      <td>NaN</td>\n",
       "      <td>NaN</td>\n",
       "      <td>22.533807</td>\n",
       "      <td>0.100679</td>\n",
       "      <td>1.304224</td>\n",
       "      <td>0.0</td>\n",
       "      <td>4.449119</td>\n",
       "      <td>NaN</td>\n",
       "      <td>15.219440</td>\n",
       "      <td>21.622405</td>\n",
       "    </tr>\n",
       "    <tr>\n",
       "      <th>4</th>\n",
       "      <td>base_g3r3v15s3</td>\n",
       "      <td>1</td>\n",
       "      <td>3</td>\n",
       "      <td>0.410287</td>\n",
       "      <td>0.410287</td>\n",
       "      <td>0.754393</td>\n",
       "      <td>0.754393</td>\n",
       "      <td>2.630813</td>\n",
       "      <td>2.630813</td>\n",
       "      <td>5.938723</td>\n",
       "      <td>NaN</td>\n",
       "      <td>NaN</td>\n",
       "      <td>22.660381</td>\n",
       "      <td>0.000000</td>\n",
       "      <td>0.000000</td>\n",
       "      <td>0.0</td>\n",
       "      <td>3.307911</td>\n",
       "      <td>NaN</td>\n",
       "      <td>16.721658</td>\n",
       "      <td>22.250094</td>\n",
       "    </tr>\n",
       "    <tr>\n",
       "      <th>...</th>\n",
       "      <td>...</td>\n",
       "      <td>...</td>\n",
       "      <td>...</td>\n",
       "      <td>...</td>\n",
       "      <td>...</td>\n",
       "      <td>...</td>\n",
       "      <td>...</td>\n",
       "      <td>...</td>\n",
       "      <td>...</td>\n",
       "      <td>...</td>\n",
       "      <td>...</td>\n",
       "      <td>...</td>\n",
       "      <td>...</td>\n",
       "      <td>...</td>\n",
       "      <td>...</td>\n",
       "      <td>...</td>\n",
       "      <td>...</td>\n",
       "      <td>...</td>\n",
       "      <td>...</td>\n",
       "      <td>...</td>\n",
       "    </tr>\n",
       "    <tr>\n",
       "      <th>27185</th>\n",
       "      <td>base_g3r3v15s3</td>\n",
       "      <td>15</td>\n",
       "      <td>1847</td>\n",
       "      <td>599.399426</td>\n",
       "      <td>599.399426</td>\n",
       "      <td>599.618444</td>\n",
       "      <td>634.475270</td>\n",
       "      <td>634.659081</td>\n",
       "      <td>634.659081</td>\n",
       "      <td>638.936172</td>\n",
       "      <td>NaN</td>\n",
       "      <td>NaN</td>\n",
       "      <td>654.141097</td>\n",
       "      <td>0.000000</td>\n",
       "      <td>34.856825</td>\n",
       "      <td>0.0</td>\n",
       "      <td>4.277091</td>\n",
       "      <td>NaN</td>\n",
       "      <td>15.204925</td>\n",
       "      <td>54.741671</td>\n",
       "    </tr>\n",
       "    <tr>\n",
       "      <th>27186</th>\n",
       "      <td>base_g3r3v15s3</td>\n",
       "      <td>15</td>\n",
       "      <td>1844</td>\n",
       "      <td>598.380409</td>\n",
       "      <td>598.380409</td>\n",
       "      <td>598.606217</td>\n",
       "      <td>633.802787</td>\n",
       "      <td>634.475270</td>\n",
       "      <td>634.475270</td>\n",
       "      <td>638.795936</td>\n",
       "      <td>638.795936</td>\n",
       "      <td>639.789003</td>\n",
       "      <td>654.275778</td>\n",
       "      <td>0.000000</td>\n",
       "      <td>35.196570</td>\n",
       "      <td>0.0</td>\n",
       "      <td>4.320666</td>\n",
       "      <td>0.000000</td>\n",
       "      <td>15.479842</td>\n",
       "      <td>55.895368</td>\n",
       "    </tr>\n",
       "    <tr>\n",
       "      <th>27187</th>\n",
       "      <td>base_g3r3v15s3</td>\n",
       "      <td>15</td>\n",
       "      <td>1843</td>\n",
       "      <td>597.621430</td>\n",
       "      <td>597.621430</td>\n",
       "      <td>597.915765</td>\n",
       "      <td>633.279810</td>\n",
       "      <td>634.626771</td>\n",
       "      <td>634.626771</td>\n",
       "      <td>639.019330</td>\n",
       "      <td>639.019330</td>\n",
       "      <td>640.148593</td>\n",
       "      <td>655.157989</td>\n",
       "      <td>0.000000</td>\n",
       "      <td>35.364045</td>\n",
       "      <td>0.0</td>\n",
       "      <td>4.392559</td>\n",
       "      <td>0.000000</td>\n",
       "      <td>16.138660</td>\n",
       "      <td>57.536560</td>\n",
       "    </tr>\n",
       "    <tr>\n",
       "      <th>27188</th>\n",
       "      <td>base_g3r3v15s3</td>\n",
       "      <td>15</td>\n",
       "      <td>1848</td>\n",
       "      <td>600.484701</td>\n",
       "      <td>600.484701</td>\n",
       "      <td>600.750725</td>\n",
       "      <td>634.626771</td>\n",
       "      <td>634.874335</td>\n",
       "      <td>634.874335</td>\n",
       "      <td>638.913909</td>\n",
       "      <td>638.913909</td>\n",
       "      <td>639.805500</td>\n",
       "      <td>655.887105</td>\n",
       "      <td>0.000000</td>\n",
       "      <td>33.876045</td>\n",
       "      <td>0.0</td>\n",
       "      <td>4.039574</td>\n",
       "      <td>0.000000</td>\n",
       "      <td>16.973196</td>\n",
       "      <td>55.402404</td>\n",
       "    </tr>\n",
       "    <tr>\n",
       "      <th>27189</th>\n",
       "      <td>base_g3r3v15s3</td>\n",
       "      <td>15</td>\n",
       "      <td>1846</td>\n",
       "      <td>598.721551</td>\n",
       "      <td>598.721551</td>\n",
       "      <td>599.031844</td>\n",
       "      <td>634.368403</td>\n",
       "      <td>634.874904</td>\n",
       "      <td>634.874904</td>\n",
       "      <td>638.911883</td>\n",
       "      <td>NaN</td>\n",
       "      <td>NaN</td>\n",
       "      <td>655.966865</td>\n",
       "      <td>0.000000</td>\n",
       "      <td>35.336559</td>\n",
       "      <td>0.0</td>\n",
       "      <td>4.036979</td>\n",
       "      <td>NaN</td>\n",
       "      <td>17.054982</td>\n",
       "      <td>57.245314</td>\n",
       "    </tr>\n",
       "  </tbody>\n",
       "</table>\n",
       "<p>27190 rows × 20 columns</p>\n",
       "</div>"
      ],
      "text/plain": [
       "             scenario  rep_num  patient_id  arrival_ts  got_greeter_ts  \\\n",
       "0      base_g3r3v15s3        1           2    0.288373        0.288373   \n",
       "1      base_g3r3v15s3        1          10    1.648435        1.648435   \n",
       "2      base_g3r3v15s3        1           1    0.259164        0.259164   \n",
       "3      base_g3r3v15s3        1           8    0.911402        1.012081   \n",
       "4      base_g3r3v15s3        1           3    0.410287        0.410287   \n",
       "...               ...      ...         ...         ...             ...   \n",
       "27185  base_g3r3v15s3       15        1847  599.399426      599.399426   \n",
       "27186  base_g3r3v15s3       15        1844  598.380409      598.380409   \n",
       "27187  base_g3r3v15s3       15        1843  597.621430      597.621430   \n",
       "27188  base_g3r3v15s3       15        1848  600.484701      600.484701   \n",
       "27189  base_g3r3v15s3       15        1846  598.721551      598.721551   \n",
       "\n",
       "       release_greeter_ts  got_reg_ts  release_reg_ts  got_vaccinator_ts  \\\n",
       "0                0.565944    0.565944        1.484153           1.484153   \n",
       "1                1.911957    2.875854        2.962633           2.962633   \n",
       "2                0.434629    0.434629        1.139493           1.139493   \n",
       "3                1.326589    2.630813        2.865248           2.865248   \n",
       "4                0.754393    0.754393        2.630813           2.630813   \n",
       "...                   ...         ...             ...                ...   \n",
       "27185          599.618444  634.475270      634.659081         634.659081   \n",
       "27186          598.606217  633.802787      634.475270         634.475270   \n",
       "27187          597.915765  633.279810      634.626771         634.626771   \n",
       "27188          600.750725  634.626771      634.874335         634.874335   \n",
       "27189          599.031844  634.368403      634.874904         634.874904   \n",
       "\n",
       "       release_vaccinator_ts  got_scheduler_ts  release_scheduler_ts  \\\n",
       "0                   5.558706               NaN                   NaN   \n",
       "1                   6.442866          6.682268              7.498553   \n",
       "2                   6.272724          6.272724              7.384837   \n",
       "3                   7.314367               NaN                   NaN   \n",
       "4                   5.938723               NaN                   NaN   \n",
       "...                      ...               ...                   ...   \n",
       "27185             638.936172               NaN                   NaN   \n",
       "27186             638.795936        638.795936            639.789003   \n",
       "27187             639.019330        639.019330            640.148593   \n",
       "27188             638.913909        638.913909            639.805500   \n",
       "27189             638.911883               NaN                   NaN   \n",
       "\n",
       "       exit_system_ts  wait_for_greeter  wait_for_reg  wait_for_vaccinator  \\\n",
       "0           20.912878          0.000000      0.000000                  0.0   \n",
       "1           21.776323          0.000000      0.963898                  0.0   \n",
       "2           22.300752          0.000000      0.000000                  0.0   \n",
       "3           22.533807          0.100679      1.304224                  0.0   \n",
       "4           22.660381          0.000000      0.000000                  0.0   \n",
       "...               ...               ...           ...                  ...   \n",
       "27185      654.141097          0.000000     34.856825                  0.0   \n",
       "27186      654.275778          0.000000     35.196570                  0.0   \n",
       "27187      655.157989          0.000000     35.364045                  0.0   \n",
       "27188      655.887105          0.000000     33.876045                  0.0   \n",
       "27189      655.966865          0.000000     35.336559                  0.0   \n",
       "\n",
       "       vaccination_time  wait_for_scheduler  post_vacc_time  time_in_system  \n",
       "0              4.074553                 NaN       15.354172       20.624505  \n",
       "1              3.480233            0.239402       15.333457       20.127888  \n",
       "2              5.133232            0.000000       16.028028       22.041588  \n",
       "3              4.449119                 NaN       15.219440       21.622405  \n",
       "4              3.307911                 NaN       16.721658       22.250094  \n",
       "...                 ...                 ...             ...             ...  \n",
       "27185          4.277091                 NaN       15.204925       54.741671  \n",
       "27186          4.320666            0.000000       15.479842       55.895368  \n",
       "27187          4.392559            0.000000       16.138660       57.536560  \n",
       "27188          4.039574            0.000000       16.973196       55.402404  \n",
       "27189          4.036979                 NaN       17.054982       57.245314  \n",
       "\n",
       "[27190 rows x 20 columns]"
      ]
     },
     "execution_count": 134,
     "metadata": {},
     "output_type": "execute_result"
    }
   ],
   "source": [
    "patient_log_df_g3r3v15s3 = pd.read_csv('output/consolidated_clinic_patient_log_base_g3r3v15s3.csv')\n",
    "patient_log_df_g3r3v15s3"
   ]
  },
  {
   "cell_type": "markdown",
   "id": "beff4669",
   "metadata": {},
   "source": [
    "Now we can group by `rep_num` and use the pandas `describe` function on any column we'd like. Let's look at `time_in_system`."
   ]
  },
  {
   "cell_type": "code",
   "execution_count": 135,
   "id": "fa7513f3",
   "metadata": {},
   "outputs": [
    {
     "data": {
      "text/html": [
       "<div>\n",
       "<style scoped>\n",
       "    .dataframe tbody tr th:only-of-type {\n",
       "        vertical-align: middle;\n",
       "    }\n",
       "\n",
       "    .dataframe tbody tr th {\n",
       "        vertical-align: top;\n",
       "    }\n",
       "\n",
       "    .dataframe thead th {\n",
       "        text-align: right;\n",
       "    }\n",
       "</style>\n",
       "<table border=\"1\" class=\"dataframe\">\n",
       "  <thead>\n",
       "    <tr style=\"text-align: right;\">\n",
       "      <th></th>\n",
       "      <th>count</th>\n",
       "      <th>mean</th>\n",
       "      <th>std</th>\n",
       "      <th>min</th>\n",
       "      <th>25%</th>\n",
       "      <th>50%</th>\n",
       "      <th>75%</th>\n",
       "      <th>max</th>\n",
       "    </tr>\n",
       "    <tr>\n",
       "      <th>rep_num</th>\n",
       "      <th></th>\n",
       "      <th></th>\n",
       "      <th></th>\n",
       "      <th></th>\n",
       "      <th></th>\n",
       "      <th></th>\n",
       "      <th></th>\n",
       "      <th></th>\n",
       "    </tr>\n",
       "  </thead>\n",
       "  <tbody>\n",
       "    <tr>\n",
       "      <th>1</th>\n",
       "      <td>1929.0</td>\n",
       "      <td>49.043118</td>\n",
       "      <td>14.893610</td>\n",
       "      <td>19.698536</td>\n",
       "      <td>35.984470</td>\n",
       "      <td>52.857447</td>\n",
       "      <td>62.228987</td>\n",
       "      <td>75.488876</td>\n",
       "    </tr>\n",
       "    <tr>\n",
       "      <th>2</th>\n",
       "      <td>1910.0</td>\n",
       "      <td>33.721613</td>\n",
       "      <td>7.007718</td>\n",
       "      <td>19.023047</td>\n",
       "      <td>28.275423</td>\n",
       "      <td>32.737625</td>\n",
       "      <td>38.922824</td>\n",
       "      <td>55.494797</td>\n",
       "    </tr>\n",
       "    <tr>\n",
       "      <th>3</th>\n",
       "      <td>1799.0</td>\n",
       "      <td>41.316540</td>\n",
       "      <td>10.008834</td>\n",
       "      <td>19.027169</td>\n",
       "      <td>32.943178</td>\n",
       "      <td>44.705651</td>\n",
       "      <td>49.662110</td>\n",
       "      <td>61.666545</td>\n",
       "    </tr>\n",
       "    <tr>\n",
       "      <th>4</th>\n",
       "      <td>1794.0</td>\n",
       "      <td>31.740397</td>\n",
       "      <td>6.273753</td>\n",
       "      <td>19.177982</td>\n",
       "      <td>27.359455</td>\n",
       "      <td>30.976362</td>\n",
       "      <td>35.906316</td>\n",
       "      <td>49.279793</td>\n",
       "    </tr>\n",
       "    <tr>\n",
       "      <th>5</th>\n",
       "      <td>1809.0</td>\n",
       "      <td>28.626362</td>\n",
       "      <td>4.820031</td>\n",
       "      <td>18.864741</td>\n",
       "      <td>24.910361</td>\n",
       "      <td>28.060628</td>\n",
       "      <td>32.681249</td>\n",
       "      <td>43.897147</td>\n",
       "    </tr>\n",
       "    <tr>\n",
       "      <th>6</th>\n",
       "      <td>1832.0</td>\n",
       "      <td>35.945118</td>\n",
       "      <td>11.389806</td>\n",
       "      <td>18.999475</td>\n",
       "      <td>26.848952</td>\n",
       "      <td>32.167756</td>\n",
       "      <td>44.050051</td>\n",
       "      <td>65.553491</td>\n",
       "    </tr>\n",
       "    <tr>\n",
       "      <th>7</th>\n",
       "      <td>1785.0</td>\n",
       "      <td>48.813774</td>\n",
       "      <td>9.715461</td>\n",
       "      <td>20.629835</td>\n",
       "      <td>45.179456</td>\n",
       "      <td>49.815001</td>\n",
       "      <td>55.317576</td>\n",
       "      <td>68.564213</td>\n",
       "    </tr>\n",
       "    <tr>\n",
       "      <th>8</th>\n",
       "      <td>1745.0</td>\n",
       "      <td>24.486740</td>\n",
       "      <td>2.909481</td>\n",
       "      <td>18.562927</td>\n",
       "      <td>22.258011</td>\n",
       "      <td>24.092286</td>\n",
       "      <td>26.317948</td>\n",
       "      <td>37.303865</td>\n",
       "    </tr>\n",
       "    <tr>\n",
       "      <th>9</th>\n",
       "      <td>1777.0</td>\n",
       "      <td>28.229592</td>\n",
       "      <td>4.391210</td>\n",
       "      <td>18.790706</td>\n",
       "      <td>24.555932</td>\n",
       "      <td>28.275703</td>\n",
       "      <td>31.887550</td>\n",
       "      <td>39.611643</td>\n",
       "    </tr>\n",
       "    <tr>\n",
       "      <th>10</th>\n",
       "      <td>1769.0</td>\n",
       "      <td>40.240274</td>\n",
       "      <td>9.262980</td>\n",
       "      <td>18.601473</td>\n",
       "      <td>33.981803</td>\n",
       "      <td>43.122620</td>\n",
       "      <td>47.607609</td>\n",
       "      <td>55.280367</td>\n",
       "    </tr>\n",
       "    <tr>\n",
       "      <th>11</th>\n",
       "      <td>1847.0</td>\n",
       "      <td>38.460422</td>\n",
       "      <td>11.041479</td>\n",
       "      <td>19.112033</td>\n",
       "      <td>31.152717</td>\n",
       "      <td>35.161337</td>\n",
       "      <td>42.050061</td>\n",
       "      <td>67.575319</td>\n",
       "    </tr>\n",
       "    <tr>\n",
       "      <th>12</th>\n",
       "      <td>1815.0</td>\n",
       "      <td>35.208928</td>\n",
       "      <td>6.986184</td>\n",
       "      <td>19.141572</td>\n",
       "      <td>30.686056</td>\n",
       "      <td>35.574528</td>\n",
       "      <td>39.527698</td>\n",
       "      <td>52.652016</td>\n",
       "    </tr>\n",
       "    <tr>\n",
       "      <th>13</th>\n",
       "      <td>1744.0</td>\n",
       "      <td>32.137750</td>\n",
       "      <td>8.443889</td>\n",
       "      <td>18.197370</td>\n",
       "      <td>24.302848</td>\n",
       "      <td>30.557531</td>\n",
       "      <td>39.680532</td>\n",
       "      <td>52.206389</td>\n",
       "    </tr>\n",
       "    <tr>\n",
       "      <th>14</th>\n",
       "      <td>1787.0</td>\n",
       "      <td>31.339861</td>\n",
       "      <td>6.083747</td>\n",
       "      <td>19.112139</td>\n",
       "      <td>25.641470</td>\n",
       "      <td>32.302248</td>\n",
       "      <td>36.275603</td>\n",
       "      <td>45.717248</td>\n",
       "    </tr>\n",
       "    <tr>\n",
       "      <th>15</th>\n",
       "      <td>1848.0</td>\n",
       "      <td>43.752521</td>\n",
       "      <td>12.150070</td>\n",
       "      <td>19.216871</td>\n",
       "      <td>30.438505</td>\n",
       "      <td>49.376915</td>\n",
       "      <td>53.491648</td>\n",
       "      <td>62.609229</td>\n",
       "    </tr>\n",
       "  </tbody>\n",
       "</table>\n",
       "</div>"
      ],
      "text/plain": [
       "          count       mean        std        min        25%        50%  \\\n",
       "rep_num                                                                  \n",
       "1        1929.0  49.043118  14.893610  19.698536  35.984470  52.857447   \n",
       "2        1910.0  33.721613   7.007718  19.023047  28.275423  32.737625   \n",
       "3        1799.0  41.316540  10.008834  19.027169  32.943178  44.705651   \n",
       "4        1794.0  31.740397   6.273753  19.177982  27.359455  30.976362   \n",
       "5        1809.0  28.626362   4.820031  18.864741  24.910361  28.060628   \n",
       "6        1832.0  35.945118  11.389806  18.999475  26.848952  32.167756   \n",
       "7        1785.0  48.813774   9.715461  20.629835  45.179456  49.815001   \n",
       "8        1745.0  24.486740   2.909481  18.562927  22.258011  24.092286   \n",
       "9        1777.0  28.229592   4.391210  18.790706  24.555932  28.275703   \n",
       "10       1769.0  40.240274   9.262980  18.601473  33.981803  43.122620   \n",
       "11       1847.0  38.460422  11.041479  19.112033  31.152717  35.161337   \n",
       "12       1815.0  35.208928   6.986184  19.141572  30.686056  35.574528   \n",
       "13       1744.0  32.137750   8.443889  18.197370  24.302848  30.557531   \n",
       "14       1787.0  31.339861   6.083747  19.112139  25.641470  32.302248   \n",
       "15       1848.0  43.752521  12.150070  19.216871  30.438505  49.376915   \n",
       "\n",
       "               75%        max  \n",
       "rep_num                        \n",
       "1        62.228987  75.488876  \n",
       "2        38.922824  55.494797  \n",
       "3        49.662110  61.666545  \n",
       "4        35.906316  49.279793  \n",
       "5        32.681249  43.897147  \n",
       "6        44.050051  65.553491  \n",
       "7        55.317576  68.564213  \n",
       "8        26.317948  37.303865  \n",
       "9        31.887550  39.611643  \n",
       "10       47.607609  55.280367  \n",
       "11       42.050061  67.575319  \n",
       "12       39.527698  52.652016  \n",
       "13       39.680532  52.206389  \n",
       "14       36.275603  45.717248  \n",
       "15       53.491648  62.609229  "
      ]
     },
     "execution_count": 135,
     "metadata": {},
     "output_type": "execute_result"
    }
   ],
   "source": [
    "stats_time_in_system = patient_log_df_g3r3v15s3.groupby(['rep_num'])['time_in_system'].describe()\n",
    "stats_time_in_system"
   ]
  },
  {
   "cell_type": "markdown",
   "id": "f11f2cc0",
   "metadata": {},
   "source": [
    "Usually when doing simulation output analysis of terminating simulations, we want to give some sense of our uncertainty about summary statistics such as those in the table above. We do this through confidence intervals (CI)]. In order to compute an approximate 95% CI on the mean time in system, we compute the mean (let's call it $\\bar{Y}$) and standard deviation (let's call it $S$) of the `mean` column in the above output of `describe`. Then our CI is:\n",
    "\n",
    "$$\n",
    "\\bar{Y} \\pm 1.96 \\frac{S}{\\sqrt{n}}\n",
    "$$\n",
    "\n",
    "where $n$ is the number of simulation replications and the $1.96$ is the 97.5th percentile of the standard normal distribution (since we are building a 95% CI, we want 2.5% outside of the upper and lower limits). You might recall from your basic statistics course that $\\frac{S}{\\sqrt{n}}$ is called the *standard error* and that $1.96 \\frac{S}{\\sqrt{n}}$ is called the *half-width* of the CI. What's nice about doing simulation is that we can make the half-width narrower by simply running more replications (and getting a more precise estimate of our mean performance measure)."
   ]
  },
  {
   "cell_type": "code",
   "execution_count": 136,
   "id": "cba31e7a",
   "metadata": {},
   "outputs": [
    {
     "data": {
      "text/plain": [
       "15"
      ]
     },
     "execution_count": 136,
     "metadata": {},
     "output_type": "execute_result"
    }
   ],
   "source": [
    "n = stats_time_in_system['mean'].count()\n",
    "n"
   ]
  },
  {
   "cell_type": "code",
   "execution_count": 137,
   "id": "6033c628",
   "metadata": {},
   "outputs": [
    {
     "data": {
      "text/plain": [
       "36.20420066324915"
      ]
     },
     "execution_count": 137,
     "metadata": {},
     "output_type": "execute_result"
    }
   ],
   "source": [
    "Y_bar = stats_time_in_system['mean'].mean()\n",
    "Y_bar"
   ]
  },
  {
   "cell_type": "code",
   "execution_count": 138,
   "id": "bc39be76",
   "metadata": {},
   "outputs": [
    {
     "data": {
      "text/plain": [
       "7.338713020409025"
      ]
     },
     "execution_count": 138,
     "metadata": {},
     "output_type": "execute_result"
    }
   ],
   "source": [
    "S = stats_time_in_system['mean'].std()\n",
    "S"
   ]
  },
  {
   "cell_type": "markdown",
   "id": "6f721659",
   "metadata": {},
   "source": [
    "... and here's the confidence interval on the **mean** time in system."
   ]
  },
  {
   "cell_type": "code",
   "execution_count": 139,
   "id": "eb52f95f",
   "metadata": {},
   "outputs": [
    {
     "name": "stdout",
     "output_type": "stream",
     "text": [
      "(32.490, 39.918) minutes\n"
     ]
    }
   ],
   "source": [
    "print(f\"({Y_bar - 1.96 * S / math.sqrt(n):.3f}, {Y_bar + 1.96 * S / math.sqrt(n):.3f}) minutes\")"
   ]
  },
  {
   "cell_type": "markdown",
   "id": "0d4bc4cb",
   "metadata": {},
   "source": [
    "Remember, a CI on the **mean of some performance measure** is **NOT** the same as the percentiles of the distribution of the individual time in system values. For example, here's a histogram of all of the `time_in_system` values across all the replications. "
   ]
  },
  {
   "cell_type": "code",
   "execution_count": 140,
   "id": "3c3c7b8b",
   "metadata": {},
   "outputs": [
    {
     "data": {
      "image/png": "[encoded data removed]",
      "text/plain": [
       "<Figure size 432x288 with 1 Axes>"
      ]
     },
     "metadata": {
      "needs_background": "light"
     },
     "output_type": "display_data"
    }
   ],
   "source": [
    "plt.hist(patient_log_df_g3r3v15s3['time_in_system']);"
   ]
  },
  {
   "cell_type": "markdown",
   "id": "89ab0680",
   "metadata": {},
   "source": [
    "### Possible improvements\n",
    "\n",
    "Now that we have a rough first model working, let's think about some possible improvements. There are many as we've taken numerous shortcuts to get this model working. We definitely want to make it easier to experiment with different scenarios involving capacity levels and patient volume. A few potential improvements include:\n",
    "\n",
    "* Specifying the global sim inputs through a command line interface (CLI)\n",
    "* Getting rid of hard coded processing time distributions\n",
    "* Automating the post-processing of simulation outputs to create summary statistics.\n",
    "\n",
    "There are many more possible improvements. For example, it would be nice to model arrivals in which a batch of patients is given an appointment time every, say, 10 minutes.\n",
    "\n",
    "In the next notebook, we'll tackle some of these improvements."
   ]
  },
  {
   "cell_type": "markdown",
   "id": "343f48d2",
   "metadata": {},
   "source": [
    "## More SimPy resources (for later)\n",
    "I suggest taking a look at some the following resources to get a sense of different ways of building SimPy models.\n",
    "\n",
    "#### From the SimPy docs:\n",
    "* [SimPy in 10 Minutes](https://simpy.readthedocs.io/en/latest/simpy_intro/index.html) - the \"Hello, world\" of SimPy\n",
    "* [Example models from the SimPy documentation](https://simpy.readthedocs.io/en/latest/examples/index.html#all-examples) - demonstrates various features of SimPy through relatively simple models\n",
    "\n",
    "#### From Real Python:\n",
    "* [SimPy: Simulating Real-World Processes With Python](https://realpython.com/simpy-simulating-with-python/) - a very good introductory tutorial\n",
    "\n",
    "#### From a healthcare modeling workshop\n",
    "These are long but quite good. The modeling approach they use is similar to what I cover in our session. \n",
    "* [Session 5B: Building a DES model with SimPy](https://www.youtube.com/watch?v=jXDjrWKcu6w) - this is a YouTube vid from a healthcare modeling workshop and they go through models very similar to this clinic model. They use a non-OO approach but many things are the same.\n",
    "* [Session 5C: Object-oriented SimPy](https://www.youtube.com/watch?v=QV-pJnKrGuc) - follow up to the video above.\n",
    "\n",
    "#### From a few of my blog posts:\n",
    "* [Getting started with SimPy for patient flow modeling ](http://hselab.org/simpy-getting-started-patient-flow-modeling.html) - one of my blog posts on SimPy modeling using a process focused approach\n",
    "* [An object oriented SimPy patient flow simulation model ](http://hselab.org/simpy-first-oo-patflow-model.html) - one of my blog posts on SimPy modeling using an object oriented approach\n",
    "\n",
    "#### Some computer network based examples:\n",
    "* [Basic Network Simulations and Beyond in Python](https://www.grotto-networking.com/DiscreteEventPython.html#Intro) - good examples of network simulation models, building components to extend SimPy components. I found this site very helpful when I was building the patient flow models in the above two blog posts."
   ]
  },
  {
   "cell_type": "raw",
   "id": "cd1db0a4",
   "metadata": {},
   "source": []
  }
 ],
 "metadata": {
  "kernelspec": {
   "display_name": "Python 3",
   "language": "python",
   "name": "python3"
  },
  "language_info": {
   "codemirror_mode": {
    "name": "ipython",
    "version": 3
   },
   "file_extension": ".py",
   "mimetype": "text/x-python",
   "name": "python",
   "nbconvert_exporter": "python",
   "pygments_lexer": "ipython3",
   "version": "3.7.10"
  }
 },
 "nbformat": 4,
 "nbformat_minor": 5
}
