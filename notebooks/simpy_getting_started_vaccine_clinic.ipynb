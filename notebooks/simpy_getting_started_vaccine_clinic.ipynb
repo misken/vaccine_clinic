{
 "cells": [
  {
   "cell_type": "code",
   "execution_count": null,
   "id": "a2078b16",
   "metadata": {
    "tags": []
   },
   "outputs": [],
   "source": [
    "import math\n",
    "import numpy as np\n",
    "import pandas as pd\n",
    "from scipy import optimize\n",
    "import matplotlib.pyplot as plt\n",
    "import seaborn as sns\n",
    "from numpy.random import default_rng\n",
    "from IPython.display import Image\n",
    "import simpy"
   ]
  },
  {
   "cell_type": "markdown",
   "id": "567772e0",
   "metadata": {},
   "source": [
    "# Using discrete event simulation to help plan a vaccine clinic\n",
    "\n",
    "Discrete event simulation (DES) is a well established technique for building simulation models of systems characterized by:\n",
    "\n",
    "* events that happen at discrete points in time (e.g. the arrival of a patient to the vaccine clinic, the completion of the vaccine injection),\n",
    "* uncertainty in the timing and duration of events (patient show up somewhat randomly even if they have a scheduled appointment, the time to register might depend on various patient characteristics),\n",
    "* entities (e.g. patients) that flow through a system, \n",
    "* contention for resources (patients will wait to at various stages of their vaccine visit to wait for resources such as administrative and clinical staff to become available)\n",
    "* interest in how the system is performing in terms of things like entity delays, resource utilization, or frequency of certain events.\n",
    "\n",
    "Typical applications include building models of healthcare delivery systems, manufacturing systems, computer networks, call centers and many others. In all of these systems there are **entities** that flow (patients, widgets, packets, phone calls) and contend for **resources** for processing (nurses to give vaccines, machines to process, servers to accept packets, agents to answer the phone). By building a representative simulation model, we can study how such systems might perform if we changes some important entity or resource related inputs: patient arrival rate, machine processing rate, number of servers or number of agents answering calls. The applications are endless and it can be a whole lot cheaper to experiment with a computer model than to experiment with the real system.\n",
    "\n",
    "DES models are \"what if?\" models that can help in predicting outputs of a system for a given set of input values. They can help statistically characterize the projected performance of the system being modeled. For example, we might simulate different assembly line configurations to get a sense of the throughput differences for different processes. For a call center, DES models could help predict the impact on customer wait time of a 25% increase in call volume. \n",
    "\n",
    "Back in the pcda class, we built a simple simulation model of the Monte-Hall 3-Door problem which allowed us to compare the success of different strategies such as staying with the original door selected vs switching. For that model we didn't need a specialized discrete event package since we were just modeling a sequence of events with the time between them being unimportant. Furthermore, there was no contention for resources. If you want to review that model, see the downloads and screencasts on [this page from the pcda courseweb](http://www.sba.oakland.edu/faculty/isken/courses/mis5470_w21/python_intro_2.html) (just scroll down to find info about the problem and links to the screencasts).\n",
    "\n",
    "Ultimately, our goal in this module is to develop a DES model model of a simple vaccine clinic consisting of the following process steps:\n",
    "\n",
    "```\n",
    "Arrival --> Temperature check --> Registration --> Vaccination --> Schedule 2nd dose (if needed) --> Wait 15 minutes --> Exit\n",
    "```\n",
    "\n",
    "Conceptually, our model has the following components:\n",
    "\n",
    "* The entities are patients.\n",
    "* Entities are created by some sort of arrival process.\n",
    "* Each stage of the process has some number of resources associated with it. These resources are the staff that help the patient such as registration clerks and clinicians administrering the vaccine.\n",
    "* Entities flow through different stages of the vaccination process, and at each stage, they:\n",
    "    - request one unit of the appropriate type of staff resource and wait if one is not available,\n",
    "    - after obtaining a staff resource they delay for some amount of time for the process (e.g. registration, vaccination, scheduling) to be completed,\n",
    "    - when the processing time has elapsed, the resource is released and the patient moves on to the next stage of the vaccination process,\n",
    "* When all stages are complete, the patient exits the system.\n",
    "\n",
    "Our model should handle:\n",
    "\n",
    "* uncertainty in the processing times of the individual steps above,\n",
    "* uncertainty in patient arrival times\n",
    "* finite numbers of different types of resources (staff)\n",
    "* ability to estimate key process metrics such as patient wait times and total time in clinic as well as resource utilization.\n",
    "\n",
    "Such a model would be quite useful in helping do capacity planning and appointment scheduling for the clinic. We need to decide how many staff are needed at each stage of the clinic visit and how much room we need in the post-vaccination patient observation area.\n",
    "\n",
    "Let's start by learning a little about how DES software works, both in general and with respect to SimPy, the Python package we'll be using."
   ]
  },
  {
   "cell_type": "markdown",
   "id": "17f58439",
   "metadata": {},
   "source": [
    "## Under the hood with DES software\n",
    "\n",
    "Internally, DES software relies on the notion of a simulation clock and a next event list (the *discrete events*) to decide which event to process next and when to process it. **Between these discrete events, nothing happens to the state of the system - the clock \"ticks\" from event to event.** For example, here's what the next event list might look like (conceptually) at some time $t=70.1$ during the simulation."
   ]
  },
  {
   "cell_type": "code",
   "execution_count": null,
   "id": "64db02ae",
   "metadata": {},
   "outputs": [],
   "source": [
    "Image(\"images/next_event_list.png\")"
   ]
  },
  {
   "cell_type": "markdown",
   "id": "b69b6d34",
   "metadata": {},
   "source": [
    "Simulation software such as SimPy does the work of maintaining this list - adding new events, processing the next event, and removing events once they've been processed. In many ways, it's like a job scheduler. When the ongoing event is done with processing, DES software will look at the next event and see that `Patient 10 to finish registration` will happen at $t=74.5$. It will:\n",
    "\n",
    "* advance the simulation clock to $74.5$\n",
    "* send a signal that this event is occurring\n",
    "\n",
    "Our program is \"listening\" or \"waiting to be triggered\" by this event and the appropriate part of our code will then do whatever we want to do when a patient finishes the registration process. For example, we might:\n",
    "\n",
    "* store the timestamp of when registration was completed for this patient,\n",
    "* have the patient request a nurse to begin the actual vaccination,\n",
    "* if the nurse is available:\n",
    "    - generate a random vaccination process time and wait for that time to elapse (a new event gets added to the next event list)\n",
    "* if the nurse is not available:\n",
    "    - the DES software manages the internal requests for resources in some sort of queue\n",
    "    \n",
    "The advantage of using DES software such as SimPy is that it does the tedious work of managing the next event list and all the resource queues. Yes, you could write all this code yourself in any general purpose language, but it's much easier to use a good simulation library like SimPy.\n",
    "    "
   ]
  },
  {
   "cell_type": "markdown",
   "id": "30f0580f",
   "metadata": {},
   "source": [
    "### DES software\n",
    "DES has a long history and there are numerous commercial packages for doing this type of simulation. Many of these are quite sophisticated and allow you to build very complex, animated models and include comprehensive statistical monitors and analysis tools. Here's are two short video clips of such a models built with Simio, a modern DES package (I created a Simio based course at OU called Operations Analytics) As you can see, you can build simple, abstract models as well as very complex and realistic models.\n",
    "\n",
    "* [A simple abstract model](https://www.youtube.com/watch?v=2_FgFgLXNm8)\n",
    "* [A Simio model of a manufacturing facility](https://www.youtube.com/watch?v=rxpJN7hUTzo&list=PL43C4_Bof9vGErW6y-dRIfr-_vIEQnNkZ&index=3&t=19s)\n",
    "\n",
    "Other popular GUI based DES tools include Arena (my course used this before Simio came along), ProModel, AnyLogic, FlexSim, SIMUL8 and many others. Here's a screenshot of a pharmacy simulation model I built for a consulting project using Arena. Well, actually, I did all of the model development but did not build the layout graphic below (my artistic skills are not nearly this good). :) This model was used to help the client make decisions related to adding robotic automation to their pharmacy. We could test out various configurations to see how they impacted patient wait times and system throughput.\n",
    "\n"
   ]
  },
  {
   "cell_type": "code",
   "execution_count": null,
   "id": "59b75018",
   "metadata": {},
   "outputs": [],
   "source": [
    "Image(\"images/pharmacy.png\")"
   ]
  },
  {
   "cell_type": "markdown",
   "id": "7d3ec208",
   "metadata": {},
   "source": [
    "While these tools are quite powerful and the ability to create animated models is quite valuable for both model debugging, model validation and communicating with decision makers, there are some downsides:\n",
    "\n",
    "* Some of these tools are quite expensive ($10K and up ... per license),\n",
    "* Can be difficult to share models since expensive, proprietary software is needed,\n",
    "* While GUI tools are nice, sometimes complex logic can't easily be modeled (to be fair, most of these packages do allow some degree of interacting with programming languages such as C#, VBA, Python, Java and others.)\n",
    "\n",
    "Another approach is to use an open source library based on a general purpose programming language such as C++, Java, or Python. Of course, quality and availability varies and using them requires programming skills. Things like animation and statistical monitors may or may not be built in. Nevertheless, they are a great way to really learn what simulation modeling is all about. And, don't let the pretty pictures and videos above fool you, underneath them is a next event list and code and data.\n",
    "\n",
    "For this class we will learn the basics of using a library called SimPy. It's been around for a few years but it's certainly a bit of a bare bones package. But, with a little Python knowledge, real simulation models can be built."
   ]
  },
  {
   "cell_type": "markdown",
   "id": "92ca38ad",
   "metadata": {},
   "source": [
    "## Getting started with SimPy\n",
    "\n",
    "From the SimPy in 10 Minutes tutorial:\n",
    "\n",
    "> SimPy is a discrete-event simulation library. The behavior of active components (like vehicles, customers or messages) is modeled with processes. All processes live in an environment. They interact with the environment and with each other via events.\n",
    "\n",
    "SimPy makes it easier to build DES models with Python by taking care of things like the simulation clock and the next event list. It provides high level constructs for modeling components of your model as entities, processes and resources.\n",
    "\n",
    "We are going to build a basic model of a vaccine clinic. It's a prototypical example in that our model should be able to handle:\n",
    "\n",
    "* a random arrival process,\n",
    "* a multi-stage process in which we have to contend for limited resources at each stage,\n",
    "* there is uncertainty in the processing times,\n",
    "* we are interested in things like the relationship between patient volume, resource utilization and patient waiting. \n",
    "\n",
    "We want to build a model that will be helpful in deciding how many vaccination stations to have, the hours of operation of the vaccine clinic, and the size of the post-vaccine waiting room needed. \n",
    "\n",
    "Like the SimPy in 10 Minutes tutorial, I will start with the very basics and keep adding on functionality and complexity. Along the way, I'll try to give you a bit of sense of how SimPy works. Start by reading the [Basic Concepts section of the SimPyin 10 tutorial](https://simpy.readthedocs.io/en/latest/simpy_intro/basic_concepts.html#basic-concepts) to start to become familiar with some fundamental SimPy concepts:\n",
    "\n",
    "* we model many components of our simulation with *processes*,\n",
    "* all of our processes live in a SimPy *environment*,\n",
    "* the processes interact with each other and the SimPy environent through *events*.\n",
    "\n",
    "I encourage you to have a Jupyter notebook open as you are going through the SimPy in 10 Minutes tutorial and build the simple Car Simulation model it uses."
   ]
  },
  {
   "cell_type": "markdown",
   "id": "2db4ba50",
   "metadata": {},
   "source": [
    "### Another really good getting started tutorial\n",
    "I also highly recommend the following tutorial from Real Python. It walks you through building a simulation model a movie theater. It's very well done and will help you better understand both the big picture of DES modeling and SimPy.\n",
    "\n",
    "* https://realpython.com/simpy-simulating-with-python/\n",
    "\n",
    "In the downloads file, I have included the `theater_simulate.py` file that goes along with this tutorial."
   ]
  },
  {
   "cell_type": "markdown",
   "id": "8703a077",
   "metadata": {},
   "source": [
    "### Digging a little deeper into the inner workings of SimPy\n",
    "\n",
    "If interested, see https://simpy.readthedocs.io/en/latest/topical_guides/simpy_basics.html#how-simpy-works for more technical details on how SimPy works.\n",
    "\n"
   ]
  },
  {
   "cell_type": "markdown",
   "id": "7b077568",
   "metadata": {},
   "source": [
    "## Prelude: Generators\n",
    "\n",
    "The way that SimPy enables event based modeling is through Python *generators*. Generators are a special type of function (or method) that acts as an **iterator** and that **remembers its state between calls to it**. We also say that generator functions are *lazy iterators*.  They are lazy in the sense that they don't generate their values until asked to do so. For example, consider using a list comprehension to generate the first 10 perfect squares."
   ]
  },
  {
   "cell_type": "code",
   "execution_count": null,
   "id": "d08ffd8f",
   "metadata": {},
   "outputs": [],
   "source": [
    "squares = [x ** 2 for x in range(1, 11)]\n",
    "print(squares)"
   ]
  },
  {
   "cell_type": "markdown",
   "id": "aeae1463",
   "metadata": {},
   "source": [
    "Now, I'll replace the brackets in the above list comprehension with parentheses - now it's something called a *generator expression*. It creates an iterator (something we can call `next` on to get the next value in the sequence), but doesn't actually generate the values until asked."
   ]
  },
  {
   "cell_type": "code",
   "execution_count": null,
   "id": "080cf800",
   "metadata": {},
   "outputs": [],
   "source": [
    "perfect_squares_gen_1 = (x ** 2 for x in range(1, 11))\n",
    "print(perfect_squares_gen_1)"
   ]
  },
  {
   "cell_type": "code",
   "execution_count": null,
   "id": "9d315529",
   "metadata": {},
   "outputs": [],
   "source": [
    "for _ in range(10):\n",
    "    print(next(perfect_squares_gen_1))"
   ]
  },
  {
   "cell_type": "markdown",
   "id": "f538f161",
   "metadata": {},
   "source": [
    "Wait, what does this have to do with simulation? Let's back up and reconsider that previous example. What if we wanted a function that could generate an infinite sequence of perfect squares? Obviously, we can't just generate a list of an infinite number of perfect squares. Generator functions provide a way to do such things, and they do it by remembering their internal state. For example:"
   ]
  },
  {
   "cell_type": "code",
   "execution_count": null,
   "id": "12556860",
   "metadata": {},
   "outputs": [],
   "source": [
    "def perfect_squares_gen_2():\n",
    "    value = 0\n",
    "    while True:\n",
    "        value += 1\n",
    "        yield value ** 2"
   ]
  },
  {
   "cell_type": "code",
   "execution_count": null,
   "id": "a01499b7",
   "metadata": {},
   "outputs": [],
   "source": [
    "perfect_squares = perfect_squares_gen_2()\n",
    "print(next(perfect_squares))\n",
    "print(next(perfect_squares))\n",
    "print(next(perfect_squares))"
   ]
  },
  {
   "cell_type": "markdown",
   "id": "13c32b19",
   "metadata": {},
   "source": [
    "The key is noticing the `yield` keyword. It serves to return a value from our generator function `perfect_square_gen` (much like a standard `return` statement) but **ALSO** remembers the value of `value`, a local variable in the function. It also, temporarily, passes control back to whomever called. Since it can remember its *state*, it knows where it left off whenever the function is called again using `next`. No need to generate new values until asked. You might have realized that `perfect_squares_gen_1` is really just some syntactic sugar for doing what we did in `perfect_squares_gen_2`.\n",
    "\n",
    "Now let's consider something a little more relevant to simulation modeling. We rely on SimPy to provide an manage a *simulation clock*. Let's create our own simple clock in Python. However, unlike a normal clock, we tell the clock how large of a \"tick\" it should make every time we ask it for the time. It should start time time `t = 0` and then be incremented by whatever tick size we pass into it."
   ]
  },
  {
   "cell_type": "code",
   "execution_count": null,
   "id": "a9aa9769",
   "metadata": {},
   "outputs": [],
   "source": [
    "def simple_event_clock(tick_size):\n",
    "    t = 0\n",
    "    while True:\n",
    "        print(f\"The time was {t} and you asked me to tick {tick_size} time units.\")\n",
    "        t += tick_size\n",
    "        yield t"
   ]
  },
  {
   "cell_type": "code",
   "execution_count": null,
   "id": "6c55f20c",
   "metadata": {},
   "outputs": [],
   "source": [
    "clock = simple_event_clock(5)\n",
    "print(next(clock))\n",
    "print(next(clock))\n",
    "print(next(clock))"
   ]
  },
  {
   "cell_type": "markdown",
   "id": "80952ca4",
   "metadata": {},
   "source": [
    "The big takeaway is that by using `yield`, we can have a function that kind of goes into \"suspended animation\" but can pick up where it left off when it's asked to. In SimPy, we will have *process functions* that create events and then `yield` them and wait for the event to be triggered. The most common such event is a `Timeout` event - it gets triggered when a specified duration of time has passed on the simulation clock. A `Timeout` event could be used to model something like the time it takes for a patient to get registered at our clinic. We will also use `yield` when we need to acquire a resource such as the clinician who will vaccinate the patient. Since we have a finite number of clinicians, the patient may have to wait until one becomes available. \n",
    "\n",
    "Some additional resources on generators include:\n",
    "\n",
    "* https://dbader.org/blog/python-generators\n",
    "* https://realpython.com/introduction-to-python-generators/"
   ]
  },
  {
   "cell_type": "markdown",
   "id": "cc5ea77d",
   "metadata": {},
   "source": [
    "## The structure of a SimPy program\n",
    "\n",
    "There are actually several different ways to structure a SimPy simulation model program. You can do things in an object-oriented fashion, or a more procedural way, or a combination of both. Within these choices there are many different ways to go about developing the details of the model. Even though SimPy has been around for several years, best practices for modeling are still evolving. In addition, things that come as standard features in many commercial simulation packages such as statistical monitoring and animation, are the responsibility of the modeler when using SimPy. This can affect how the model is architected. \n",
    "\n",
    "In this tutorial, I'm going to try to use a pattern that is easily accessible by new Python simulation modelers. It will use a combination of custom classes as well as process functions.\n",
    "\n",
    "Before launching into building the entire vaccine clinic model, let's do a few simple warmup models to become more familiar with SimPy."
   ]
  },
  {
   "cell_type": "markdown",
   "id": "51d559c7",
   "metadata": {},
   "source": [
    "## Model 1: Creating a patient arrival process\n",
    "\n",
    "For our vaccine clinic model, we'll need a way to generate patient arrivals. To start, let's just generate a new patient every $n$ minutes. There are no specific time units specified in SimPy. It's our job to keep our time units straight and is helpful to think of each unit of time as a minute. It would be nice to know when each patient was created to make sure things are working correctly. SimPy has functions for accessing the state of the simulation clock - the current simulation time is accessible from the `now` attribute of the simulation environment object (which by convention we usually name `env`). We'll include `print` statements to help illustrate what is going in inside the function."
   ]
  },
  {
   "cell_type": "code",
   "execution_count": null,
   "id": "2aab9c8c",
   "metadata": {},
   "outputs": [],
   "source": [
    "def patient_arrivals(env, interarrival_time=5.0):\n",
    "    \"\"\"Generate patients according to a fixed time arrival process\"\"\"\n",
    "\n",
    "    # Create a counter to keep track of number of patients generated and to serve as unique patient id\n",
    "    patient = 0\n",
    "\n",
    "    # Infinite loop for generating patients\n",
    "    while True:\n",
    "\n",
    "        # Generate next interarrival time (this will be more complicated later)\n",
    "        iat = interarrival_time\n",
    "        \n",
    "        # This process will now yield to a 'timeout' event. This process will resume after iat time units.\n",
    "        yield env.timeout(iat)\n",
    "\n",
    "        # Okay, we're back. :) New patient generated = update counter of patients\n",
    "        patient += 1\n",
    "        \n",
    "        print(f\"Patient {patient} created at time {env.now}\")\n",
    "\n"
   ]
  },
  {
   "cell_type": "markdown",
   "id": "22a694b2",
   "metadata": {},
   "source": [
    "Now we can create a simple simulation model that just generates patients for some fixed amount of time.\n",
    "\n",
    "**IMPORTANT THING TO NOTE** \n",
    "\n",
    "In the code below, you'll see the following line:\n",
    "\n",
    "```python\n",
    "env1.process(patient_arrivals(env1, interarrival_time))\n",
    "```\n",
    "\n",
    "This is really doing two things:\n",
    "\n",
    "1. The `patient_arrivals(env1, interarrival_time)` part is calling the `patient_arrivals` generator function and gets back a Python generator.\n",
    "2. The `env1.process()` part is then *registering* this generator with the simulation environment (`env1` in this example).\n",
    "\n",
    "In fact, I could have written the above in two lines, one line per step listed above:\n",
    "\n",
    "```python\n",
    "arrival_generator = patient_arrivals(env1, interarrival_time)\n",
    "env1.process(arrival_generator)\n",
    "```\n",
    "\n",
    "For any generator function you write (i.e. any function that contains a `yield` statement), you **MUST** register it with the simulation enironment by passing the generator with the `process` function. "
   ]
  },
  {
   "cell_type": "code",
   "execution_count": null,
   "id": "d9a271b1",
   "metadata": {},
   "outputs": [],
   "source": [
    "# Initialize a simulation environment\n",
    "env1 = simpy.Environment()\n",
    "\n",
    "# Create a process generator and start it and add it to the env\n",
    "# env.process() starts the patient_arrivals process and adds it to the environment\n",
    "runtime = 25\n",
    "interarrival_time = 3.0\n",
    "env1.process(patient_arrivals(env1, interarrival_time))\n",
    "\n",
    "# Run the simulation\n",
    "env1.run(until=runtime)"
   ]
  },
  {
   "cell_type": "markdown",
   "id": "2c4dcf5f",
   "metadata": {},
   "source": [
    "From a modeling perspective, patients arriving at perfectly equally spaced interarrival times is pretty unrealistic. If we were modeling a \"walk-in clinic\" in which no patients have scheduled appointments, it would be more appropriate to model patient arrivals by something known as a *Poisson arrival process*. These processes are characterized by:\n",
    "\n",
    "* a constant mean arrival rate (usually denoted by $\\lambda$),\n",
    "* the time between invidual arrivals is exponentially distributed,\n",
    "* arrivals are independent of each other,\n",
    "* the number of arrivals is any time interval of length $t$, is Poisson distributed with mean $\\lambda t$.\n",
    "\n",
    "Poisson process are commonly used to model things like calls to call centers, arrivals of patients to an emergency room, and even things like hurricanes. A really nice basic intro is available in the following blog post:\n",
    "\n",
    "* https://towardsdatascience.com/the-poisson-distribution-and-poisson-process-explained-4e2cb17d459\n",
    "\n",
    "Since Poisson arrival processes have interarrival times that are exponentially distributed, we need to generate exponential random variates within our `patient_arrivals` function. For this, we'll use numpy. Recently, numpy has updated their random variable generation routines - details are at https://numpy.org/doc/stable/reference/random/index.html.\n",
    "\n",
    "First we need to import the default random number generator and create a random generator variable. I'll use 4470 as the seed. This generator generates numbers uniformly between 0 and 1, which can be used to generate random variates from whatever distribution we choose. This is kind of like `rand()` in Excel except that we get to control the generator via a seed value."
   ]
  },
  {
   "cell_type": "code",
   "execution_count": null,
   "id": "5b2a3681",
   "metadata": {},
   "outputs": [],
   "source": [
    "from numpy.random import default_rng\n",
    "rg = default_rng(seed=4470)\n",
    "print(rg.random())\n",
    "print(rg.random())"
   ]
  },
  {
   "cell_type": "markdown",
   "id": "b9c0d8b8",
   "metadata": {},
   "source": [
    "In addition to generating random numbers, it's handy to have a way to compute various quantities of probability distributions. The `scipy.stat`s module contains a large number of probability distributions and each has numerous functions for calculating things such as pdf or CDF values, quantiles, and various moments. You can see the details at https://docs.scipy.org/doc/scipy/reference/stats.html. We'll use it here to overlay the exponential pdf (probability density function) on our histogram of generated exponential random variates."
   ]
  },
  {
   "cell_type": "code",
   "execution_count": null,
   "id": "a874e2ee",
   "metadata": {},
   "outputs": [],
   "source": [
    "# Import exponential distribution function from scipy.stats\n",
    "from scipy.stats import expon\n",
    "# Set mean of this distribution to whatever we were using above for interarrival time\n",
    "mean_interarrival_time = interarrival_time\n",
    "# Create a random variable object based on the exponential distribution with the given mean\n",
    "rv_expon = expon(scale=mean_interarrival_time)"
   ]
  },
  {
   "cell_type": "code",
   "execution_count": null,
   "id": "50ccb2b6",
   "metadata": {},
   "outputs": [],
   "source": [
    "# Generate 1000 exponential random variates (notice this is the exponential function from numpy)\n",
    "iat_sample = rg.exponential(mean_interarrival_time, 10000)\n",
    "\n",
    "# Create a histogram of the random samples with exponential pdf overlaid\n",
    "plt.title(\"Interarrival time histogram\")\n",
    "plt.xlabel(\"Interarrival time\")\n",
    "plt.ylabel(\"Density\")\n",
    "plt.hist(iat_sample, density=True);\n",
    "\n",
    "# Create values for the x-axis using expon function from SciPy\n",
    "x_expon = np.linspace(rv_expon.ppf(0.0001),\n",
    "                rv_expon.ppf(0.999), 500)\n",
    "\n",
    "# Create values for the y-axis\n",
    "y_expon_pdf = rv_expon.pdf(x_expon)\n",
    "\n",
    "plt.plot(x_expon, y_expon_pdf,\n",
    "       'r-', lw=3, alpha=0.6, label='Exponential pdf');\n",
    "\n"
   ]
  },
  {
   "cell_type": "markdown",
   "id": "acf8f9c6",
   "metadata": {},
   "source": [
    "Now, we'll modify our patient arrivals function to use Poisson arrivals instead of equally-spaced deterministic arrivals."
   ]
  },
  {
   "cell_type": "code",
   "execution_count": null,
   "id": "5354e097",
   "metadata": {},
   "outputs": [],
   "source": [
    "def patient_arrivals_random_1(env, mean_interarrival_time=5.0, rg=default_rng(0)):\n",
    "    \"\"\"Generate patients according to a Poisson arrival process\"\"\"\n",
    "\n",
    "    # Create a counter to keep track of number of patients generated and to serve as unique patient id\n",
    "    patient = 0\n",
    "\n",
    "    # Infinite loop for generating patients\n",
    "    while True:\n",
    "\n",
    "        # Generate next interarrival time from exponential distribution\n",
    "        iat = rg.exponential(mean_interarrival_time)\n",
    "        \n",
    "        # This process will now yield to a 'timeout' event. This process will resume after iat time units.\n",
    "        yield env.timeout(iat)\n",
    "\n",
    "        # Update counter of patients\n",
    "        patient += 1\n",
    "        \n",
    "        print(f\"Patient {patient} created at time {env.now}\")\n",
    "\n"
   ]
  },
  {
   "cell_type": "markdown",
   "id": "1baf51c2",
   "metadata": {},
   "source": [
    "Now we'll create a new simulation environment and run this new arrival model. You'll see that the arrivals are not equally spaced."
   ]
  },
  {
   "cell_type": "code",
   "execution_count": null,
   "id": "5f059cfe",
   "metadata": {
    "tags": []
   },
   "outputs": [],
   "source": [
    "# Initialize a simulation environment\n",
    "env2 = simpy.Environment()\n",
    "\n",
    "# Create a process generator and start it and add it to the env\n",
    "# env.process() starts and adds it to env\n",
    "runtime = 25\n",
    "interarrival_time = 3.0\n",
    "env2.process(patient_arrivals_random_1(env2, interarrival_time))\n",
    "\n",
    "# Run the simulation\n",
    "env2.run(until=runtime)"
   ]
  },
  {
   "cell_type": "markdown",
   "id": "bd72ae3b",
   "metadata": {},
   "source": [
    "## Model 2: Adding a simple delay process\n",
    "\n",
    "Let's extend the model a bit by adding a simple delay process. In other words, let's pretend that after a patient arrives, the patient spends a random amount of time to go through all the stages of the vaccination process. In other words we are **grossly oversimplifying the real system** by ignoring all the details of the vaccination process. Let's model this total time in the vaccination clinic with another exponential distribution having a mean of 25 minutes.\n",
    "\n",
    "To do this, we'll do two main things:\n",
    "\n",
    "* Create a new process function for the delay process,\n",
    "* Modify the arrival process to create a delay event for each patient arrival.\n",
    "\n"
   ]
  },
  {
   "cell_type": "code",
   "execution_count": null,
   "id": "11859f93",
   "metadata": {},
   "outputs": [],
   "source": [
    "def delay_process(env, name, delay_time):\n",
    "    \"\"\"Process function modeling how a patient flows through system.\"\"\"\n",
    "\n",
    "    # Note how we are simply modeling the entire clinic visit as a delay. There\n",
    "    # is NO contention for any resources.\n",
    "\n",
    "    print(f\"{name} entering vaccination clinic at {env.now:.4f}\")\n",
    "    \n",
    "    # Yield for the delay_time\n",
    "    yield env.timeout(delay_time)\n",
    "    \n",
    "    # The delay is over, we would exit the clinic\n",
    "    print(f\"{name} exiting vaccination clinic at {env.now:.4f}\")"
   ]
  },
  {
   "cell_type": "markdown",
   "id": "d8b711bd",
   "metadata": {},
   "source": [
    "Now we can modify our arrival function to interact with our new delay process function. Notice since `delay_process` does a `yield` it **is** a Python generator function and, from SimPy's perspective, it's something we need to *register* as a `process`. We'll do this in our new arrivals function."
   ]
  },
  {
   "cell_type": "code",
   "execution_count": null,
   "id": "e3b2179e",
   "metadata": {},
   "outputs": [],
   "source": [
    "def patient_arrivals_random_2(env, mean_interarrival_time=5.0, mean_delay_time=25.0, rg=default_rng(0)):\n",
    "    \"\"\"Generate patients according to a Poisson arrival process\"\"\"\n",
    "\n",
    "    # Create a counter to keep track of number of patients generated and to serve as unique patient id\n",
    "    patient = 0\n",
    "\n",
    "    # Infinite loop for generating patients\n",
    "    while True:\n",
    "\n",
    "        # Generate next interarrival time\n",
    "        iat = rg.exponential(mean_interarrival_time)\n",
    "        \n",
    "        # This process will now yield to a 'timeout' event. This process will resume after iat time units.\n",
    "        yield env.timeout(iat)\n",
    "\n",
    "        # Update counter of patients\n",
    "        patient += 1\n",
    "\n",
    "        print(f\"Patient{patient} created at time {env.now}\")\n",
    "        \n",
    "        # Generate a random delay time from an exponential distribution\n",
    "        delay_time = rg.exponential(mean_delay_time)\n",
    "        \n",
    "        # Create and register the delay process - I'm doing in two steps here, but could combine into one\n",
    "        \n",
    "        # Create a new patient delay process generator object.\n",
    "        patient_visit = delay_process(env, 'Patient{}'.format(patient), delay_time)\n",
    "        # Register the process with the simulation environment\n",
    "        env.process(patient_visit)\n",
    "        \n",
    "        # Here's the one step version\n",
    "        # env.process(delay_process(env, 'Patient{}'.format(patients_created), delay_time))\n",
    "        "
   ]
  },
  {
   "cell_type": "markdown",
   "id": "a7eccb82",
   "metadata": {},
   "source": [
    "Ready to create a new simulation environment and run our new model."
   ]
  },
  {
   "cell_type": "code",
   "execution_count": null,
   "id": "2ac69820",
   "metadata": {},
   "outputs": [],
   "source": [
    "# Initialize a simulation environment\n",
    "env3 = simpy.Environment()\n",
    "\n",
    "# Set input values\n",
    "mean_interarrival_time = 3.0\n",
    "mean_delay_time = 25.0\n",
    "\n",
    "# Register our new arrivals process\n",
    "env3.process(patient_arrivals_random_2(env3, mean_interarrival_time, mean_delay_time))\n",
    "\n",
    "# Run the simulation\n",
    "runtime = 25\n",
    "env3.run(until=runtime)"
   ]
  },
  {
   "cell_type": "markdown",
   "id": "611d3957",
   "metadata": {},
   "source": [
    "Now that you've got a little better idea of how to go about creating very simple SimPy models, let's tackle the vaccine clinic model. Again, for our first version, we'll make a number of simplifying assumptions and simplifying software design decisions. Later versions will be better."
   ]
  },
  {
   "cell_type": "markdown",
   "id": "1418d1cf",
   "metadata": {},
   "source": [
    "## Model 3: The vaccine clinic model - version 0.01\n",
    "\n",
    "Here's the basic vaccination process we'll model.\n",
    "\n",
    "    Arrival --> Temperature check --> Registration --> Vaccination --> Schedule dose 2 (if needed) --> Wait 15 min --> Exit"
   ]
  },
  {
   "cell_type": "markdown",
   "id": "c1293ae8",
   "metadata": {},
   "source": [
    "### Creating a `VaccineClinic` class\n",
    "We will model the clinic itself with a Python class. This class will contain attributes such as:\n",
    "\n",
    "* the SimPy environment,\n",
    "* resource capacity related inputs,\n",
    "* data structures to store data collected as patients flow through the system,\n",
    "* the SimPy resources for modeling the various types of staff modeled,\n",
    "* process methods corresponding to processing times in each stage in the clinic patient flow diagram.\n",
    "\n",
    "By having a `VaccineClinic` class, it makes it easy to encapsulate a bunch of input parameters, such as the capacity levels of the different staff resources, into an object that we can then pass along to other functions. This basic strategy of creating custom classes for distinct components in your simulation model is often quite useful. "
   ]
  },
  {
   "cell_type": "markdown",
   "id": "d2dbed7c",
   "metadata": {},
   "source": [
    "For now, notice that the process methods corresponding to each state of the vaccination process have **hard coded parameters** in this class. Yes, this is **bad**. But it's perfectly **fine to make such simplifications while you are learning** and trying to get a model working. We'll improve upon this in a later version. "
   ]
  },
  {
   "cell_type": "code",
   "execution_count": null,
   "id": "7292eac9",
   "metadata": {},
   "outputs": [],
   "source": [
    "class VaccineClinic(object):\n",
    "    def __init__(self, env, num_greeters, num_reg_staff, num_vaccinators, num_schedulers, rg):\n",
    "        # Simulation environment\n",
    "        self.env = env\n",
    "        \n",
    "        # Create list to hold timestamps dictionaries (one per patient)\n",
    "        self.timestamps_list = []\n",
    "        # Create lists to hold occupancy tuples (time, occ)\n",
    "        self.postvac_occupancy_list = [(0.0, 0.0)]\n",
    "        self.vac_occupancy_list = [(0.0, 0.0)]\n",
    "        \n",
    "        # Create resources\n",
    "        self.greeter = simpy.Resource(env, num_greeters)\n",
    "        self.reg_staff = simpy.Resource(env, num_reg_staff)\n",
    "        self.vaccinator = simpy.Resource(env, num_vaccinators)\n",
    "        self.scheduler = simpy.Resource(env, num_schedulers)\n",
    "\n",
    "    # Create process methods - hard coding processing time distributions for now\n",
    "    # TODO - remove hard coding\n",
    "    # The patient argument is just a unique integer number\n",
    "    def temperature_check(self, patient, rg):\n",
    "        yield self.env.timeout(rg.normal(0.25, 0.05))\n",
    "\n",
    "    def registration(self, patient, rg):\n",
    "        yield self.env.timeout(rg.exponential(1.0))\n",
    "\n",
    "    def vaccinate(self, patient, rg):\n",
    "        yield self.env.timeout(rg.normal(4.0, 0.5))\n",
    "        \n",
    "    def schedule_dose_2(self, patient, rg):\n",
    "        yield self.env.timeout(rg.normal(1.0, 0.25))\n",
    "    \n",
    "    # We assume all patients wait at least 15 minutes post-vaccination\n",
    "    # Some will choose to wait longer. This is the time beyond 15 minutes\n",
    "    # that patients wait.\n",
    "    def wait_gt_15(self, patient, rg):\n",
    "        yield self.env.timeout(rg.exponential(0.5))"
   ]
  },
  {
   "cell_type": "markdown",
   "id": "80506a54",
   "metadata": {},
   "source": [
    "### The `get_vaccinated` function\n",
    "\n",
    "Now we'll create a general `get_vaccinated` function to define the sequence of steps traversed by patients. We'll also capture a bunch of timestamps to make it easy to compute various system performance measures such as patient waiting times, queue sizes and resource utilization. The inputs to this function include:\n",
    "\n",
    "* the simulation environment,\n",
    "* a patient id,\n",
    "* the clinic object (created from `VaccineClinic` class),\n",
    "* the percentage of patients that are there for their first dose,\n",
    "* the random number generator.\n",
    "\n",
    "#### Acquiring and releasing resources\n",
    "\n",
    "For each step in the vaccination process, you'll find a sequence of code blocks in which we:\n",
    "\n",
    "* attempt to acquire a certain type of staff resource, \n",
    "* once we acquire the resource we get processed by calling the appropriate method of the `VaccineClinic` object, \n",
    "* we release the resource.\n",
    "\n",
    "```python\n",
    "# Request reg staff to get registered\n",
    "with clinic.reg_staff.request() as request:\n",
    "    yield request\n",
    "    got_reg_ts = env.now\n",
    "    yield env.process(clinic.registration(patient, rg))\n",
    "    release_reg_ts = env.now\n",
    "```\n",
    "\n",
    "A few important points about the example above:\n",
    "\n",
    "* `request` is a type of SimPy event corresponding to our request to get one unit of the `reg_staff` resource,\n",
    "* We `yield` the `request` - in essence, suspending the function until the request can be satistfied,\n",
    "* once the request is satisfied, the next line, `got_reg_ts = env.now` gets executed and we get the current simulation time and store it in a local variable, `got_reg_ts` (later in the code we'll put this variable value into a dictionary that we persists throughout the entire simulation)\n",
    "* Now we do another `yield` but this time we are yielding a new `process` event, the actual `registration` (generator) function, which is part of the `clinic` object.\n",
    "* When the patient is done with the registration process, the next line, `release_reg_ts = env.now`, captures the registration finish time.\n",
    "\n",
    "We'll use this same code *pattern* throughout the `get_vaccinated` function as we move through the different stages of the vaccination process.\n",
    "\n",
    "#### Patient flow timestamps\n",
    "\n",
    "You just saw that we create numerous timestamp variables corresponding to things like when a patient starts and ends various stages of the vaccination process. For example:\n",
    "\n",
    "```python\n",
    "got_greeter_ts = env.now\n",
    "```\n",
    "\n",
    "Our goal is to be able to compute important durations such as how long each patient waited before starting vaccination or before registration. As long as we gather the necessary timestamps, we can compute an durations we want. At the end of the function you'll see that all of the timestamps are gathered up into a dictionary along with the patient id number and the dictionary stored in `timestamps_list`, an attribute of the clinic object.\n",
    "\n",
    "When the simulation is done, we can convert this list of dictionaries into a pandas dataframe, compute the important time durations for each patient and then do summary stats and plots on these new fields.\n",
    "\n",
    "#### Logging occupancy changes\n",
    "We are also interested in the number of patients present in the vaccination stage and the number in the post-vaccination observation stage. Unfortunately, SimPy no longer has built in *monitor* classes to track these things. So, we'll do it ourselves. In order to correctly compute time averaged occupancy statistics, we just need to log the time and occupancy level each time it changes. For example, when a patient acquires a staff member to administer the vaccination, the occupancy in the vaccination stage increases by 1. When the vaccination is complete and the patient releases the resource, the occupancy decreases by 1.\n",
    "\n",
    "If you look back at the `VaccineClinic` class definition, you'll see the initialization for the occupancy lists that we'll updating.\n",
    "\n",
    "```python\n",
    "self.vac_occupancy_list = [(0.0, 0.0)]\n",
    "```\n",
    "\n",
    "The `vac_occupancy_list` attribute is a list of tuples - (timestamp, occupancy). When the simulation begins, at time 0, there are 0 patients in the vaccination stage. Let's say that at time 4.5, the first patient starts the vaccination step and the second patient starts at 4.7. Here's how our `vac_occupancy_list` is changing \n",
    "\n",
    "```python\n",
    "# At time 4.5\n",
    "self.vac_occupancy_list = [(0.0, 0.0), (4.5, 1)]\n",
    "# At time 4.7\n",
    "self.vac_occupancy_list = [(0.0, 0.0), (4.5, 1), (4.7, 2)]\n",
    "```\n",
    "\n",
    "Now assume that one of the patients is done with the vaccination step at time 12.6.\n",
    "\n",
    "```python\n",
    "# At time 12.6\n",
    "self.vac_occupancy_list = [(0.0, 0.0), (4.5, 1), (4.7, 2), (12.6, 1)]\n",
    "```\n",
    "\n",
    "When the simulation is done, we'll convert the lists of tuples into a pandas dataframe and then do the appropriate statistical analysis to compute things like the mean and 95th percentile of occupancy in these two areas. Such statistics are useful for capacity planning.\n",
    "\n"
   ]
  },
  {
   "cell_type": "code",
   "execution_count": null,
   "id": "9c85f194",
   "metadata": {},
   "outputs": [],
   "source": [
    "def get_vaccinated(env, patient, clinic, pct_first_dose, rg):\n",
    "    # Patient arrives to clinic - note the arrival time\n",
    "    arrival_ts = env.now\n",
    "\n",
    "    # Request a greeter for temperature check\n",
    "    # By using request() in a context manager, we'll automatically release the resource when done\n",
    "    with clinic.greeter.request() as request:\n",
    "        yield request\n",
    "        # Now that we have a greeter, check temperature. Note time.\n",
    "        got_greeter_ts = env.now\n",
    "        yield env.process(clinic.temperature_check(patient, rg))\n",
    "        release_greeter_ts = env.now\n",
    "\n",
    "    # Request reg staff to get registered\n",
    "    with clinic.reg_staff.request() as request:\n",
    "        yield request\n",
    "        got_reg_ts = env.now\n",
    "        yield env.process(clinic.registration(patient, rg))\n",
    "        release_reg_ts = env.now\n",
    "        \n",
    "    # Request clinical staff to get vaccinated\n",
    "    with clinic.vaccinator.request() as request:\n",
    "        yield request\n",
    "        got_vaccinator_ts = env.now\n",
    "        # Update vac occupancy - increment by 1\n",
    "        prev_occ = clinic.vac_occupancy_list[-1][1]\n",
    "        new_occ = (env.now, prev_occ + 1)\n",
    "        clinic.vac_occupancy_list.append(new_occ)\n",
    "        yield env.process(clinic.vaccinate(patient, rg))\n",
    "        release_vaccinator_ts = env.now\n",
    "        # Update vac occupancy - decrement by 1 - more compact code\n",
    "        # Note that clinic.vac_occupancy_list[-1] is the last tuple in the list\n",
    "        #  and that clinic.vac_occupancy_list[-1][1] is referencing the occupancy\n",
    "        #  value in the tuple (remember tuple elements are indexed starting with 0, so\n",
    "        #  the timestamp is at [0] and the occupancy is at [1]).\n",
    "        #  BTW, this suggests that perhaps using something known as \"namedtuples\" might\n",
    "        #  make our code more readable. See https://realpython.com/python-namedtuple/ \n",
    "        #  for a good introduction to namedtuples.\n",
    "        clinic.vac_occupancy_list.append((env.now, clinic.vac_occupancy_list[-1][1] - 1))\n",
    "        \n",
    "        # Update postvac occupancy - increment by 1\n",
    "        clinic.postvac_occupancy_list.append((env.now, clinic.postvac_occupancy_list[-1][1] + 1))\n",
    "\n",
    "    # Request scheduler to schedule second dose if needed\n",
    "    if rg.random() < pct_first_dose:\n",
    "        with clinic.scheduler.request() as request:\n",
    "            yield request\n",
    "            got_scheduler_ts = env.now\n",
    "            yield env.process(clinic.schedule_dose_2(patient, rg))\n",
    "            release_scheduler_ts = env.now\n",
    "    else:\n",
    "        got_scheduler_ts = pd.NA\n",
    "        release_scheduler_ts = pd.NA\n",
    "        \n",
    "    # Wait at least 15 minutes from time we finished getting vaccinated \n",
    "    post_vac_time = env.now - release_vaccinator_ts\n",
    "    if post_vac_time < 15:\n",
    "        # Wait until 15 total minutes post vac\n",
    "        yield env.timeout(15 - post_vac_time)\n",
    "        # Wait random amount beyond 15 minutes\n",
    "        yield env.process(clinic.wait_gt_15(patient, rg))\n",
    "        exit_system_ts = env.now\n",
    "        \n",
    "        # Update postvac occupancy - decrement by 1\n",
    "        clinic.postvac_occupancy_list.append((env.now, clinic.postvac_occupancy_list[-1][1] - 1))\n",
    "    \n",
    "    exit_system_ts = env.now    \n",
    "    print(f\"Patient {patient} exited at time {env.now}\")\n",
    "\n",
    "    # Create dictionary of timestamps\n",
    "    timestamps = {'patient_id': patient,\n",
    "                  'arrival_ts': arrival_ts,\n",
    "                  'got_greeter_ts': got_greeter_ts,\n",
    "                  'release_greeter_ts': release_greeter_ts,\n",
    "                  'got_reg_ts': got_reg_ts,\n",
    "                  'release_reg_ts': release_reg_ts,\n",
    "                  'got_vaccinator_ts': got_vaccinator_ts,\n",
    "                  'release_vaccinator_ts': release_vaccinator_ts,\n",
    "                  'got_scheduler_ts': got_scheduler_ts,\n",
    "                  'release_scheduler_ts': release_scheduler_ts,\n",
    "                  'exit_system_ts': exit_system_ts}\n",
    "    \n",
    "    clinic.timestamps_list.append(timestamps)"
   ]
  },
  {
   "cell_type": "markdown",
   "id": "802c2dba",
   "metadata": {},
   "source": [
    "### The `run_clinic` function\n",
    "Now we'll create a function that runs the clinic for a specified number of hours. The inputs to this function include:\n",
    "\n",
    "* the simulation environment,\n",
    "* the clinic object,\n",
    "* the mean patient interarrival time,\n",
    "* the percentage of patients that are there for their first dose,\n",
    "* the random number generator,\n",
    "* stopping conditions for the simulation through either a stop time and a maximum number of patient arrivals.\n",
    "\n",
    "Again, notice that since this function contains a `yield` statement, it is a generator and will need to be registered with the simulation environment (which we'll do from our main calling program)."
   ]
  },
  {
   "cell_type": "code",
   "execution_count": null,
   "id": "75ce1a94",
   "metadata": {},
   "outputs": [],
   "source": [
    "def run_clinic(env, clinic, mean_interarrival_time, pct_first_dose, rg, \n",
    "               stoptime=simpy.core.Infinity, max_arrivals=simpy.core.Infinity):\n",
    "      \n",
    "    # Create a counter to keep track of number of patients generated and to serve as unique patient id\n",
    "    patient = 0\n",
    "\n",
    "    # Loop for generating patients\n",
    "    while env.now < stoptime and patient < max_arrivals:\n",
    "\n",
    "        # Generate next interarrival time (this will be more complicated later)\n",
    "        iat = rg.exponential(mean_interarrival_time)\n",
    "        \n",
    "        # This process will now yield to a 'timeout' event. This process will resume after iat time units.\n",
    "        yield env.timeout(iat)\n",
    "\n",
    "        # New patient generated = update counter of patients\n",
    "        patient += 1\n",
    "        \n",
    "        print(f\"Patient {patient} created at time {env.now}\")\n",
    "\n",
    "        env.process(get_vaccinated(env, patient, clinic, pct_first_dose, rg))\n",
    "        \n"
   ]
  },
  {
   "cell_type": "markdown",
   "id": "d88b0677",
   "metadata": {},
   "source": [
    "Finally, we will create a `main` function that will serve as the entry point to using the simulation. For now, just think of it as the first function we'll call to launch the simulation. Later we'll see how we can use this function from a command line interface (CLI) to our simulation model."
   ]
  },
  {
   "cell_type": "code",
   "execution_count": null,
   "id": "c4faa85e",
   "metadata": {},
   "outputs": [],
   "source": [
    "def main():\n",
    "    \n",
    "    # For now we are hard coding the patient arrival rate (patients per hour)\n",
    "    patients_per_hour = 180\n",
    "    mean_interarrival_time = 1.0 / (patients_per_hour / 60.0)\n",
    "    pct_first_dose = 0.50\n",
    "    \n",
    "    # Create a random number generator\n",
    "    rg = default_rng(seed=4470)\n",
    "    \n",
    "    # For now we are going to hard code in the resource capacity levels \n",
    "    num_greeters = 2\n",
    "    num_reg_staff = 2\n",
    "    num_vaccinators = 12\n",
    "    num_schedulers = 2\n",
    "    \n",
    "    # Hours of operation\n",
    "    stoptime = 600 # No more arrivals after this time\n",
    "    \n",
    "    # Create a simulation environment\n",
    "    env = simpy.Environment()\n",
    "    # Create a clinic to simulate\n",
    "    clinic = VaccineClinic(env, num_greeters, num_reg_staff, num_vaccinators, num_schedulers, rg)\n",
    "    \n",
    "    # Register the run_clinic (generator) function\n",
    "    env.process(run_clinic(env, clinic, mean_interarrival_time, pct_first_dose, rg, stoptime=stoptime))\n",
    "    # Actually run the simulation\n",
    "    env.run()\n",
    "    \n",
    "    # The simulation is over now, let's create the output csv files from \n",
    "    # the dataframes created by running the simulation model.\n",
    "    \n",
    "    # Output log files \n",
    "    clinic_patient_log_df = pd.DataFrame(clinic.timestamps_list)\n",
    "    clinic_patient_log_df.to_csv('./output/clinic_patient_log_df.csv', index=False)\n",
    "    \n",
    "    vac_occupancy_df = pd.DataFrame(clinic.vac_occupancy_list, columns=['ts', 'occ'])\n",
    "    vac_occupancy_df.to_csv('./output/vac_occupancy_df.csv', index=False)\n",
    "    \n",
    "    postvac_occupancy_df = pd.DataFrame(clinic.postvac_occupancy_list, columns=['ts', 'occ'])\n",
    "    postvac_occupancy_df.to_csv('./output/postvac_occupancy_df.csv', index=False)\n",
    "    \n",
    "    # Note simulation end time\n",
    "    end_time = env.now\n",
    "    print(f\"Simulation ended at time {end_time}\")\n",
    "    return (end_time)\n",
    "\n",
    "\n",
    "\n"
   ]
  },
  {
   "cell_type": "markdown",
   "id": "439a3815",
   "metadata": {},
   "source": [
    "Alright, let's run this thing!"
   ]
  },
  {
   "cell_type": "code",
   "execution_count": null,
   "id": "b931b845",
   "metadata": {
    "tags": []
   },
   "outputs": [],
   "source": [
    "clinic_end_time = main()\n"
   ]
  },
  {
   "cell_type": "code",
   "execution_count": null,
   "id": "2b73a865",
   "metadata": {},
   "outputs": [],
   "source": [
    "clinic_end_time"
   ]
  },
  {
   "cell_type": "markdown",
   "id": "83bccc19",
   "metadata": {},
   "source": [
    "Oh, oh. The clinic ran several hours past it's intended ending time of 10 hours (600 minutes). Let's dig into the output files and figure out how to make this clinic run better."
   ]
  },
  {
   "cell_type": "markdown",
   "id": "ff57baf8",
   "metadata": {},
   "source": [
    "### Post-processing the timestamps file\n",
    "\n",
    "Our simulation model captured numerous timestamps for each patient as they went through the vaccination process. The timestamps were written to a log file with one row per patient. Now we can compute various wait times and service times for each patient and then summarize them for the clinic."
   ]
  },
  {
   "cell_type": "code",
   "execution_count": null,
   "id": "64a35ebc",
   "metadata": {},
   "outputs": [],
   "source": [
    "clinic_patient_log_df = pd.read_csv('./output/clinic_patient_log_df.csv')\n",
    "clinic_patient_log_df.info()"
   ]
  },
  {
   "cell_type": "markdown",
   "id": "cd01656e",
   "metadata": {},
   "source": [
    "From these timestamps, it's easy to compute any duration of interest as the difference between two timestampls. For example, the total time in the system is just the `exit_system_ts` minus the `arrival_ts`."
   ]
  },
  {
   "cell_type": "code",
   "execution_count": null,
   "id": "16591fa2",
   "metadata": {},
   "outputs": [],
   "source": [
    "def compute_durations(timestamp_df):\n",
    "    \n",
    "    timestamp_df['wait_for_greeter'] = timestamp_df.loc[:, 'got_greeter_ts'] - timestamp_df.loc[:, 'arrival_ts']\n",
    "    timestamp_df['wait_for_reg'] = timestamp_df.loc[:, 'got_reg_ts'] - timestamp_df.loc[:, 'release_greeter_ts']\n",
    "    timestamp_df['wait_for_vaccinator'] = timestamp_df.loc[:, 'got_vaccinator_ts'] - timestamp_df.loc[:, 'release_reg_ts']\n",
    "    timestamp_df['vaccination_time'] = timestamp_df.loc[:, 'release_vaccinator_ts'] - timestamp_df.loc[:, 'got_vaccinator_ts']\n",
    "    timestamp_df['wait_for_scheduler'] = timestamp_df.loc[:, 'got_scheduler_ts'] - timestamp_df.loc[:, 'release_vaccinator_ts']\n",
    "    timestamp_df['post_vacc_time'] = timestamp_df.loc[:, 'exit_system_ts'] - timestamp_df.loc[:, 'release_vaccinator_ts']\n",
    "    timestamp_df['time_in_system'] = timestamp_df.loc[:, 'exit_system_ts'] - timestamp_df.loc[:, 'arrival_ts']\n",
    "    \n",
    "    return timestamp_df"
   ]
  },
  {
   "cell_type": "code",
   "execution_count": null,
   "id": "39c3be2c",
   "metadata": {},
   "outputs": [],
   "source": [
    "clinic_patient_log_df = compute_durations(clinic_patient_log_df)\n",
    "clinic_patient_log_df"
   ]
  },
  {
   "cell_type": "markdown",
   "id": "36114ced",
   "metadata": {},
   "source": [
    "### Histgram of total time in system"
   ]
  },
  {
   "cell_type": "code",
   "execution_count": null,
   "id": "1c53202f",
   "metadata": {},
   "outputs": [],
   "source": [
    "plt.hist(clinic_patient_log_df['time_in_system']);"
   ]
  },
  {
   "cell_type": "markdown",
   "id": "d84ad9e9",
   "metadata": {},
   "source": [
    "Wow, some patients are spending close to five hours in the clinic!"
   ]
  },
  {
   "cell_type": "markdown",
   "id": "9f07b2be",
   "metadata": {},
   "source": [
    "### Key summary stats\n",
    "Let's look at the wait times for each stage of the process."
   ]
  },
  {
   "cell_type": "code",
   "execution_count": null,
   "id": "a6f592cc",
   "metadata": {},
   "outputs": [],
   "source": [
    "clinic_patient_log_df.loc[:, ['wait_for_greeter', 'wait_for_reg',\n",
    "                              'wait_for_scheduler', 'wait_for_vaccinator', 'time_in_system']].describe()\n"
   ]
  },
  {
   "cell_type": "markdown",
   "id": "783e4275",
   "metadata": {},
   "source": [
    "Looks like registration is definitely a bottleneck. We should try increasing the number of registration staff and rerunning the model. Of course, the bottleneck can move, but we can keep repeating this process and come up with a workable capacity plan. We'll do this with a later version of the model that's implemented as a Python script. It will be much more convenient to try out different scenarios in that way.\n",
    "\n",
    "For now, let's just copy our `main` function and increase the capacity levels quite high (to basically eliminate waiting)."
   ]
  },
  {
   "cell_type": "code",
   "execution_count": null,
   "id": "f2867b96",
   "metadata": {},
   "outputs": [],
   "source": [
    "def main():\n",
    "    \n",
    "    # For now we are hard coding the patient arrival rate (patients per hour)\n",
    "    patients_per_hour = 180\n",
    "    mean_interarrival_time = 1.0 / (patients_per_hour / 60.0)\n",
    "    pct_first_dose = 0.50\n",
    "    \n",
    "    # Create a random number generator\n",
    "    rg = default_rng(seed=4470)\n",
    "    \n",
    "    # For now we are going to hard code in the resource capacity levels\n",
    "    # \n",
    "    num_greeters = 5\n",
    "    num_reg_staff = 5\n",
    "    num_vaccinators = 15\n",
    "    num_schedulers = 5\n",
    "    \n",
    "    # Hours of operation\n",
    "    stoptime = 600 # No more arrivals after this time\n",
    "    \n",
    "    # Create a simulation environment\n",
    "    env = simpy.Environment()\n",
    "    # Create a clinic to simulate\n",
    "    clinic = VaccineClinic(env, num_greeters, num_reg_staff, num_vaccinators, num_schedulers, rg)\n",
    "    \n",
    "    # Register the run_clinic (generator) function\n",
    "    env.process(run_clinic(env, clinic, mean_interarrival_time, pct_first_dose, rg, stoptime=stoptime))\n",
    "    # Actually run the simulation\n",
    "    env.run()\n",
    "    \n",
    "    # The simulation is over now, let's create the output csv files from \n",
    "    # the dataframes created by running the simulation model.\n",
    "    \n",
    "    # Output log files \n",
    "    clinic_patient_log_df = pd.DataFrame(clinic.timestamps_list)\n",
    "    clinic_patient_log_df.to_csv('./output/clinic_patient_log_df.csv', index=False)\n",
    "    \n",
    "    vac_occupancy_df = pd.DataFrame(clinic.vac_occupancy_list, columns=['ts', 'occ'])\n",
    "    vac_occupancy_df.to_csv('./output/vac_occupancy_df.csv', index=False)\n",
    "    \n",
    "    postvac_occupancy_df = pd.DataFrame(clinic.postvac_occupancy_list, columns=['ts', 'occ'])\n",
    "    postvac_occupancy_df.to_csv('./output/postvac_occupancy_df.csv', index=False)\n",
    "    \n",
    "    # Note simulation end time\n",
    "    end_time = env.now\n",
    "    print(f\"Simulation ended at time {end_time}\")\n",
    "    return (end_time)\n",
    "\n",
    "\n",
    "\n"
   ]
  },
  {
   "cell_type": "code",
   "execution_count": null,
   "id": "8b71253c",
   "metadata": {
    "tags": []
   },
   "outputs": [],
   "source": [
    "clinic_end_time = main()"
   ]
  },
  {
   "cell_type": "code",
   "execution_count": null,
   "id": "27e42c89",
   "metadata": {
    "tags": []
   },
   "outputs": [],
   "source": [
    "clinic_patient_log_df = pd.read_csv('./output/clinic_patient_log_df.csv')\n",
    "clinic_patient_log_df = compute_durations(clinic_patient_log_df)\n",
    "clinic_patient_log_df.loc[:, ['wait_for_greeter', 'wait_for_reg',\n",
    "                              'wait_for_scheduler', 'wait_for_vaccinator', 'time_in_system']].describe()"
   ]
  },
  {
   "cell_type": "markdown",
   "id": "a63e7dea",
   "metadata": {},
   "source": [
    "### The time dependent nature of our metrics\n",
    "Since each day the clinic starts out empty and then ends ten hours later, the wait times may depend on time of day. Of course there is also likely to be much variability just do to the inherent randomness of the system. Let's plot a rolling mean for time in system. "
   ]
  },
  {
   "cell_type": "code",
   "execution_count": null,
   "id": "3721b39d",
   "metadata": {},
   "outputs": [],
   "source": [
    "y = clinic_patient_log_df['time_in_system'].rolling(100, 10).mean()\n",
    "plt.plot(y)"
   ]
  },
  {
   "cell_type": "markdown",
   "id": "d807d776",
   "metadata": {},
   "source": [
    "### Occupancy statistics\n",
    "\n",
    "In addition to patient level metrics, we are interested in clinic level metrics such as the number of patients in each stage as this will impact space requirements. During the simulation, we collected occupancy data every time a patient entered or exited a stage. So, we need to do time weighted statistics."
   ]
  },
  {
   "cell_type": "code",
   "execution_count": null,
   "id": "fb107af1",
   "metadata": {},
   "outputs": [],
   "source": [
    "postvac_occupancy_df = pd.read_csv('./output/postvac_occupancy_df.csv')\n",
    "vac_occupancy_df = pd.read_csv('./output/vac_occupancy_df.csv')\n",
    "postvac_occupancy_df.info()"
   ]
  },
  {
   "cell_type": "code",
   "execution_count": null,
   "id": "0d41bb7e",
   "metadata": {},
   "outputs": [],
   "source": [
    "postvac_occupancy_df.iloc[250:275,]"
   ]
  },
  {
   "cell_type": "markdown",
   "id": "4d507001",
   "metadata": {},
   "source": [
    "In order to make it easier to compute time averaged statistics, we will compute the amount of time between occupancy changes. These time durations will act as weights for computing time averaged statistics such as average occupancy. You cannot just do a simple average. "
   ]
  },
  {
   "cell_type": "code",
   "execution_count": null,
   "id": "811a7f80",
   "metadata": {},
   "outputs": [],
   "source": [
    "# Compute difference between ts[i] i and ts[i + 1] \n",
    "# (in pandas this corresponds to periods=-1 in diff() function)\n",
    "postvac_occupancy_df['occ_weight'] = -1 * postvac_occupancy_df['ts'].diff(periods=-1)\n",
    "vac_occupancy_df['occ_weight'] = -1 * postvac_occupancy_df['ts'].diff(periods=-1)\n",
    "\n",
    "# Need last occ_weight to compute weight for last row\n",
    "last_weight = clinic_end_time - postvac_occupancy_df.iloc[-1, 0]\n",
    "postvac_occupancy_df.fillna(last_weight, inplace=True)\n",
    "\n",
    "last_weight = clinic_end_time - vac_occupancy_df.iloc[-1, 0]\n",
    "vac_occupancy_df.fillna(last_weight, inplace=True)"
   ]
  },
  {
   "cell_type": "code",
   "execution_count": null,
   "id": "0e723f23",
   "metadata": {},
   "outputs": [],
   "source": [
    "np.average(a=postvac_occupancy_df['occ'], weights=postvac_occupancy_df['occ_weight'])"
   ]
  },
  {
   "cell_type": "markdown",
   "id": "b6be16b6",
   "metadata": {},
   "source": [
    "To make these ideas more concrete, just look at a few rows of the occupancy dataframe."
   ]
  },
  {
   "cell_type": "code",
   "execution_count": null,
   "id": "c90aa905",
   "metadata": {},
   "outputs": [],
   "source": [
    "postvac_occupancy_df"
   ]
  },
  {
   "cell_type": "markdown",
   "id": "d50681c4",
   "metadata": {},
   "source": [
    "Let's plot the occupancy over time in the post-vaccination stage. The first plot is the entire day and the second just focuses on a small time slice so that we can see that these are discrete integer changes in occupancy."
   ]
  },
  {
   "cell_type": "code",
   "execution_count": null,
   "id": "dccec305",
   "metadata": {},
   "outputs": [],
   "source": [
    "plt.step(postvac_occupancy_df['ts'], postvac_occupancy_df['occ'])"
   ]
  },
  {
   "cell_type": "code",
   "execution_count": null,
   "id": "c87a8ed2",
   "metadata": {},
   "outputs": [],
   "source": [
    "plt.step(postvac_occupancy_df['ts'], postvac_occupancy_df['occ'])\n",
    "plt.xlim(20, 24)\n",
    "plt.ylim(20, 55)\n",
    "plt.show();"
   ]
  },
  {
   "cell_type": "markdown",
   "id": "caf8d320",
   "metadata": {},
   "source": [
    "Now let's plot occupancy in the vaccination stage. Why does it look so different?"
   ]
  },
  {
   "cell_type": "code",
   "execution_count": null,
   "id": "9a270a20",
   "metadata": {},
   "outputs": [],
   "source": [
    "plt.step(vac_occupancy_df['ts'], vac_occupancy_df['occ'])"
   ]
  },
  {
   "cell_type": "markdown",
   "id": "67d323fb",
   "metadata": {},
   "source": [
    "For capacitated resources, we are often interested in utilization. This is just the ratio of total occupancy to available capacity."
   ]
  },
  {
   "cell_type": "code",
   "execution_count": null,
   "id": "e0e12dda",
   "metadata": {},
   "outputs": [],
   "source": [
    "num_vaccinators = 15\n",
    "available_capacity = clinic_end_time * num_vaccinators\n",
    "available_capacity"
   ]
  },
  {
   "cell_type": "code",
   "execution_count": null,
   "id": "45b8b4fe",
   "metadata": {},
   "outputs": [],
   "source": [
    "used_capacity = clinic_patient_log_df['vaccination_time'].sum()\n",
    "\n",
    "vaccinator_utilization = used_capacity / available_capacity\n",
    "\n",
    "print(f\"Vaccinator utilization: {vaccinator_utilization:0.3f}\")"
   ]
  },
  {
   "cell_type": "markdown",
   "id": "cc88a13c",
   "metadata": {},
   "source": [
    "To do things like weighted standard deviations or weighted quantiles, we can use the statsmodels package.\n",
    "\n",
    "https://www.statsmodels.org/stable/generated/statsmodels.stats.weightstats.DescrStatsW.html"
   ]
  },
  {
   "cell_type": "code",
   "execution_count": null,
   "id": "a944b5f9",
   "metadata": {},
   "outputs": [],
   "source": [
    "from statsmodels.stats.weightstats import DescrStatsW"
   ]
  },
  {
   "cell_type": "code",
   "execution_count": null,
   "id": "f7b44c84",
   "metadata": {},
   "outputs": [],
   "source": [
    "# Create a weighted stats object\n",
    "weighted_stats = DescrStatsW(postvac_occupancy_df['occ'], weights=postvac_occupancy_df['occ_weight'], ddof=0)"
   ]
  },
  {
   "cell_type": "code",
   "execution_count": null,
   "id": "3558a5e9",
   "metadata": {},
   "outputs": [],
   "source": [
    "weighted_stats.mean"
   ]
  },
  {
   "cell_type": "code",
   "execution_count": null,
   "id": "762df911",
   "metadata": {},
   "outputs": [],
   "source": [
    "weighted_stats.std"
   ]
  },
  {
   "cell_type": "code",
   "execution_count": null,
   "id": "cb25a444",
   "metadata": {},
   "outputs": [],
   "source": [
    "weighted_stats.quantile([0, 0.01, 0.05, 0.25, 0.50, 0.75, 0.95, 0.99])"
   ]
  },
  {
   "cell_type": "markdown",
   "id": "804d800b",
   "metadata": {},
   "source": [
    "If we want to minimize the \"startup effect\", we might throw out data for the first 100 patients."
   ]
  },
  {
   "cell_type": "code",
   "execution_count": null,
   "id": "5c44c909",
   "metadata": {},
   "outputs": [],
   "source": [
    "# Create a weighted stats object after throwing out first 100 points\n",
    "weighted_stats_gt100 = DescrStatsW(postvac_occupancy_df.iloc[100:, 1], weights=postvac_occupancy_df.iloc[100:, 2], ddof=0)\n",
    "\n",
    "print(weighted_stats_gt100.mean)\n",
    "print(weighted_stats_gt100.std)\n",
    "occ_quantiles = weighted_stats_gt100.quantile([0, 0.01, 0.05, 0.25, 0.50, 0.75, 0.95, 0.99])\n",
    "print(occ_quantiles)"
   ]
  },
  {
   "cell_type": "markdown",
   "id": "02c4868f",
   "metadata": {},
   "source": [
    "We can use these quantiles to create rough CDF and pdf plots of post-vaccination occupancy. From the table above and plot below we can see that about 75% of the time, there are 50 or less patients in the post-vaccination observation area."
   ]
  },
  {
   "cell_type": "code",
   "execution_count": null,
   "id": "7126af48",
   "metadata": {},
   "outputs": [],
   "source": [
    "plt.plot(occ_quantiles, occ_quantiles.index);"
   ]
  },
  {
   "cell_type": "markdown",
   "id": "02851bf1",
   "metadata": {},
   "source": [
    "The plot above is the CDF (cumulative distribution function - easy to see because it's non-decreasing and tops out at 1.0. Now, thet's plot the pdf (probability density function)."
   ]
  },
  {
   "cell_type": "code",
   "execution_count": null,
   "id": "f91be66a",
   "metadata": {},
   "outputs": [],
   "source": [
    "probs = -1 * pd.Series(occ_quantiles.index).diff(-1)\n",
    "probs.fillna(1.0 - sum(probs[:-1]), inplace=True)"
   ]
  },
  {
   "cell_type": "code",
   "execution_count": null,
   "id": "c95823a6",
   "metadata": {},
   "outputs": [],
   "source": [
    "probs"
   ]
  },
  {
   "cell_type": "code",
   "execution_count": null,
   "id": "afb166ad",
   "metadata": {},
   "outputs": [],
   "source": [
    "plt.plot(occ_quantiles, probs);"
   ]
  },
  {
   "cell_type": "markdown",
   "id": "8161db36",
   "metadata": {},
   "source": [
    "## Multiple replications\n",
    "Since our clinic opens and closes every day, it is technically known as a *terminating simulation*. For such simulations, we would usually run them multiple times to generate independent samples of our performance metrics (patient wait times, resource utilizations, ...). We'll see how to do this in the next version of our model, but for now, let's focus on analyzing output from multiple replications. \n",
    "\n",
    "I ran the model 15 times with 3 greeters, 3 registration staff, 15 vaccinators, and 3 scheduling staff. The (future version) simulation model creates a csv file with the detailed patient log values for each replications. Let's read it in and see what it looks like."
   ]
  },
  {
   "cell_type": "code",
   "execution_count": null,
   "id": "209fd42c",
   "metadata": {},
   "outputs": [],
   "source": [
    "patient_log_df_g3r3v15s3 = pd.read_csv('output/consolidated_clinic_patient_log_base_g3r3v15s3.csv')\n",
    "patient_log_df_g3r3v15s3"
   ]
  },
  {
   "cell_type": "markdown",
   "id": "1386a05a",
   "metadata": {},
   "source": [
    "Now we can group by `rep_num` and use the pandas `describe` function on any column we'd like. Let's look at `time_in_system`."
   ]
  },
  {
   "cell_type": "code",
   "execution_count": null,
   "id": "35b2b424",
   "metadata": {},
   "outputs": [],
   "source": [
    "stats_time_in_system = patient_log_df_g3r3v15s3.groupby(['rep_num'])['time_in_system'].describe()\n",
    "stats_time_in_system"
   ]
  },
  {
   "cell_type": "markdown",
   "id": "5919a946",
   "metadata": {},
   "source": [
    "Usually when doing simulation output analysis of terminating simulations, we want to give some sense of our uncertainty about summary statistics. We do this through confidence intervals (CI). In order to compute an approximate 95% CI on the mean time in system, we compute the mean (let's call it $\\bar{Y}$) and standard deviation (let's call it $S$) of the `mean` column in the above output of `describe`. Then our CI is:\n",
    "\n",
    "$$\n",
    "\\bar{Y} \\pm 1.96 \\frac{S}{\\sqrt{n}}\n",
    "$$\n",
    "\n",
    "where $n$ is the number of simulation replications and the $1.96$ is the 97.5th percentile of the standard normal distribution (since we are building a 95% CI, we want 2.5% outside of the upper and lower limits). You might recall from your basic statistics course that $\\frac{S}{\\sqrt{n}}$ is called the *standard error* and that $1.96 \\frac{S}{\\sqrt{n}}$ is called the *half-width* of the CI. What's nice about doing simulation is that we can make the half-width narrower by simply running more replications (and getting a more precise estimate of our mean performance measure)."
   ]
  },
  {
   "cell_type": "code",
   "execution_count": null,
   "id": "4e56ea6c",
   "metadata": {},
   "outputs": [],
   "source": [
    "n = stats_time_in_system['mean'].count()\n",
    "n"
   ]
  },
  {
   "cell_type": "code",
   "execution_count": null,
   "id": "05b39e31",
   "metadata": {},
   "outputs": [],
   "source": [
    "Y_bar = stats_time_in_system['mean'].mean()\n",
    "Y_bar"
   ]
  },
  {
   "cell_type": "code",
   "execution_count": null,
   "id": "86f12e4c",
   "metadata": {},
   "outputs": [],
   "source": [
    "S = stats_time_in_system['mean'].std()\n",
    "S"
   ]
  },
  {
   "cell_type": "markdown",
   "id": "57954498",
   "metadata": {},
   "source": [
    "... and here's the confidence interval on the **mean** time in system."
   ]
  },
  {
   "cell_type": "code",
   "execution_count": null,
   "id": "efa04cc6",
   "metadata": {},
   "outputs": [],
   "source": [
    "print(f\"({Y_bar - 1.96 * S / math.sqrt(n):.3f}, {Y_bar + 1.96 * S / math.sqrt(n):.3f}) minutes\")"
   ]
  },
  {
   "cell_type": "markdown",
   "id": "c1ff8bbf",
   "metadata": {},
   "source": [
    "Remember, a CI on the **mean of some performance measure** is **NOT** the same as the percentiles of the distribution of the individual time in system values. For example, here's a histogram of all of the `time_in_system` values across all the replications. "
   ]
  },
  {
   "cell_type": "code",
   "execution_count": null,
   "id": "5a2434ff",
   "metadata": {},
   "outputs": [],
   "source": [
    "plt.hist(patient_log_df_g3r3v15s3['time_in_system']);"
   ]
  },
  {
   "cell_type": "markdown",
   "id": "ca7a483a",
   "metadata": {},
   "source": [
    "### Possible improvements\n",
    "\n",
    "Now that we have a rough first model working, let's think about some possible improvements. There are many as we've taken numerous shortcuts to get this model working. We definitely want to make it easier to experiment with different scenarios involving capacity levels and patient volume. A few potential improvements include:\n",
    "\n",
    "* Specifying the global sim inputs through a command line interface (CLI)\n",
    "* Getting rid of hard coded processing time distributions\n",
    "* Automating the post-processing of simulation outputs to create summary statistics.\n",
    "\n",
    "There are many more possible improvements. For example, it would be nice to model arrivals in which a batch of patients is given an appointment time every, say, 10 minutes.\n",
    "\n",
    "In the next notebook, we'll tackle some of these improvements."
   ]
  },
  {
   "cell_type": "markdown",
   "id": "22d9d3c3",
   "metadata": {},
   "source": [
    "## More SimPy resources\n",
    "I suggest taking a look at some the following resources to get a sense of different ways of building SimPy models.\n",
    "\n",
    "* [SimPy in 10 Minutes](https://simpy.readthedocs.io/en/latest/simpy_intro/index.html) - the \"Hello, world\" of SimPy\n",
    "* [Example models from the SimPy documentation](https://simpy.readthedocs.io/en/latest/examples/index.html#all-examples) - demonstrates various features of SimPy through relatively simple models\n",
    "* [SimPy: Simulating Real-World Processes With Python](https://realpython.com/simpy-simulating-with-python/) - a very good introductory tutorial\n",
    "* [Getting started with SimPy for patient flow modeling ](http://hselab.org/simpy-getting-started-patient-flow-modeling.html) - one of my blog posts on SimPy modeling using a process focused approach\n",
    "* [An object oriented SimPy patient flow simulation model ](http://hselab.org/simpy-first-oo-patflow-model.html) - one of my blog posts on SimPy modeling using an object oriented approach\n",
    "* [Basic Network Simulations and Beyond in Python](https://www.grotto-networking.com/DiscreteEventPython.html#Intro) - good examples of network simulation models, building components to extend SimPy components. I found this site very helpful when I was building the patient flow models in the above two blog posts."
   ]
  },
  {
   "cell_type": "raw",
   "id": "41b13b00",
   "metadata": {},
   "source": []
  }
 ],
 "metadata": {
  "kernelspec": {
   "display_name": "Python 3",
   "language": "python",
   "name": "python3"
  },
  "language_info": {
   "codemirror_mode": {
    "name": "ipython",
    "version": 3
   },
   "file_extension": ".py",
   "mimetype": "text/x-python",
   "name": "python",
   "nbconvert_exporter": "python",
   "pygments_lexer": "ipython3",
   "version": "3.7.10"
  }
 },
 "nbformat": 4,
 "nbformat_minor": 5
}
