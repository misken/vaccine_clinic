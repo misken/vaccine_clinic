{
 "cells": [
  {
   "cell_type": "code",
   "execution_count": 1,
   "id": "bf12a31d",
   "metadata": {},
   "outputs": [],
   "source": [
    "%load_ext autoreload\n",
    "%autoreload 2"
   ]
  },
  {
   "cell_type": "markdown",
   "id": "fd63f14c",
   "metadata": {},
   "source": [
    "# Using vaccine clinic model to explore scenarios\n",
    "\n",
    "I've installed the vaccine_clinic package locally with\n",
    "\n",
    "```python\n",
    "pip install .\n",
    "```\n",
    "\n",
    "Before doing that, I added the following to `__init__.py` in the `src/vaccine_clinic` folder:\n",
    "\n",
    "```python\n",
    "from vaccine_clinic.vaccine_clinic_model4 import simulate\n",
    "from vaccine_clinic.vaccine_clinic_model4 import process_sim_output\n",
    "```\n",
    "\n",
    "so that we can do the following import:\n",
    "\n",
    "```python\n",
    "from vaccine_clinic import simulate, process_sim_output\n",
    "```"
   ]
  },
  {
   "cell_type": "code",
   "execution_count": 1,
   "id": "bc03a4ff",
   "metadata": {},
   "outputs": [],
   "source": [
    "from pathlib import Path\n",
    "\n",
    "import pandas as pd\n",
    "import matplotlib.pyplot as plt\n",
    "\n",
    "from vaccine_clinic import simulate, process_sim_output\n"
   ]
  },
  {
   "cell_type": "markdown",
   "id": "f0b66d96",
   "metadata": {},
   "source": [
    "The following code comes from the `use_vaccine_clinic_model4.py` that I had created just to facilitate testing things out during development. However, it lends itself well to using from a Jupyter notebook to quickly explore different scenarios. We can edit any input arguments we want by making changes to the `args` dictionary and making sure to update the `scenario` value.\n",
    "\n",
    "For example, earlier in this module we saw that with 3 reg staff, patients were waiting a few minutes at this stage. Let's increase the number of reg staff to 4, leave the number of greeters and schedulers at 3, and try 13 vaccinators. I'll set the `scenario = 'base_g3r4v13s3'`."
   ]
  },
  {
   "cell_type": "code",
   "execution_count": 10,
   "id": "f8c2dee0",
   "metadata": {},
   "outputs": [
    {
     "name": "stdout",
     "output_type": "stream",
     "text": [
      "2037 patients processed.\n",
      "Simulation replication 1 ended at time 650.9323396039616\n",
      "2000 patients processed.\n",
      "Simulation replication 2 ended at time 639.5944743127407\n",
      "1946 patients processed.\n",
      "Simulation replication 3 ended at time 623.9747577923077\n",
      "1935 patients processed.\n",
      "Simulation replication 4 ended at time 639.207739270032\n",
      "2029 patients processed.\n",
      "Simulation replication 5 ended at time 650.7507246488008\n",
      "2060 patients processed.\n",
      "Simulation replication 6 ended at time 661.0711585414243\n",
      "1994 patients processed.\n",
      "Simulation replication 7 ended at time 637.3791001538883\n",
      "1965 patients processed.\n",
      "Simulation replication 8 ended at time 632.4011950690874\n",
      "2034 patients processed.\n",
      "Simulation replication 9 ended at time 645.9149584757758\n",
      "1951 patients processed.\n",
      "Simulation replication 10 ended at time 630.0706517455507\n",
      "2016 patients processed.\n",
      "Simulation replication 11 ended at time 644.2269085106832\n",
      "2034 patients processed.\n",
      "Simulation replication 12 ended at time 652.016102349995\n",
      "1954 patients processed.\n",
      "Simulation replication 13 ended at time 630.237869569454\n",
      "2012 patients processed.\n",
      "Simulation replication 14 ended at time 648.4204511075831\n",
      "1951 patients processed.\n",
      "Simulation replication 15 ended at time 624.7828482403797\n",
      "\n",
      "Scenario: par200_g2r4v13s2\n",
      "             wait_for_greeter  wait_for_reg  wait_for_vaccinator  wait_for_scheduler  time_in_system\n",
      "n_samples              15.000        15.000               15.000              15.000          15.000\n",
      "mean_mean               0.028         0.896               10.227               0.506          32.408\n",
      "sd_mean                 0.003         0.250                4.469               0.078           4.618\n",
      "ci_95_lower             0.026         0.769                7.966               0.467          30.071\n",
      "ci_95_upper             0.029         1.022               12.489               0.546          34.745\n",
      "{'wait_for_greeter':           count   mean    std  min  25%  50%        75%    max\n",
      "rep_num                                                       \n",
      "1        2037.0  0.030  0.067  0.0  0.0  0.0  7.164e-03  0.460\n",
      "2        2000.0  0.030  0.068  0.0  0.0  0.0  0.000e+00  0.553\n",
      "3        1946.0  0.026  0.066  0.0  0.0  0.0  0.000e+00  0.603\n",
      "4        1935.0  0.026  0.062  0.0  0.0  0.0  0.000e+00  0.445\n",
      "5        2029.0  0.031  0.074  0.0  0.0  0.0  0.000e+00  0.524\n",
      "6        2060.0  0.029  0.066  0.0  0.0  0.0  8.364e-03  0.532\n",
      "7        1994.0  0.032  0.075  0.0  0.0  0.0  3.546e-03  0.648\n",
      "8        1965.0  0.022  0.055  0.0  0.0  0.0  0.000e+00  0.371\n",
      "9        2034.0  0.027  0.066  0.0  0.0  0.0  0.000e+00  0.546\n",
      "10       1951.0  0.026  0.065  0.0  0.0  0.0  0.000e+00  0.620\n",
      "11       2016.0  0.032  0.074  0.0  0.0  0.0  9.255e-03  0.614\n",
      "12       2034.0  0.026  0.062  0.0  0.0  0.0  0.000e+00  0.442\n",
      "13       1954.0  0.024  0.058  0.0  0.0  0.0  0.000e+00  0.378\n",
      "14       2012.0  0.030  0.067  0.0  0.0  0.0  8.059e-05  0.507\n",
      "15       1951.0  0.025  0.062  0.0  0.0  0.0  0.000e+00  0.580, 'wait_for_reg':           count   mean    std  min  25%    50%    75%    max\n",
      "rep_num                                                     \n",
      "1        2037.0  1.082  1.677  0.0  0.0  0.467  1.394  8.853\n",
      "2        2000.0  0.553  0.820  0.0  0.0  0.135  0.831  4.193\n",
      "3        1946.0  0.775  1.166  0.0  0.0  0.243  1.093  6.462\n",
      "4        1935.0  0.764  1.083  0.0  0.0  0.240  1.239  6.082\n",
      "5        2029.0  1.131  1.508  0.0  0.0  0.506  1.668  6.550\n",
      "6        2060.0  1.005  1.037  0.0  0.0  0.675  1.788  4.479\n",
      "7        1994.0  0.890  1.367  0.0  0.0  0.209  1.243  7.458\n",
      "8        1965.0  0.736  0.951  0.0  0.0  0.324  1.155  4.164\n",
      "9        2034.0  1.410  1.993  0.0  0.0  0.465  2.015  9.496\n",
      "10       1951.0  0.605  0.774  0.0  0.0  0.276  0.999  4.060\n",
      "11       2016.0  0.963  1.149  0.0  0.0  0.538  1.496  6.037\n",
      "12       2034.0  1.294  1.855  0.0  0.0  0.351  1.824  7.288\n",
      "13       1954.0  0.819  0.996  0.0  0.0  0.404  1.424  5.353\n",
      "14       2012.0  0.771  1.098  0.0  0.0  0.323  1.217  6.678\n",
      "15       1951.0  0.640  0.838  0.0  0.0  0.270  1.052  4.796, 'wait_for_vaccinator':           count    mean     std  min     25%     50%     75%     max\n",
      "rep_num                                                             \n",
      "1        2037.0  12.183  10.102  0.0   2.260  11.888  20.785  31.297\n",
      "2        2000.0  12.883   5.357  0.0  10.094  13.721  17.057  21.892\n",
      "3        1946.0   5.355   3.008  0.0   2.890   5.199   7.709  12.193\n",
      "4        1935.0   4.816   4.159  0.0   1.426   4.337   6.360  17.153\n",
      "5        2029.0  14.451   9.389  0.0   7.033  12.582  22.777  31.985\n",
      "6        2060.0  20.653  10.729  0.0  11.533  22.075  28.794  38.508\n",
      "7        1994.0   9.074   4.806  0.0   5.946  10.631  12.556  18.145\n",
      "8        1965.0   7.873   4.039  0.0   4.963   8.481  10.505  16.788\n",
      "9        2034.0  12.825   7.491  0.0   4.223  16.726  18.805  23.127\n",
      "10       1951.0   7.618   3.770  0.0   5.664   7.790  10.879  13.989\n",
      "11       2016.0  12.257   4.067  0.0  10.038  11.971  14.841  20.971\n",
      "12       2034.0  14.441   6.711  0.0  11.044  15.639  19.242  28.029\n",
      "13       1954.0   5.515   3.179  0.0   3.263   5.051   7.931  12.791\n",
      "14       2012.0   7.083   6.866  0.0   1.548   5.050  11.974  26.015\n",
      "15       1951.0   6.383   3.196  0.0   4.390   6.544   8.832  13.989, 'wait_for_scheduler':           count   mean    std  min  25%    50%    75%    max\n",
      "rep_num                                                     \n",
      "1        1044.0  0.486  0.537  0.0  0.0  0.333  0.847  2.757\n",
      "2        1017.0  0.627  0.750  0.0  0.0  0.384  0.985  3.581\n",
      "3         908.0  0.396  0.535  0.0  0.0  0.144  0.670  3.058\n",
      "4         966.0  0.522  0.594  0.0  0.0  0.338  0.865  3.168\n",
      "5        1030.0  0.559  0.688  0.0  0.0  0.322  0.896  3.877\n",
      "6        1070.0  0.541  0.663  0.0  0.0  0.392  0.814  4.186\n",
      "7         978.0  0.436  0.534  0.0  0.0  0.224  0.718  2.687\n",
      "8         945.0  0.394  0.480  0.0  0.0  0.204  0.681  2.185\n",
      "9         988.0  0.487  0.551  0.0  0.0  0.332  0.818  2.997\n",
      "10        970.0  0.511  0.634  0.0  0.0  0.270  0.799  2.860\n",
      "11        998.0  0.569  0.600  0.0  0.0  0.433  0.944  3.159\n",
      "12        999.0  0.430  0.516  0.0  0.0  0.225  0.731  2.857\n",
      "13        966.0  0.443  0.534  0.0  0.0  0.277  0.725  3.229\n",
      "14        985.0  0.551  0.676  0.0  0.0  0.299  0.927  3.603\n",
      "15        978.0  0.645  0.739  0.0  0.0  0.423  1.036  3.963, 'time_in_system':           count    mean     std     min     25%     50%     75%     max\n",
      "rep_num                                                                \n",
      "1        2037.0  34.525   9.849  18.975  25.251  34.515  42.761  57.900\n",
      "2        2000.0  34.642   5.788  19.024  31.719  35.272  39.106  49.220\n",
      "3        1946.0  27.426   3.385  18.638  24.847  27.541  29.990  39.521\n",
      "4        1935.0  26.864   4.841  18.321  23.225  26.114  29.182  44.383\n",
      "5        2029.0  36.859   9.834  18.240  29.042  35.001  45.535  61.152\n",
      "6        2060.0  42.991  10.820  19.210  33.473  43.820  51.349  65.403\n",
      "7        1994.0  31.242   4.931  18.969  27.927  32.202  34.545  45.215\n",
      "8        1965.0  29.898   4.237  19.162  27.063  30.218  32.843  41.672\n",
      "9        2034.0  35.509   7.182  19.543  29.444  38.245  41.138  48.406\n",
      "10       1951.0  29.524   4.010  18.759  27.340  29.975  32.348  40.967\n",
      "11       2016.0  34.590   4.395  20.189  31.681  34.090  37.455  47.415\n",
      "12       2034.0  36.987   6.849  18.800  33.193  37.492  42.469  52.451\n",
      "13       1954.0  27.631   3.546  18.338  24.901  27.313  30.257  38.663\n",
      "14       2012.0  29.139   7.318  18.761  23.658  26.770  33.119  51.600\n",
      "15       1951.0  28.293   3.547  19.158  25.806  28.469  30.901  38.351}\n"
     ]
    }
   ],
   "source": [
    "args = {'patient_arrival_rate': 180,\n",
    "        'num_greeters': 3,\n",
    "        'num_reg_staff': 3,\n",
    "        'num_vaccinators': 13,\n",
    "        'num_schedulers': 3,\n",
    "        'scenario': 'base_g3r4v13s3',\n",
    "        'pct_need_second_dose': 0.50,\n",
    "        'temp_check_time_mean': 0.25,\n",
    "        'temp_check_time_sd': 0.05,\n",
    "        'reg_time_mean': 1.0,\n",
    "        'vaccinate_time_mean': 4.0,\n",
    "        'vaccinate_time_sd': 0.5,\n",
    "        'sched_time_mean': 1.00,\n",
    "        'sched_time_sd': 0.10,\n",
    "        'obs_time': 15.0,\n",
    "        'post_obs_time_mean': 1.0,\n",
    "        'stoptime': 600,\n",
    "        'num_reps': 15,\n",
    "        'seed': 4470,\n",
    "        'output_path': 'output',\n",
    "        'quiet': True}\n",
    "\n",
    "# Pull out key variable values for convenience\n",
    "num_reps = args['num_reps']\n",
    "scenario = args['scenario']\n",
    "\n",
    "# Set the output directory\n",
    "if len(args['output_path']) > 0:\n",
    "    output_dir = Path.cwd() / args['output_path']\n",
    "else:\n",
    "    output_dir = Path.cwd()\n",
    "\n",
    "# Run the simulation for the desired number of replications\n",
    "for i in range(1, num_reps + 1):\n",
    "    simulate(args, i)\n",
    "\n",
    "# Consolidate the patient logs and compute summary stats\n",
    "patient_log_stats = process_sim_output(output_dir, scenario)\n",
    "\n",
    "# Print out summary statistics\n",
    "print(f\"\\nScenario: {scenario}\")\n",
    "pd.set_option(\"display.precision\", 3)\n",
    "pd.set_option('display.max_columns', None)\n",
    "pd.set_option('display.width', 120)\n",
    "print(patient_log_stats['patient_log_ci'])\n",
    "print(patient_log_stats['patient_log_rep_stats'])"
   ]
  },
  {
   "cell_type": "markdown",
   "id": "ed2f44dc",
   "metadata": {},
   "source": [
    "### Scenario: base_g3r4v12s3\n",
    "```\n",
    "Scenario: base_g3r4v12s3\n",
    "             wait_for_greeter  wait_for_reg  wait_for_vaccinator  wait_for_scheduler  time_in_system\n",
    "n_samples           1.500e+01        15.000               15.000              15.000          15.000\n",
    "mean_mean           3.136e-03         0.450                6.299               0.049          28.008\n",
    "sd_mean             6.619e-04         0.140                6.133               0.008           6.245\n",
    "ci_95_lower         2.801e-03         0.379                3.196               0.045          24.847\n",
    "ci_95_upper         3.471e-03         0.521                9.403               0.053          31.168\n",
    "```"
   ]
  },
  {
   "cell_type": "code",
   "execution_count": 11,
   "id": "6b2a4ee3",
   "metadata": {},
   "outputs": [
    {
     "name": "stdout",
     "output_type": "stream",
     "text": [
      "95th percentile of time in system: 48.6 mins\n"
     ]
    },
    {
     "data": {
      "image/png": "[encoded data removed]",
      "text/plain": [
       "<Figure size 432x288 with 1 Axes>"
      ]
     },
     "metadata": {
      "needs_background": "light"
     },
     "output_type": "display_data"
    }
   ],
   "source": [
    "patient_log_df_g3r4v12s3 = pd.read_csv('output/consolidated_clinic_patient_log_base_g3r4v12s3.csv')\n",
    "print(f\"95th percentile of time in system: {patient_log_df_g3r4v12s3['time_in_system'].quantile(0.95):.1f} mins\")\n",
    "plt.hist(patient_log_df_g3r4v12s3['time_in_system']);"
   ]
  },
  {
   "cell_type": "markdown",
   "id": "ce595775",
   "metadata": {},
   "source": [
    "### Scenario: base_g3r4v13s3\n",
    "```\n",
    "Scenario: base_g3r4v13s3\n",
    "             wait_for_greeter  wait_for_reg  wait_for_vaccinator  wait_for_scheduler  time_in_system\n",
    "n_samples           1.500e+01        15.000               15.000              15.000          15.000\n",
    "mean_mean           2.970e-03         0.458                1.105               0.050          22.823\n",
    "sd_mean             6.653e-04         0.080                0.385               0.009           0.400\n",
    "ci_95_lower         2.633e-03         0.417                0.910               0.046          22.621\n",
    "ci_95_upper         3.306e-03         0.499                1.300               0.055          23.025\n",
    "```"
   ]
  },
  {
   "cell_type": "code",
   "execution_count": 10,
   "id": "7693f093",
   "metadata": {},
   "outputs": [
    {
     "name": "stdout",
     "output_type": "stream",
     "text": [
      "95th percentile of time in system: 27.1 mins\n"
     ]
    },
    {
     "data": {
      "image/png": "[encoded data removed]",
      "text/plain": [
       "<Figure size 432x288 with 1 Axes>"
      ]
     },
     "metadata": {
      "needs_background": "light"
     },
     "output_type": "display_data"
    }
   ],
   "source": [
    "patient_log_df_g3r4v13s3 = pd.read_csv('output/consolidated_clinic_patient_log_base_g3r4v13s3.csv')\n",
    "print(f\"95th percentile of time in system: {patient_log_df_g3r4v13s3['time_in_system'].quantile(0.95):.1f} mins\")\n",
    "plt.hist(patient_log_df_g3r4v13s3['time_in_system']);"
   ]
  },
  {
   "cell_type": "markdown",
   "id": "b2b58ac4",
   "metadata": {},
   "source": [
    "Looks like we never wait at the greeter stage or scheduler stage. Perhaps we can get by with one less staff person in each of those areas."
   ]
  },
  {
   "cell_type": "code",
   "execution_count": 9,
   "id": "88b2f863",
   "metadata": {},
   "outputs": [
    {
     "name": "stdout",
     "output_type": "stream",
     "text": [
      "95th percentile of time in system: 26.7 mins\n"
     ]
    },
    {
     "data": {
      "image/png": "[encoded data removed]",
      "text/plain": [
       "<Figure size 432x288 with 1 Axes>"
      ]
     },
     "metadata": {
      "needs_background": "light"
     },
     "output_type": "display_data"
    }
   ],
   "source": [
    "patient_log_df_g2r4v13s2 = pd.read_csv('output/consolidated_clinic_patient_log_base_g2r4v13s2.csv')\n",
    "print(f\"95th percentile of time in system: {patient_log_df_g2r4v13s2['time_in_system'].quantile(0.95):.1f} mins\")\n",
    "plt.hist(patient_log_df_g2r4v13s2['time_in_system']);"
   ]
  },
  {
   "cell_type": "markdown",
   "id": "5aa3d4c3",
   "metadata": {},
   "source": [
    "Yep, looks like we can easily reduce those staff levels to 2.\n",
    "\n",
    "Now perhaps we might want to see if we can handle more volume with this capacity plan (g2r4v13s2). I'll crank it up to 200 patients per hour and label the scenario as 'par200_g2r4v13s2'."
   ]
  },
  {
   "cell_type": "code",
   "execution_count": 11,
   "id": "3c7615b4",
   "metadata": {},
   "outputs": [
    {
     "name": "stdout",
     "output_type": "stream",
     "text": [
      "95th percentile of time in system: 47.6 mins\n"
     ]
    },
    {
     "data": {
      "image/png": "[encoded data removed]",
      "text/plain": [
       "<Figure size 432x288 with 1 Axes>"
      ]
     },
     "metadata": {
      "needs_background": "light"
     },
     "output_type": "display_data"
    }
   ],
   "source": [
    "patient_log_df_par200_g2r4v13s2 = pd.read_csv('output/consolidated_clinic_patient_log_par200_g2r4v13s2.csv')\n",
    "print(f\"95th percentile of time in system: {patient_log_df_par200_g2r4v13s2['time_in_system'].quantile(0.95):.1f} mins\")\n",
    "plt.hist(patient_log_df_par200_g2r4v13s2['time_in_system']);"
   ]
  },
  {
   "cell_type": "markdown",
   "id": "644f315d",
   "metadata": {},
   "source": [
    "Now we are queueing for an average of about 10 minutes for the vaccinator. If this level of queueuing is deemed acceptable, then we might feel comfortable handling more patients.\n",
    "\n",
    "```\n",
    "Scenario: par200_g2r4v13s2\n",
    "             wait_for_greeter  wait_for_reg  wait_for_vaccinator  wait_for_scheduler  time_in_system\n",
    "n_samples              15.000        15.000               15.000              15.000          15.000\n",
    "mean_mean               0.028         0.896               10.227               0.506          32.408\n",
    "sd_mean                 0.003         0.250                4.469               0.078           4.618\n",
    "ci_95_lower             0.026         0.769                7.966               0.467          30.071\n",
    "ci_95_upper             0.029         1.022               12.489               0.546          34.745\n",
    "```\n",
    "\n",
    "Notice that while the mean time in system increased by about 10 minutes, the 95th percentile increased by about 20 minutes. Queueing systems are not linear things."
   ]
  },
  {
   "cell_type": "markdown",
   "id": "cbc12660",
   "metadata": {},
   "source": [
    "## Concluding thoughts\n",
    "We have a vaccine clinic model that we can run from the command line or from within a Jupyter notebook. All of the input arguments can be specified within a simple text based configuration file. Each run we do has a scenario name that gets used in the output filenames so that we can easily keep track of which outputs go with which scenarios. Now we can use this model to explore capacity planning problems of interest. For example:\n",
    "\n",
    "* For the target volume of 180 patients per hour, 3 greeters and 2 scheduling staff, how many vaccinators and how many registration staff would we need to keep the average total time spent in the clinic to under 40 minutes per patient? \n",
    "* how many staff of each type would we need if we wanted to be able to handle 500 patients per hour and still keep the average total time spent in the clinic to under 40 minutes per patient?\n",
    "* what if no one needed a second dose - how does this affect staffing needs?\n",
    "* ..."
   ]
  },
  {
   "cell_type": "code",
   "execution_count": null,
   "id": "c6952754",
   "metadata": {},
   "outputs": [],
   "source": []
  }
 ],
 "metadata": {
  "kernelspec": {
   "display_name": "Python 3",
   "language": "python",
   "name": "python3"
  },
  "language_info": {
   "codemirror_mode": {
    "name": "ipython",
    "version": 3
   },
   "file_extension": ".py",
   "mimetype": "text/x-python",
   "name": "python",
   "nbconvert_exporter": "python",
   "pygments_lexer": "ipython3",
   "version": "3.7.10"
  }
 },
 "nbformat": 4,
 "nbformat_minor": 5
}
