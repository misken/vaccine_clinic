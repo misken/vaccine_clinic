{
 "cells": [
  {
   "cell_type": "code",
   "execution_count": 1,
   "id": "b0943b94",
   "metadata": {},
   "outputs": [],
   "source": [
    "%load_ext autoreload\n",
    "%autoreload 2"
   ]
  },
  {
   "cell_type": "markdown",
   "id": "6de31081",
   "metadata": {},
   "source": [
    "## Model redesign and extensions\n",
    "After using a model, you often end up with ideas for redesigning it and extending it. I did two such modifications, leading to Model5 and Model6. Let's briefly discuss each."
   ]
  },
  {
   "cell_type": "markdown",
   "id": "468bc757",
   "metadata": {},
   "source": [
    "### Model5 - changes to `VaccineClinic` class\n",
    "In retrospect, it might make more sense to move the `get_vaccinated` and `run_clinic` functions into the `VaccineClinic` class as methods. These functions are directly related to processes of the clinic and implementing them as methods would cut down on the amount of argument passing we needed to do. Let's take a look at `vaccine_clinic_model5.py` (Model5) to see what this looks like."
   ]
  },
  {
   "cell_type": "markdown",
   "id": "4bffdc82",
   "metadata": {},
   "source": [
    "### Model6 - Multiple patient types\n",
    "Our first model, `vaccine_clinic_model4.py` (Model4), models patients with only a unique integer identifier. What if we wanted to have multiple patients types and wanted to be able to process patients types differently and compute performance measures by patient type? This suggests creating a `Patient` class in our model that has attributes to store things like patient type.\n",
    "\n",
    "The primary motivation for being able to handle multiple patient types in this model was wanting to have both walk-in patients as well as those with scheduled appointments. During the recent Covid-19 vaccination rollout, some clinics used an appointment system in which blocks of patients were scheduled every 10 or 15 minutes. It would be nice if our model could handle such an arrival stream in addition to walk-in patients (already modelled with a Poisson arrival process).\n",
    "\n",
    "Let's look at `vaccine_clinic_model6.py` (Model6) to see how these extensions could be done."
   ]
  },
  {
   "cell_type": "markdown",
   "id": "42fb2ed6",
   "metadata": {},
   "source": [
    "## Concluding thoughts"
   ]
  },
  {
   "cell_type": "markdown",
   "id": "d87675a6",
   "metadata": {},
   "source": [
    "Building simulation models definitely has elements of art and craft to it. As the modeler, you are constantly making model design decisions based on the goals of the project. Architecting a very general model for long term use in numerous projects is quite different than building a one-time model for a very specific purpose. Getting good at this means building models and exploring good models that others have built. \n",
    "\n",
    "A well crafted simulation model can be extremely valuable to its user community. A great example is the [ns-3 Network Simulation project](https://www.nsnam.org/). This is an open source computer network simulation package that has been around for many years and gets wide use in the research/development and educational communities. The underlying code is C++ and there are numerous tools that have been developed to facilitate building, visualizing and analyzing models. Hopefully, the popularity and accessibility of Python will lead to similar projects resulting in high quality simulation models that can be widely used by analysts and continually improved."
   ]
  },
  {
   "cell_type": "code",
   "execution_count": null,
   "id": "99325ec3",
   "metadata": {},
   "outputs": [],
   "source": []
  }
 ],
 "metadata": {
  "kernelspec": {
   "display_name": "Python 3",
   "language": "python",
   "name": "python3"
  },
  "language_info": {
   "codemirror_mode": {
    "name": "ipython",
    "version": 3
   },
   "file_extension": ".py",
   "mimetype": "text/x-python",
   "name": "python",
   "nbconvert_exporter": "python",
   "pygments_lexer": "ipython3",
   "version": "3.7.10"
  }
 },
 "nbformat": 4,
 "nbformat_minor": 5
}
